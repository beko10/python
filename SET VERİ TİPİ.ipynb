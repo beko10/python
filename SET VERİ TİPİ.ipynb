{
 "cells": [
  {
   "cell_type": "markdown",
   "id": "22e8625e",
   "metadata": {},
   "source": [
    "SET VERİ DİZİSİ\n",
    "------------------------\n",
    "1-Mutable(değiştirilebilir)\n",
    "\n",
    "2-Elemanlarinin sequnce number(index-sira numarasi) yoktur\n",
    "\n",
    "3-Set veri dizisi tanimlanirken \"{}\" süslü parantezleri arasina tanimlanir\n",
    "\n",
    "4-İçerisinde ayni değere sahip elemanlar barindirmaz veri dizisine yazilsa bile ayni olan elemanlardan sadece bir tanesini \n",
    "\n",
    "gosterir\n",
    "\n",
    "5-Elemanlar output yapildiginda siralri gelmez sebebi hash alg kullanmasi"
   ]
  },
  {
   "cell_type": "markdown",
   "id": "0747d5c5",
   "metadata": {},
   "source": [
    "ELEMANLARİN ÇIKTI OLARAK ALİNMASİ VE AYNİ ELEMANİN ÇIKTIDA GÖSTERİLMEMESİ \n",
    "----------------------------------------------------------------"
   ]
  },
  {
   "cell_type": "raw",
   "id": "08cb280e",
   "metadata": {},
   "source": [
    "1-AYNİ OLAN ELEMANLAR ÇIKTIDA GÖSTERİLMMEZ\n",
    "---------------------------------------------\n",
    "Aşagidaki örnekte görüldügü gibi ayni degere sahip olan elemalardan sadece 1 tanesi çıktıda gösterilir"
   ]
  },
  {
   "cell_type": "code",
   "execution_count": 1,
   "id": "a3a747dd",
   "metadata": {},
   "outputs": [
    {
     "name": "stdout",
     "output_type": "stream",
     "text": [
      "{1, 2, 3}\n"
     ]
    }
   ],
   "source": [
    "set1={1,2,3,3}\n",
    "print(set1)"
   ]
  },
  {
   "cell_type": "code",
   "execution_count": 11,
   "id": "2c658e55",
   "metadata": {},
   "outputs": [
    {
     "name": "stdout",
     "output_type": "stream",
     "text": [
      "{1, 2, 3, 4, 5, 6}\n"
     ]
    }
   ],
   "source": []
  },
  {
   "cell_type": "raw",
   "id": "e287cd82",
   "metadata": {},
   "source": [
    "2-ELEMANLARİN ÇIKTI OLARAK ALİNMASİ\n",
    "------------------------------------\n",
    "Aşagidaki örnekte de görüldügü gibi \"HASH\" alg. sayesinde veriler karişik olarak çiktıya verilir\n"
   ]
  },
  {
   "cell_type": "code",
   "execution_count": 9,
   "id": "9c8cb8c4",
   "metadata": {},
   "outputs": [
    {
     "name": "stdout",
     "output_type": "stream",
     "text": [
      "{10, 5, 86, 7}\n"
     ]
    }
   ],
   "source": [
    "set2={7,10,5,86}\n",
    "print(set2)"
   ]
  },
  {
   "cell_type": "markdown",
   "id": "3a1f9488",
   "metadata": {},
   "source": [
    "BOŞ SET TANİMLAMA YÖNTEMLERİ\n",
    "-------------------------------------------------------"
   ]
  },
  {
   "cell_type": "code",
   "execution_count": 13,
   "id": "afdc6cad",
   "metadata": {},
   "outputs": [
    {
     "name": "stdout",
     "output_type": "stream",
     "text": [
      "<class 'dict'>\n"
     ]
    }
   ],
   "source": [
    "set1={}\n",
    "set1\n",
    "print(type(set1))"
   ]
  },
  {
   "cell_type": "code",
   "execution_count": 4,
   "id": "a2919ef4",
   "metadata": {},
   "outputs": [
    {
     "data": {
      "text/plain": [
       "set()"
      ]
     },
     "execution_count": 4,
     "metadata": {},
     "output_type": "execute_result"
    }
   ],
   "source": [
    "set1=set()\n",
    "set1"
   ]
  },
  {
   "cell_type": "code",
   "execution_count": 5,
   "id": "3c1bdd62",
   "metadata": {},
   "outputs": [
    {
     "ename": "TypeError",
     "evalue": "'set' object is not subscriptable",
     "output_type": "error",
     "traceback": [
      "\u001b[1;31m---------------------------------------------------------------------------\u001b[0m",
      "\u001b[1;31mTypeError\u001b[0m                                 Traceback (most recent call last)",
      "Input \u001b[1;32mIn [5]\u001b[0m, in \u001b[0;36m<cell line: 1>\u001b[1;34m()\u001b[0m\n\u001b[1;32m----> 1\u001b[0m \u001b[38;5;28mprint\u001b[39m(\u001b[43mset1\u001b[49m\u001b[43m[\u001b[49m\u001b[38;5;241;43m0\u001b[39;49m\u001b[43m]\u001b[49m)\n",
      "\u001b[1;31mTypeError\u001b[0m: 'set' object is not subscriptable"
     ]
    }
   ],
   "source": [
    "print(set1[0])"
   ]
  },
  {
   "cell_type": "code",
   "execution_count": 12,
   "id": "5e1430b6",
   "metadata": {},
   "outputs": [
    {
     "name": "stdout",
     "output_type": "stream",
     "text": [
      "{10, 1, 2, 3}\n",
      "{10, 1, 2}\n"
     ]
    }
   ],
   "source": [
    "set1={1,2,3}\n",
    "set1.add(10)\n",
    "print(set1)\n",
    "set1.remove(3)\n",
    "print(set1)"
   ]
  },
  {
   "cell_type": "code",
   "execution_count": null,
   "id": "e2ea3fb5",
   "metadata": {},
   "outputs": [],
   "source": []
  }
 ],
 "metadata": {
  "kernelspec": {
   "display_name": "Python 3 (ipykernel)",
   "language": "python",
   "name": "python3"
  },
  "language_info": {
   "codemirror_mode": {
    "name": "ipython",
    "version": 3
   },
   "file_extension": ".py",
   "mimetype": "text/x-python",
   "name": "python",
   "nbconvert_exporter": "python",
   "pygments_lexer": "ipython3",
   "version": "3.10.2"
  }
 },
 "nbformat": 4,
 "nbformat_minor": 5
}
