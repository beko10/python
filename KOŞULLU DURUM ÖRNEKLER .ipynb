{
 "cells": [
  {
   "cell_type": "code",
   "execution_count": 1,
   "id": "01fe59e2",
   "metadata": {},
   "outputs": [
    {
     "name": "stdout",
     "output_type": "stream",
     "text": [
      "lutfen birinci sayiyi girin : 4\n",
      "lutfen ikinci sayiyi girin : 5\n",
      "toplama için 1'e basin\n",
      "cikarma için 2'e basin\n",
      "carpma icin 3'e basin\n",
      "bolme icin 4'e basin\n",
      "lutfen yapmak istediginiz islemi secin : 2\n",
      "girdiginiz sayilarin farki\n",
      "4 + 5 = -1 \n"
     ]
    }
   ],
   "source": [
    "try:\n",
    "\n",
    "    sayi1 = int(input(\"lutfen birinci sayiyi girin : \"))\n",
    "    sayi2 = int(input(\"lutfen ikinci sayiyi girin : \"))\n",
    "\n",
    "    print(\"toplama için 1'e basin\\ncikarma için 2'e basin\\ncarpma icin 3'e basin\\nbolme icin 4'e basin\")\n",
    "    secim = int(input(\"lutfen yapmak istediginiz islemi secin : \"))\n",
    "    if secim >= 1 and secim <= 4:\n",
    "\n",
    "\n",
    "        if secim == 1:\n",
    "            toplam = sayi1 + sayi2\n",
    "            print(\"girdiginiz sayilarin toplami\\n{} + {} = {} \".format(sayi1, sayi2, toplam))\n",
    "\n",
    "        elif secim == 2:\n",
    "            fark = sayi1 - sayi2\n",
    "            print(\"girdiginiz sayilarin farki\\n{} + {} = {} \".format(sayi1, sayi2, fark))\n",
    "\n",
    "        elif secim == 3:\n",
    "            carpim = sayi1 * sayi2\n",
    "            print(\"girdiginiz sayilarin carpimi\\n{} + {} = {} \".format(sayi1, sayi2, carpim))\n",
    "\n",
    "        elif secim == 4:\n",
    "            bolme = sayi1 / sayi2\n",
    "            print(\"girdiginiz sayilarin bolumu\\n{} + {} = {} \".format(sayi1, sayi2, bolme))\n",
    "    else:\n",
    "        print(\"gecersiz secim lutfen tekrar secim yapiniz...\")\n",
    "\n",
    "\n",
    "except ValueError:\n",
    "    print(\"opssss lutfen bir sayi girin....\")"
   ]
  },
  {
   "cell_type": "code",
   "execution_count": 2,
   "id": "fb33eaea",
   "metadata": {},
   "outputs": [
    {
     "name": "stdout",
     "output_type": "stream",
     "text": [
      "lutfen 1-4 arasinda bir sayi giriniz : 4\n",
      "dort\n"
     ]
    }
   ],
   "source": [
    "secim = int(input(\"lutfen 1-4 arasinda bir sayi giriniz : \"))\n",
    "if secim >= 1 and secim <=4:\n",
    "    if secim == 1:\n",
    "        print(\"bir\")\n",
    "    elif secim == 2:\n",
    "        print(\"iki\")\n",
    "    elif secim == 3:\n",
    "        print(\"uc\")\n",
    "    elif secim == 4:\n",
    "        print(\"dort\")\n",
    "else:\n",
    "    print(\"lufen belirtilen aralikta secim yapiniz...\")"
   ]
  },
  {
   "cell_type": "code",
   "execution_count": 3,
   "id": "f37c5311",
   "metadata": {},
   "outputs": [
    {
     "name": "stdout",
     "output_type": "stream",
     "text": [
      "lutfen bir ay isimi  girin : aralik\n",
      "aralik kis mavsimidir\n"
     ]
    }
   ],
   "source": [
    "ay = input(\"lutfen bir ay isimi  girin : \")\n",
    "\n",
    "if ay == \"ocak\" or ay == \"subat\" or ay == \"aralik\":\n",
    "    print(ay,\"kis mavsimidir\")\n",
    "elif ay == \"mart\" or ay == \"nisan\" or ay == \"mayis\":\n",
    "    print(ay,\"ilkbahar mevsimdir\")\n",
    "elif ay == \"haziran\" or ay == \"temmuz\" or ay == \"agustos\":\n",
    "    print(ay,\"yaz mavsimidir\")\n",
    "elif ay == \"eylul\" or ay == \"ekim\" or ay ==\"kasim\":\n",
    "    print(ay,\"sonbahar mevsimidir\")"
   ]
  },
  {
   "cell_type": "code",
   "execution_count": 4,
   "id": "e3602e2b",
   "metadata": {},
   "outputs": [
    {
     "name": "stdout",
     "output_type": "stream",
     "text": [
      "lutfen sairenizi girin8\n",
      "3 . kat\n"
     ]
    }
   ],
   "source": [
    "daire = int(input(\"lutfen dairenizi girin\"))\n",
    "\n",
    "if daire >= 1 and daire <= 3:\n",
    "    print(\"1 . kat\")\n",
    "elif daire >= 4 and daire <= 6:\n",
    "    print(\"2 . kat\")\n",
    "elif  daire >= 7 and daire <= 9:\n",
    "    print(\"3 . kat\")\n",
    "elif daire >=10 and daire <=12 :\n",
    "    print(\"4. kat\")\n",
    "elif daire >=13 and daire <=15 :\n",
    "    print(\"5. kat\")\n",
    "elif daire >=16 and daire <=18 :\n",
    "    print(\"6. kat\")"
   ]
  },
  {
   "cell_type": "code",
   "execution_count": 1,
   "id": "70e10ea1",
   "metadata": {},
   "outputs": [
    {
     "name": "stdout",
     "output_type": "stream",
     "text": [
      "lutfen sairenizi girin8\n",
      "3.kat\n"
     ]
    }
   ],
   "source": [
    "daire = int(input(\"lutfen dairenizi girin\"))\n",
    "\n",
    "if daire >15 and daire<=18:\n",
    "    print(\"6.kat\")\n",
    "elif daire >12:\n",
    "    print(\"5.kat\")\n",
    "elif daire >9:\n",
    "    print(\"4.kat\")\n",
    "elif daire > 6:\n",
    "    print(\"3.kat\")\n",
    "elif daire > 3:\n",
    "    print(\"2.kat\")\n",
    "elif daire >0:\n",
    "    print(\"1. kat\")"
   ]
  },
  {
   "cell_type": "code",
   "execution_count": 1,
   "id": "7a3aea0b",
   "metadata": {},
   "outputs": [
    {
     "name": "stdout",
     "output_type": "stream",
     "text": [
      "lutfen bir sayi giriniz : 4\n",
      "lutfen bir sayi giriniz : 8\n",
      "8 sayisi 4 sayisinin tam katidir ...\n"
     ]
    }
   ],
   "source": [
    "sayi1=int(input(\"lutfen bir sayi giriniz : \"))\n",
    "sayi2=int(input(\"lutfen bir sayi giriniz : \"))\n",
    "\n",
    "if sayi1 < sayi2 :\n",
    "    sayi1,sayi2 = sayi2,sayi1\n",
    "    \n",
    "if sayi1 % sayi2 == 0:\n",
    "    print(\"{} sayisi {} sayisinin tam katidir ...\".format(sayi1,sayi2))\n",
    "else:\n",
    "    print(\"{} sayisi {} sayisinin tam kati degildir ... \")\n",
    "    "
   ]
  },
  {
   "cell_type": "code",
   "execution_count": 3,
   "id": "d5311a3b",
   "metadata": {},
   "outputs": [
    {
     "name": "stdout",
     "output_type": "stream",
     "text": [
      "lutfen bir sayi giriniz : 457\n",
      "girdiginiz sayinin tek mi cift mi oldugu hesaplaniyor ... \n",
      "girdiginiz sayi tek sayidir ...\n"
     ]
    }
   ],
   "source": [
    "import time\n",
    "sayi=int(input(\"lutfen bir sayi giriniz : \"))\n",
    "\n",
    "print(\"girdiginiz sayinin tek mi cift mi oldugu hesaplaniyor ... \")\n",
    "time.sleep(3)\n",
    "if sayi % 2 == 0 :\n",
    "    print(\"girdiginiz sayi cift sayidir ...\")\n",
    "else:\n",
    "    print(\"girdiginiz sayi tek sayidir ...\")"
   ]
  },
  {
   "cell_type": "code",
   "execution_count": 10,
   "id": "5149b440",
   "metadata": {},
   "outputs": [
    {
     "name": "stdout",
     "output_type": "stream",
     "text": [
      "lutfen ales puaninizi ginin :100\n",
      "lutfen yds puaninizi girin : 100\n",
      "lutfen diploma puaninizi girin : 4\n",
      "ALES Puani = 100.0\n",
      "YDS Puani = 100.0\n",
      "DİPLOMA Puani = 4.0\n",
      "basvuru yapabilirsiniz ...\n",
      "100 üzerinden basvuru puaniniz =  100.0\n"
     ]
    }
   ],
   "source": [
    "ales,yds,diploma=float(input(\"lutfen ales puaninizi ginin :\")),\\\n",
    "                 float(input(\"lutfen yds puaninizi girin : \")),\\\n",
    "                 float(input(\"lutfen diploma puaninizi girin : \"))\n",
    "print(\"ALES Puani = {}\\nYDS Puani = {}\\nDİPLOMA Puani = {}\".format(ales,yds,diploma))\n",
    "\n",
    "if ales >= 60 and yds >= 60 and diploma >= 2.5:\n",
    "    print(\"basvuru yapabilirsiniz ...\")\n",
    "    print(\"100 üzerinden basvuru puaniniz = \",ales * 0.35 + yds * 0.25 + diploma * 0.4 * 25)\n",
    "else:\n",
    "    print(\"basvuru yapamazsiniz ...\")"
   ]
  },
  {
   "cell_type": "code",
   "execution_count": 11,
   "id": "d298e502",
   "metadata": {},
   "outputs": [
    {
     "name": "stdout",
     "output_type": "stream",
     "text": [
      "lutfen birinci sayiyi girin : 8\n",
      "lutfen ikinci sayiyi girin : 4\n",
      "lutfen ucuncu  sayiyi girin : -9\n",
      "-9\n",
      "8\n"
     ]
    }
   ],
   "source": [
    "sayi1,sayi2,sayi3 = int(input(\"lutfen birinci sayiyi girin : \")),\\\n",
    "                    int(input(\"lutfen ikinci sayiyi girin : \")),\\\n",
    "                    int(input(\"lutfen ucuncu  sayiyi girin : \"))\n",
    "\n",
    "# liste =[sayi1,sayi2,sayi3]\n",
    "# print(\"en büyük sayi : \" ,max(liste))\n",
    "# print(\"en kuçük sayi : \" ,min(liste))\n",
    "\n",
    "en_buyuk = sayi1\n",
    "en_kucuk = sayi1\n",
    "\n",
    "if sayi1 < sayi2 or sayi1 < sayi3:\n",
    "    en_buyuk = sayi2\n",
    "    if sayi2 < sayi3 :\n",
    "        en_buyuk = sayi3\n",
    "\n",
    "if sayi1 > sayi2 or sayi1 > sayi3:\n",
    "    en_kucuk = sayi2\n",
    "    if sayi2 > sayi3:\n",
    "        en_kucuk = sayi3\n",
    "\n",
    "print(en_kucuk)\n",
    "print(en_buyuk)"
   ]
  },
  {
   "cell_type": "code",
   "execution_count": 16,
   "id": "c7d9acf5",
   "metadata": {},
   "outputs": [
    {
     "name": "stdout",
     "output_type": "stream",
     "text": [
      "lutfen ucgenin birinci kenarini girin : 4\n",
      "lutfen ucgenin ikinci kenarini girin : 4\n",
      "lutfen ucgenin ucuncu  kenarini girin : 5\n",
      "ikizkenar ucgen \n"
     ]
    }
   ],
   "source": [
    "kenar1,kenar2,kenar3 = int(input(\"lutfen ucgenin birinci kenarini girin : \")) ,\\\n",
    "                       int(input(\"lutfen ucgenin ikinci kenarini girin : \")),\\\n",
    "                       int(input(\"lutfen ucgenin ucuncu  kenarini girin : \")),\\\n",
    "\n",
    "if ((abs(kenar1-kenar2)<kenar3 and kenar3 < kenar1 + kenar2) or (abs(kenar2-kenar3) < kenar1 and kenar1 < kenar2 + kenar3)or ((abs(kenar1 - kenar3) < kenar2) and kenar2 < kenar1 + kenar3)) :\n",
    "    if kenar1 == kenar2 and kenar1 == kenar3 :\n",
    "        print(\"eşkenar ucgen \")\n",
    "    elif kenar1 == kenar2 or kenar1 == kenar3 or kenar2 == kenar3 :\n",
    "        print(\"ikizkenar ucgen \")\n",
    "    else:\n",
    "        print(\"cesitkenar ucgen \")\n",
    "else:\n",
    "    print(\"girdiginiz kenarlaral ucgen cizilmez lutfen tekrar kenar girin \")"
   ]
  },
  {
   "cell_type": "code",
   "execution_count": null,
   "id": "5c1d18cc",
   "metadata": {},
   "outputs": [],
   "source": []
  },
  {
   "cell_type": "markdown",
   "id": "167bf02d",
   "metadata": {},
   "source": [
    "SET VERİ TPİNDEN FAYDALANARAK UCGENİN NE TİP UCGEN OLDUGUNU KONTROL ETTİK BUNU SET VERİ TİPİ AYNİ DEGERE SAHİP OLAN ELEMANLARİ \n",
    "\n",
    "İÇİNDE BARİNDİRMAMASİNDAN FAYDALANARAK YAPTİK "
   ]
  },
  {
   "cell_type": "code",
   "execution_count": 5,
   "id": "b1e9844b",
   "metadata": {},
   "outputs": [
    {
     "name": "stdout",
     "output_type": "stream",
     "text": [
      "lutfen ucgenin birinci kenarini girin : 4\n",
      "lutfen ucgenin ikinci kenarini girin : 4\n",
      "lutfen ucgenin ucuncu  kenarini girin : 7\n",
      "ikizkenar ucgen\n"
     ]
    }
   ],
   "source": [
    "kenar1,kenar2,kenar3 = int(input(\"lutfen ucgenin birinci kenarini girin : \")) ,\\\n",
    "                        int(input(\"lutfen ucgenin ikinci kenarini girin : \")),\\\n",
    "                        int(input(\"lutfen ucgenin ucuncu  kenarini girin : \")),\\\n",
    "\n",
    "kenarlar=set([kenar1,kenar2,kenar3])\n",
    "\n",
    "if ((abs(kenar1-kenar2)<kenar3 and kenar3 < kenar1 + kenar2) or (abs(kenar2-kenar3) < kenar1 and kenar1 < kenar2 + kenar3)or\n",
    "        ((abs(kenar1 - kenar3) < kenar2) and kenar2 < kenar1 + kenar3)) :\n",
    "      if len(kenarlar) == 1:\n",
    "          \n",
    "        \n",
    "        print(\"eşkenar ucgen\")\n",
    "        \n",
    "      \n",
    "      elif len(kenarlar) == 2:\n",
    "          \n",
    "            print(\"ikizkenar ucgen\")\n",
    "      \n",
    "      else:\n",
    "        print(\"cesitkenar ucgen\")\n",
    "        \n",
    "else:\n",
    "    print(\"girdiginiz kenarlaral ucgen cizilmez lutfen tekrar kenar girin \")"
   ]
  },
  {
   "cell_type": "code",
   "execution_count": null,
   "id": "768bec29",
   "metadata": {},
   "outputs": [],
   "source": [
    "boy=float(input(\"lutfen boyunuzu girin \"))\n",
    "kilo=int(input(\"lutfen kilo girin \"))\n",
    "\n",
    "\n",
    "vucut_kitle_indeksi = kilo / (boy * boy)\n",
    "\n",
    "if vucut_kitle_indeksi < 18.5:\n",
    "     print(\"zayif\")\n",
    "elif vucut_kitle_indeksi >= 18.5 and vucut_kitle_indeksi < 25:\n",
    "     print(\"normal\")\n",
    "elif vucut_kitle_indeksi >= 25 and vucut_kitle_indeksi < 30:\n",
    "     print(\"kilolu\")\n",
    "else:\n",
    "     print(\"obez\")\n"
   ]
  },
  {
   "cell_type": "code",
   "execution_count": 1,
   "id": "d64e2a6b",
   "metadata": {},
   "outputs": [
    {
     "name": "stdout",
     "output_type": "stream",
     "text": [
      "lutfen boyunuzu girin 4\n",
      "lutfen kilo girin 4\n",
      "zayif\n"
     ]
    }
   ],
   "source": [
    "boy=float(input(\"lutfen boyunuzu girin \"))\n",
    "kilo=int(input(\"lutfen kilo girin \"))\n",
    "\n",
    "\n",
    "vucut_kitle_indeksi = kilo / (boy * boy)\n",
    "\n",
    "if vucut_kitle_indeksi > 30:\n",
    "     print(\"obez\")\n",
    "elif vucut_kitle_indeksi >= 25:\n",
    "     print(\"kilolu\")\n",
    "elif vucut_kitle_indeksi >= 18.5:\n",
    "     print(\"normal\")\n",
    "else:\n",
    "     print(\"zayif\")"
   ]
  },
  {
   "cell_type": "code",
   "execution_count": 3,
   "id": "9fdb7ff3",
   "metadata": {},
   "outputs": [
    {
     "name": "stdout",
     "output_type": "stream",
     "text": [
      "lutfen bir harf girinA\n",
      "buyuk harf\n"
     ]
    }
   ],
   "source": [
    "harf=input(\"lutfen bir harf girin\") [0]\n",
    "#ord fonk ile girilen karakter ascii tablosundaki sayisal karsiligina donusturulerek buyuk kucuk harf kontrolu yapıldi\n",
    "if ord(harf)>= 65 and ord(harf) <= 90:\n",
    "    print(\"buyuk harf\")\n",
    "elif ord(harf) >= 97 and ord(harf) <= 122:\n",
    "    print(\"kucuk harf\")\n",
    "else:\n",
    "    print(\"girdiginiz harf ingiliz alfabesinde yok \")"
   ]
  },
  {
   "cell_type": "code",
   "execution_count": 8,
   "id": "c660a468",
   "metadata": {},
   "outputs": [
    {
     "name": "stdout",
     "output_type": "stream",
     "text": [
      "lutfen adinizi girin : a\n",
      "lutfen soyadinizi girins\n",
      "lutfen yasininizi girin : 5\n",
      "lutfen egitim durumunuzu girin girinlise\n",
      "ehliyet alamzsiniz\n"
     ]
    }
   ],
   "source": [
    "ad,soyad,yas,egitim = input(\"lutfen adinizi girin : \") , \\\n",
    "                      input(\"lutfen soyadinizi girin\") , \\\n",
    "                      int(input(\"lutfen yasininizi girin : \")) , \\\n",
    "                      input(\"lutfen egitim durumunuzu girin girin\") , \\\n",
    "\n",
    "if ((yas >= 18) and ((egitim == \"uni\") or (egitim ==\"lise\"))):\n",
    "    print(\"ehliyet alabilirsiniz\")\n",
    "else:\n",
    "    print(\"ehliyet alamzsiniz\")\n"
   ]
  },
  {
   "cell_type": "code",
   "execution_count": 9,
   "id": "9b232eb9",
   "metadata": {},
   "outputs": [
    {
     "name": "stdout",
     "output_type": "stream",
     "text": [
      "lutfen birinci yazili notunu giriniz : 4\n",
      "lutfen ikinci yazili notunu giriniz : 4\n",
      "lutfen sozlu  notunu giriniz : 4\n",
      "karne notu : 0\n"
     ]
    }
   ],
   "source": [
    "yazili1,yazili2,sozlu = int(input(\"lutfen birinci yazili notunu giriniz : \")) , \\\n",
    "                        int(input(\"lutfen ikinci yazili notunu giriniz : \")) , \\\n",
    "                        int(input(\"lutfen sozlu  notunu giriniz : \")) , \\\n",
    "\n",
    "ort=(yazili1 + yazili2 + sozlu ) / 3\n",
    "\n",
    "# if ort >= 85 :\n",
    "#     print(\"karne notu : 5\")\n",
    "# elif ort >=70 :\n",
    "#     print(\"karne notu : 4\")\n",
    "# elif ort >= 55:\n",
    "#     print(\"karne notu : 3\")\n",
    "# elif ort >= 45 :\n",
    "#     print(\"karne notu : 2\")\n",
    "# elif ort >=24 :\n",
    "#     print(\"karne notu : 1\")\n",
    "# else:\n",
    "#     print(\"karne notu : 0\")\n",
    "\n",
    "if ort > 0 and ort <= 24:\n",
    "    print(\"karne notu : 0\")\n",
    "elif ort > 24 and ort <= 44 :\n",
    "    print(\"karne notu : 1\")\n",
    "elif ort > 44 and ort <= 54 :\n",
    "    print(\"karne notu : 2\")\n",
    "elif ort > 54 and ort <= 69 :\n",
    "    print(\"karne notu : 3\")\n",
    "elif ort > 69 and ort <= 84 :\n",
    "    print(\"karne notu : 4\")\n",
    "else:\n",
    "    print(\"karne notu : 5\")"
   ]
  },
  {
   "cell_type": "code",
   "execution_count": 10,
   "id": "c47906e0",
   "metadata": {},
   "outputs": [
    {
     "name": "stdout",
     "output_type": "stream",
     "text": [
      "lutfen aracinizin yilini girin2002\n",
      "lutfen aracinizin ayini girin4\n",
      "lutfen aracin gununu girin1\n",
      "3. aşama\n"
     ]
    }
   ],
   "source": [
    "import datetime\n",
    "\n",
    "yil,ay,gun=int(input(\"lutfen aracinizin yilini girin\")),\\\n",
    "           int(input(\"lutfen aracinizin ayini girin\")),\\\n",
    "           int(input(\"lutfen aracin gununu girin\"))\n",
    "\n",
    "\n",
    "# liste=[yil,ay,gun]\n",
    "# print(liste)\n",
    "#print(yil)\n",
    "# print(type(liste[0]))\n",
    "eski=datetime.datetime(yil,ay,gun)\n",
    "simdi=datetime.datetime.now()\n",
    "\n",
    "gun=simdi - eski\n",
    "yenigun=gun.days\n",
    "if yenigun <= 365:\n",
    "     print(\"1. aşama servis\")\n",
    "elif yenigun > 365 and yenigun <365*2:\n",
    "     print(\"2. aşama\")\n",
    "else:\n",
    "    print(\"3. aşama\")\n",
    "    \n",
    "\n",
    "    \n",
    "    \n",
    "\n",
    "#tarih=input(\"lutfen aracinizin yola cikis tarihini girin  (örn : 20200/1/8) :\") \n",
    "# tarih=tarih.split(\"/\")\n",
    "# #print(tarih)\n",
    "# \n",
    "# eski=datetime.datetime(int(tarih[0]),int(tarih[1]),int(tarih[1]))\n",
    "# yeni=datetime.datetime.now()\n",
    "# gun=yeni-eski\n",
    "# yenigun=gun.days\n",
    "# print(yeni)\n",
    "# if yenigun <= 365:\n",
    "#       print(\"1. aşama servis\")\n",
    "# elif yenigun > 365 and yenigun <365*2:\n",
    "#       print(\"2. aşama\")\n",
    "# else:\n",
    "#      print(\"3. aşama\")\n"
   ]
  },
  {
   "cell_type": "code",
   "execution_count": null,
   "id": "5141c47f",
   "metadata": {},
   "outputs": [],
   "source": []
  }
 ],
 "metadata": {
  "kernelspec": {
   "display_name": "Python 3 (ipykernel)",
   "language": "python",
   "name": "python3"
  },
  "language_info": {
   "codemirror_mode": {
    "name": "ipython",
    "version": 3
   },
   "file_extension": ".py",
   "mimetype": "text/x-python",
   "name": "python",
   "nbconvert_exporter": "python",
   "pygments_lexer": "ipython3",
   "version": "3.10.2"
  }
 },
 "nbformat": 4,
 "nbformat_minor": 5
}
