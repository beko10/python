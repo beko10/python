{
 "cells": [
  {
   "cell_type": "markdown",
   "id": "c66c579c",
   "metadata": {},
   "source": [
    "İÇ İÇE FONK.\n",
    "---------------------\n",
    "\n",
    "İç içe fonk. dikkatli olunmasi gereken birkaç önemli nokta vardir ;\n",
    "\n",
    "1-İçteki fonk. cagirilirken parametre aliyor ise ona göre cagirilir.\n",
    "\n",
    "2-Diştaki fonk. parametre aliyor ve içteki fonk. parametre aliyor ise içteki fonk. cagirildiginda içteki fonk. parametresine\n",
    "\n",
    "diştaki fonk. parametresi yazilir.(faktoriyel örnegi)\n",
    "\n",
    "\n",
    "\n"
   ]
  },
  {
   "cell_type": "code",
   "execution_count": 3,
   "id": "a3aa769f",
   "metadata": {},
   "outputs": [
    {
     "name": "stdout",
     "output_type": "stream",
     "text": [
      "fonk2 den herkese merhaba\n",
      "fonk1 den herkese merhaba\n"
     ]
    }
   ],
   "source": [
    "def fonk1():\n",
    "    def fonk2():\n",
    "        print(\"fonk2 den herkese merhaba\")\n",
    "    fonk2()\n",
    "    print(\"fonk1 den herkese merhaba\")\n",
    "    \n",
    "fonk1()\n",
    "    "
   ]
  },
  {
   "cell_type": "code",
   "execution_count": 10,
   "id": "48f5abd8",
   "metadata": {},
   "outputs": [
    {
     "name": "stdout",
     "output_type": "stream",
     "text": [
      "merhaba\n",
      "nasilsin\n"
     ]
    }
   ],
   "source": [
    "def selam():\n",
    "    def selam_ver():\n",
    "        print(\"merhaba\")\n",
    "        def nasilsin():\n",
    "            print(\"nasilsin\")\n",
    "        nasilsin()#selam_ver fonk. içinde nasilsin fonk.cagirildi\n",
    "    selam_ver()#selam fonk. içinde selam_ver fonk. cagirildi\n",
    "   \n",
    "selam()#selam fonk. main de cagirildi"
   ]
  },
  {
   "cell_type": "code",
   "execution_count": 5,
   "id": "9a62b401",
   "metadata": {},
   "outputs": [
    {
     "name": "stdout",
     "output_type": "stream",
     "text": [
      "merhaba\n",
      "berkay\n"
     ]
    }
   ],
   "source": [
    "def isim_selamla(isim):\n",
    "    def selam_ver():\n",
    "        print(\"merhaba\")\n",
    "    selam_ver()#selam ver fonk. isim_selamla fonk. cagirildi(not: selam_ver fonk. parametre almadigi için parametresiz cagirildi)\n",
    "    print(isim)#isim_selamla fonk. aldigi isim ekrana basildi \n",
    "isim_selamla(\"berkay\")"
   ]
  },
  {
   "cell_type": "code",
   "execution_count": 11,
   "id": "cbb04bd0",
   "metadata": {},
   "outputs": [
    {
     "name": "stdout",
     "output_type": "stream",
     "text": [
      "120\n"
     ]
    }
   ],
   "source": [
    "def faktoriyel(sayi):\n",
    "    \n",
    "    if sayi >= 0 :\n",
    "        def faktoriyel_hesapla(gelen_sayi):\n",
    "            if gelen_sayi == 0 or gelen_sayi ==1:\n",
    "                return 1\n",
    "            else :\n",
    "                return gelen_sayi * faktoriyel_hesapla(gelen_sayi - 1)\n",
    "        return faktoriyel_hesapla(sayi)\n",
    "    else:\n",
    "        print(\"yanliş girdi...\")\n",
    "\n",
    "print(faktoriyel(5))"
   ]
  },
  {
   "cell_type": "markdown",
   "id": "ef774323",
   "metadata": {},
   "source": [
    "FONK. FONK. PARAMETRE OLARAK GÖNDERME\n",
    "--------------------------------------------------------------------------\n"
   ]
  },
  {
   "cell_type": "code",
   "execution_count": 4,
   "id": "c4668b85",
   "metadata": {},
   "outputs": [
    {
     "name": "stdout",
     "output_type": "stream",
     "text": [
      "fonk. calisti...\n",
      "soru sordum...\n",
      "fonk. calismasi bitti\n"
     ]
    }
   ],
   "source": [
    "def bilgi_ver(fonk):#bilgi ver fonk. gelecek fonk. adresi parametre olarak göderilir\n",
    "    print(\"fonk. calisti...\")\n",
    "    fonk()#parametre olarak gelen fonk. ram deki adresinde cagirilir \n",
    "    print(\"fonk. calismasi bitti\")\n",
    "def soru_sor():\n",
    "    print(\"soru sordum...\")\n",
    "bilgi_ver(soru_sor)"
   ]
  },
  {
   "cell_type": "code",
   "execution_count": 3,
   "id": "e1355a5b",
   "metadata": {},
   "outputs": [
    {
     "name": "stdout",
     "output_type": "stream",
     "text": [
      "fonk. calisti...\n",
      "soru sordum...\n",
      "fonk. calismasi bitti\n"
     ]
    }
   ],
   "source": [
    "def bilgi_ver(fonk):#bilgi ver fonk. gelecek fonk. adresi parametre olarak göderilir\n",
    "    def bilgi():\n",
    "        print(\"fonk. calisti...\")\n",
    "        fonk()#parametre olarak gelen fonk. ram deki adresinde cagirilir \n",
    "        print(\"fonk. calismasi bitti\")\n",
    "    return bilgi # bilgi_ver fonk. bilgi fonk. ramdeki adresini return eder \n",
    "def soru_sor():\n",
    "    print(\"soru sordum...\")\n",
    "\n",
    "bilgi_ver(soru_sor)()"
   ]
  },
  {
   "cell_type": "code",
   "execution_count": 7,
   "id": "c4f4b4fe",
   "metadata": {},
   "outputs": [
    {
     "name": "stdout",
     "output_type": "stream",
     "text": [
      "sayi gir :4\n",
      "sayi gir :5\n",
      "toplam =  9\n"
     ]
    }
   ],
   "source": [
    "def sayi_gir():\n",
    "    sayi1 = int(input(\"sayi gir :\"))\n",
    "    sayi2 = int(input(\"sayi gir :\"))\n",
    "    return sayi1 , sayi2\n",
    "\n",
    "def topla(fonk):\n",
    "    return fonk[0] + fonk [1] #sayi gir fonk. return edilen degerler açildi(fonk. gelen degerler tuple içinde tutuldugu için) ve toplandi\n",
    "    # return fonk (sayi_gir fonk. gelen parametrelerin tuple içinde tutldunu göstermek için yazildi)\n",
    "#sayi_gir()\n",
    "print(\"toplam = \",topla(sayi_gir()))"
   ]
  },
  {
   "cell_type": "code",
   "execution_count": null,
   "id": "2ad58799",
   "metadata": {},
   "outputs": [],
   "source": []
  }
 ],
 "metadata": {
  "kernelspec": {
   "display_name": "Python 3 (ipykernel)",
   "language": "python",
   "name": "python3"
  },
  "language_info": {
   "codemirror_mode": {
    "name": "ipython",
    "version": 3
   },
   "file_extension": ".py",
   "mimetype": "text/x-python",
   "name": "python",
   "nbconvert_exporter": "python",
   "pygments_lexer": "ipython3",
   "version": "3.10.2"
  }
 },
 "nbformat": 4,
 "nbformat_minor": 5
}
