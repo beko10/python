{
 "cells": [
  {
   "cell_type": "markdown",
   "id": "ec882c33",
   "metadata": {},
   "source": [
    "KARŞILAŞTIRMA OPERATÖRLERİ\n",
    "---------------------------------------------------"
   ]
  },
  {
   "cell_type": "markdown",
   "id": "25a30dbf",
   "metadata": {},
   "source": [
    "OPERATOR|GÖREVİ|ÖRNEK\n",
    "-|- | -|\n",
    "== | iki değer eşit ise True değil ise False | 2==2(True) , 2==3(False)\n",
    "!= | iki değer eşit değil ise True eşit ise False | 2!=3(True) , 2==2(False)\n",
    "> | soladaki değer sağdaki değerden büyük ise True değil ise False | 3>2(True) , 2<3(False)\n",
    "< | soldaki değer sağdaki değerden küçük ise True değil ise False  | 4<5(True) , 4<3(False)\n",
    "<= | soldaki değer sağdaki değerden küçük veya                     |8<=9(True) , 9<=9(True)\n",
    "   |eşit ise True değil ise False                                  | 9<=6(False)\n",
    ">= | soldaki değer sağdaki değerden büyük veya eşit ise True       |  6>=5(True) , 6=>6(True) \n",
    "   | değilse False                                                 |   5=>6(False)"
   ]
  },
  {
   "cell_type": "markdown",
   "id": "d6c7ee68",
   "metadata": {},
   "source": []
  },
  {
   "cell_type": "code",
   "execution_count": 1,
   "id": "01a01ba0",
   "metadata": {},
   "outputs": [
    {
     "data": {
      "text/plain": [
       "True"
      ]
     },
     "execution_count": 1,
     "metadata": {},
     "output_type": "execute_result"
    }
   ],
   "source": [
    "2==2"
   ]
  },
  {
   "cell_type": "code",
   "execution_count": 2,
   "id": "3db8ca31",
   "metadata": {},
   "outputs": [
    {
     "data": {
      "text/plain": [
       "True"
      ]
     },
     "execution_count": 2,
     "metadata": {},
     "output_type": "execute_result"
    }
   ],
   "source": [
    "\"berkay\"==\"berkay\""
   ]
  },
  {
   "cell_type": "code",
   "execution_count": 3,
   "id": "36d06500",
   "metadata": {},
   "outputs": [
    {
     "data": {
      "text/plain": [
       "True"
      ]
     },
     "execution_count": 3,
     "metadata": {},
     "output_type": "execute_result"
    }
   ],
   "source": [
    "[1,2,3]==[1,2,3]"
   ]
  },
  {
   "cell_type": "code",
   "execution_count": 4,
   "id": "b7e20e23",
   "metadata": {},
   "outputs": [
    {
     "data": {
      "text/plain": [
       "True"
      ]
     },
     "execution_count": 4,
     "metadata": {},
     "output_type": "execute_result"
    }
   ],
   "source": [
    "\"berkay\"!=\"aleyna\""
   ]
  },
  {
   "cell_type": "code",
   "execution_count": 5,
   "id": "353b8250",
   "metadata": {},
   "outputs": [
    {
     "data": {
      "text/plain": [
       "False"
      ]
     },
     "execution_count": 5,
     "metadata": {},
     "output_type": "execute_result"
    }
   ],
   "source": [
    "2!=2\n"
   ]
  },
  {
   "cell_type": "code",
   "execution_count": null,
   "id": "ba6524c9",
   "metadata": {},
   "outputs": [],
   "source": []
  }
 ],
 "metadata": {
  "kernelspec": {
   "display_name": "Python 3 (ipykernel)",
   "language": "python",
   "name": "python3"
  },
  "language_info": {
   "codemirror_mode": {
    "name": "ipython",
    "version": 3
   },
   "file_extension": ".py",
   "mimetype": "text/x-python",
   "name": "python",
   "nbconvert_exporter": "python",
   "pygments_lexer": "ipython3",
   "version": "3.10.2"
  }
 },
 "nbformat": 4,
 "nbformat_minor": 5
}
