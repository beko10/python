{
 "cells": [
  {
   "cell_type": "markdown",
   "id": "83a2e217",
   "metadata": {},
   "source": [
    "python mantiksal operatörleri soladan sağa doğru okur bunun sebebi kodun daha hizli çalismasini sağlamaktir"
   ]
  },
  {
   "cell_type": "markdown",
   "id": "ad9cc60a",
   "metadata": {},
   "source": [
    "#AND OPERATÖRÜ \n",
    "-----------------------------------\n",
    "python and operatörünü okurken verilen koşıllardan sadece bi tanesi \"false\" olduğunda diğer koşullara bakmak sebebi and operatörü \"true\" sonucu dödürmesi için bütün koşullarin \"true\" olmasai gerekmektedir"
   ]
  },
  {
   "cell_type": "markdown",
   "id": "7059f9e3",
   "metadata": {},
   "source": [
    "# GİRDİ1  |  GİRDİ2 | SONUC\n",
    "----------------------------------------------\n",
    "       0        |        0     |        0 \n",
    "       0        |        1     |        0\n",
    "       1        |        0     |        0\n",
    "       1        |        1     |        1"
   ]
  },
  {
   "cell_type": "code",
   "execution_count": 2,
   "id": "f4e156a9",
   "metadata": {},
   "outputs": [
    {
     "data": {
      "text/plain": [
       "False"
      ]
     },
     "execution_count": 2,
     "metadata": {},
     "output_type": "execute_result"
    }
   ],
   "source": [
    "5>4 and 3<2 and 4>2"
   ]
  },
  {
   "cell_type": "code",
   "execution_count": 4,
   "id": "891d4cd2",
   "metadata": {},
   "outputs": [
    {
     "data": {
      "text/plain": [
       "False"
      ]
     },
     "execution_count": 4,
     "metadata": {},
     "output_type": "execute_result"
    }
   ],
   "source": [
    "4>3 and 2>3 and 2<1"
   ]
  },
  {
   "cell_type": "code",
   "execution_count": 6,
   "id": "7a61543f",
   "metadata": {},
   "outputs": [
    {
     "data": {
      "text/plain": [
       "True"
      ]
     },
     "execution_count": 6,
     "metadata": {},
     "output_type": "execute_result"
    }
   ],
   "source": [
    "4>3 and 2>1 and 1<5\n"
   ]
  },
  {
   "cell_type": "code",
   "execution_count": null,
   "id": "c2427adb",
   "metadata": {},
   "outputs": [],
   "source": []
  },
  {
   "cell_type": "code",
   "execution_count": null,
   "id": "79fdaabc",
   "metadata": {},
   "outputs": [],
   "source": []
  },
  {
   "cell_type": "markdown",
   "id": "17ed9e60",
   "metadata": {},
   "source": [
    "# OR OPERATÖRÜ \n",
    "---------------------------------\n",
    "python or operatörünü okurken verilen koşullardan sadece bi tanesi \"true\" olursa diğer koşullara bakmaz sebebi or operetörünün \n",
    "\"true\" sonucunu dödürmesi için sadece bi koşulun \"true\" olmasi yeterlidir ancak her iki koşulunda \"false\" oldugu durumda \"false\"degeri dödürür"
   ]
  },
  {
   "cell_type": "markdown",
   "id": "192f591c",
   "metadata": {},
   "source": [
    "# GİRDİ1  | GİRDİ2  | SONUC\n",
    "    0           |        0     |        0 \n",
    "    0           |        1     |        1\n",
    "    1           |        0     |        1\n",
    "    1           |        1     |        1"
   ]
  },
  {
   "cell_type": "code",
   "execution_count": 5,
   "id": "64e6915b",
   "metadata": {},
   "outputs": [
    {
     "data": {
      "text/plain": [
       "True"
      ]
     },
     "execution_count": 5,
     "metadata": {},
     "output_type": "execute_result"
    }
   ],
   "source": [
    "4>5 or 5<6 or 8<9"
   ]
  },
  {
   "cell_type": "code",
   "execution_count": 10,
   "id": "51e55646",
   "metadata": {},
   "outputs": [
    {
     "data": {
      "text/plain": [
       "False"
      ]
     },
     "execution_count": 10,
     "metadata": {},
     "output_type": "execute_result"
    }
   ],
   "source": [
    "2<1 or 4>8 or 8<3"
   ]
  },
  {
   "cell_type": "code",
   "execution_count": null,
   "id": "66055575",
   "metadata": {},
   "outputs": [],
   "source": []
  },
  {
   "cell_type": "raw",
   "id": "d93d2906",
   "metadata": {},
   "source": [
    "# İDENTY(BENZERLİK)OPERETÖRÜ\n",
    "\n",
    "Benzerlik operatörleri hem tip hemde değer olarak aynı veya farlı olup olmadiğini öğrenmek için kullanilir\n",
    " \n",
    " \n",
    "\n",
    "1-İS BENZERLİK OPERATÖRÜ \n",
    "-----------------------------------------\n",
    "is benzerlik operatörü aynı tipte mi manasina gelmektedir\n",
    "\n",
    "Aşagida is operatörünün çalişmasinin doğruluk tablosu gösterilmiştir. Tablodanda açıkça görüldüğü üzere is benzerlik operatörü \n",
    "\n",
    "kullanılırken tip ve deger sorgulamasi birbirine and(&,ve) operatörü ile bağlanir.\n",
    "\n",
    "\n",
    "\n",
    "TİP       | DEGER  |  ÇIKTI \n",
    "-------------------------------------\n",
    "   0      |      0     |    0 \n",
    "   0      |      1     |    0 \n",
    "   1      |      0     |    0\n",
    "   1      |      1     |    1\n",
    "\n",
    "\n",
    "Tablodaki mantiksal değerler analiz edildiğinde is operatörü tip ve değer birbirine eşit olduğunda \"TRUE (1)\" sonucu\n",
    "\n",
    "dödürmektedir.Tip ve değer biribirine eşit olmadığı durumlarda ise \"FALSE (0)\" değeri dödürmektedir.\n",
    "\n",
    "print(5==5) #deger olarak eşit mi oldugunu sorguladik çıktı olarak \"TRUE\" çıktısı verir\n",
    "\n",
    "print(5 is 5) # tip olarak eşit mi oldugunu sorguladik çikti olarak \"TRUE\" çıktısı verir\n",
    "\n",
    "print(type(5) is type(5) and 5==5) # tip ve değer sorgulamasi yapildi çikti =  \"true\" \n",
    "\n",
    "\n",
    "\n"
   ]
  },
  {
   "cell_type": "code",
   "execution_count": 18,
   "id": "63d7c1f8",
   "metadata": {},
   "outputs": [
    {
     "name": "stdout",
     "output_type": "stream",
     "text": [
      "False\n",
      "True\n"
     ]
    }
   ],
   "source": [
    "print(type(5) is type(5.0) and 5==5.0)\n",
    "sayi1=10\n",
    "sayi2=10\n",
    "print(sayi1 is sayi2)"
   ]
  },
  {
   "cell_type": "code",
   "execution_count": 12,
   "id": "b48e749e",
   "metadata": {},
   "outputs": [
    {
     "name": "stdout",
     "output_type": "stream",
     "text": [
      "True\n"
     ]
    }
   ],
   "source": [
    "print(type(4) is type(5))"
   ]
  },
  {
   "cell_type": "code",
   "execution_count": 4,
   "id": "26902f2e",
   "metadata": {},
   "outputs": [
    {
     "name": "stdout",
     "output_type": "stream",
     "text": [
      "False\n"
     ]
    }
   ],
   "source": [
    "print(type(6) is type(10) and 6==10)"
   ]
  },
  {
   "cell_type": "code",
   "execution_count": 6,
   "id": "63ff6cbc",
   "metadata": {},
   "outputs": [
    {
     "name": "stdout",
     "output_type": "stream",
     "text": [
      "True\n"
     ]
    }
   ],
   "source": [
    "print(type(5) is type(5) and 5==5)"
   ]
  },
  {
   "cell_type": "raw",
   "id": "f9d56dab",
   "metadata": {},
   "source": [
    "2-İS NOT OPERATÖRÜ\n",
    "------------------------------------\n",
    "is not operatörü ayni tipte değil manasina gelmektedir\n",
    "\n",
    "Aşagida is operatörünün çalişmasinin doğruluk tablosu gösterilmiştir. Tablodanda açıkça görüldüğü üzere is benzerlik operatörü \n",
    "\n",
    "kullanılırken tip ve deger sorgulamasi birbirine or(|,veya) operatörü ile bağlanir.\n",
    "\n",
    "\n",
    "TİP       | DEGER  |  ÇIKTI \n",
    "-------------------------------------\n",
    "   0      |      0     |    0 \n",
    "   0      |      1     |    0 \n",
    "   1      |      0     |    0\n",
    "   1      |      1     |    1\n",
    "\n",
    "Tablodaki mantiksal değerler analiz edildiğinde is not operatörü tip ve değer birbirine eşit olmasada olduğunda \"TRUE (1)\" \n",
    "\n",
    "sonucu dödürmektedir.Tip ve değer birbirine eşir olmadığında \"FALSE (0)\" değeri dödürmektedir.\n",
    "\n",
    "dödürmektedir "
   ]
  },
  {
   "cell_type": "code",
   "execution_count": 7,
   "id": "86d36f45",
   "metadata": {},
   "outputs": [
    {
     "name": "stdout",
     "output_type": "stream",
     "text": [
      "True\n"
     ]
    }
   ],
   "source": [
    "print(type(5) is not type(5.0) or 5!=5.0)"
   ]
  },
  {
   "cell_type": "code",
   "execution_count": 8,
   "id": "1889ca41",
   "metadata": {},
   "outputs": [
    {
     "name": "stdout",
     "output_type": "stream",
     "text": [
      "True\n"
     ]
    }
   ],
   "source": [
    "print(type(6) is not type(8) or 6!=8)"
   ]
  },
  {
   "cell_type": "code",
   "execution_count": 9,
   "id": "2fdb6a83",
   "metadata": {},
   "outputs": [
    {
     "name": "stdout",
     "output_type": "stream",
     "text": [
      "False\n"
     ]
    }
   ],
   "source": [
    "print(type(6) is not type(6) or 6!=6)"
   ]
  },
  {
   "cell_type": "code",
   "execution_count": 10,
   "id": "955ae175",
   "metadata": {},
   "outputs": [
    {
     "name": "stdout",
     "output_type": "stream",
     "text": [
      "False\n"
     ]
    }
   ],
   "source": [
    "print(type(6) is not type(6))"
   ]
  },
  {
   "cell_type": "code",
   "execution_count": 1,
   "id": "a5d7e648",
   "metadata": {},
   "outputs": [
    {
     "name": "stdout",
     "output_type": "stream",
     "text": [
      "True\n"
     ]
    }
   ],
   "source": [
    "print(type(6) is not type(14.5))"
   ]
  },
  {
   "cell_type": "code",
   "execution_count": 2,
   "id": "b1b9c210",
   "metadata": {},
   "outputs": [
    {
     "name": "stdout",
     "output_type": "stream",
     "text": [
      "True\n"
     ]
    },
    {
     "name": "stderr",
     "output_type": "stream",
     "text": [
      "<>:1: SyntaxWarning: \"is not\" with a literal. Did you mean \"!=\"?\n",
      "<>:1: SyntaxWarning: \"is not\" with a literal. Did you mean \"!=\"?\n",
      "C:\\Users\\MSI\\AppData\\Local\\Temp\\ipykernel_7280\\1893324302.py:1: SyntaxWarning: \"is not\" with a literal. Did you mean \"!=\"?\n",
      "  print(0 is not None)\n"
     ]
    }
   ],
   "source": [
    "print(0 is not None)"
   ]
  },
  {
   "cell_type": "markdown",
   "id": "0179b540",
   "metadata": {},
   "source": [
    "# İSİNSTANCE FONKSİYONU\n",
    "---------------------------------------------------\n",
    "isinstance fonksiyonu yine tip konrolü yapar"
   ]
  },
  {
   "cell_type": "code",
   "execution_count": 13,
   "id": "6b5c0062",
   "metadata": {},
   "outputs": [
    {
     "name": "stdout",
     "output_type": "stream",
     "text": [
      "True\n"
     ]
    }
   ],
   "source": [
    "print(isinstance(10 , type(10)))#10 sayisi 10 sayisinin tipinde mi "
   ]
  },
  {
   "cell_type": "code",
   "execution_count": 15,
   "id": "e91a3ab8",
   "metadata": {},
   "outputs": [
    {
     "name": "stdout",
     "output_type": "stream",
     "text": [
      "True\n"
     ]
    }
   ],
   "source": [
    "print(not isinstance(12,type(14.5)) )"
   ]
  },
  {
   "cell_type": "markdown",
   "id": "23884664",
   "metadata": {},
   "source": [
    "# ÜYELİK(MEMBERSHİP) OPERATÖRLERİ\n",
    "--------------------------------------------------------------------\n",
    "\n",
    "1-in içinde mi \n",
    "\n",
    "2- not in içinde değil mi"
   ]
  },
  {
   "cell_type": "code",
   "execution_count": 21,
   "id": "a656394f",
   "metadata": {},
   "outputs": [
    {
     "name": "stdout",
     "output_type": "stream",
     "text": [
      "True\n"
     ]
    }
   ],
   "source": [
    "liste=[1,2,3]\n",
    "print(1 in liste)"
   ]
  },
  {
   "cell_type": "code",
   "execution_count": 22,
   "id": "c62eacd1",
   "metadata": {},
   "outputs": [
    {
     "name": "stdout",
     "output_type": "stream",
     "text": [
      "True\n"
     ]
    }
   ],
   "source": [
    "print(4 not in liste)"
   ]
  },
  {
   "cell_type": "code",
   "execution_count": 23,
   "id": "43352d81",
   "metadata": {},
   "outputs": [
    {
     "name": "stdout",
     "output_type": "stream",
     "text": [
      "False\n"
     ]
    }
   ],
   "source": [
    "print(2 not in liste)"
   ]
  },
  {
   "cell_type": "code",
   "execution_count": 24,
   "id": "ca75e6d8",
   "metadata": {},
   "outputs": [
    {
     "name": "stdout",
     "output_type": "stream",
     "text": [
      "True\n"
     ]
    }
   ],
   "source": [
    "isim=[\"berkay\",\"kaplan\"]\n",
    "print(\"berkay\" in isim)"
   ]
  },
  {
   "cell_type": "code",
   "execution_count": 25,
   "id": "3bb5ba0a",
   "metadata": {},
   "outputs": [
    {
     "name": "stdout",
     "output_type": "stream",
     "text": [
      "False\n"
     ]
    }
   ],
   "source": [
    "print(\"berkay\" not in isim)"
   ]
  },
  {
   "cell_type": "code",
   "execution_count": 2,
   "id": "8f7cee7e",
   "metadata": {},
   "outputs": [
    {
     "name": "stdout",
     "output_type": "stream",
     "text": [
      "True\n"
     ]
    }
   ],
   "source": [
    "isim=[\"berkay\",\"kaplan\"]\n",
    "print(\"aleyna\" not in isim)"
   ]
  },
  {
   "cell_type": "code",
   "execution_count": null,
   "id": "e46dcbdb",
   "metadata": {},
   "outputs": [],
   "source": []
  }
 ],
 "metadata": {
  "kernelspec": {
   "display_name": "Python 3 (ipykernel)",
   "language": "python",
   "name": "python3"
  },
  "language_info": {
   "codemirror_mode": {
    "name": "ipython",
    "version": 3
   },
   "file_extension": ".py",
   "mimetype": "text/x-python",
   "name": "python",
   "nbconvert_exporter": "python",
   "pygments_lexer": "ipython3",
   "version": "3.10.2"
  }
 },
 "nbformat": 4,
 "nbformat_minor": 5
}
