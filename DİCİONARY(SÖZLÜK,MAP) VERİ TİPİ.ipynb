{
 "cells": [
  {
   "cell_type": "markdown",
   "id": "0b28cb1f",
   "metadata": {},
   "source": [
    "DİCİONARY(SÖZLÜK,MAP) VERİ TİPİ\n",
    "-------------------------------------------------------\n",
    "1-Mutable(değiştirilebilir)\n",
    "\n",
    "2-Elemanlarinin sira numarasi yerine \"Key\"i vardir\n",
    "\n",
    "3-Anahtar-Kapı ilişkisi vardir(KEY-VALUVE)\n",
    "\n",
    "4-Tanimlama yapilirken \"{anahtar:kapi,anahtar2:kapi2}\"şeklinde tanimlanir \n",
    "\n",
    "5-Eğer anahtara ait birden fazla değer varsa tanimlama yapilirken  \"{anahtar:[kapi1,kapi2]}\""
   ]
  },
  {
   "cell_type": "code",
   "execution_count": null,
   "id": "95484b54",
   "metadata": {},
   "outputs": [],
   "source": []
  },
  {
   "cell_type": "code",
   "execution_count": 9,
   "id": "dcc32bff",
   "metadata": {},
   "outputs": [
    {
     "name": "stdout",
     "output_type": "stream",
     "text": [
      "{'123': 'berkay', '124': 'aleyna'}\n",
      "berkay\n"
     ]
    }
   ],
   "source": [
    "sozluk={\"123\":\"berkay\",\"124\":\"aleyna\"}\n",
    "print(sozluk)\n",
    "#123 \"KEY\"i berkay ifadesini işaret eder\n",
    "#124 \"KEY\"i aleyna ifadesine işaret eder\n",
    "print(sozluk[\"123\"])\n",
    "#sozluk içerisinde 123 \"KEY\"ine sahip elemani bul yazdir"
   ]
  },
  {
   "cell_type": "code",
   "execution_count": 14,
   "id": "bfe316a5",
   "metadata": {},
   "outputs": [
    {
     "name": "stdout",
     "output_type": "stream",
     "text": [
      "berkay\n",
      "dict_keys([123, 1234])\n",
      "dict_values(['berkay', 'aleyna'])\n",
      "dict_items([(123, 'berkay'), (1234, 'aleyna')])\n"
     ]
    }
   ],
   "source": [
    "sozluk={123:\"berkay\",1234:\"aleyna\"}\n",
    "print(sozluk[123])\n",
    "print(sozluk.keys())\n",
    "print(sozluk.values())\n",
    "print(sozluk.items())"
   ]
  },
  {
   "cell_type": "code",
   "execution_count": 29,
   "id": "ee9e7660",
   "metadata": {},
   "outputs": [
    {
     "name": "stdout",
     "output_type": "stream",
     "text": [
      "{123: 'berkay', 1234: 'aleyna', 12345: ['aleyna', 'eylul']}\n"
     ]
    }
   ],
   "source": [
    "sozluk1={123:\"berkay\",1234:\"aleyna\",12345:[\"aleyna\",\"eylul\"]}\n",
    "print(sozluk1)"
   ]
  },
  {
   "cell_type": "code",
   "execution_count": 4,
   "id": "826340ef",
   "metadata": {},
   "outputs": [
    {
     "name": "stdout",
     "output_type": "stream",
     "text": [
      "1\n"
     ]
    }
   ],
   "source": [
    "sozluk2 = {\"berkay\":10,12:\"aleyna\",14:[1,2,3,4],18:{\"berkay\":\"aleyna\"}}\n"
   ]
  },
  {
   "cell_type": "code",
   "execution_count": 5,
   "id": "bf64e3cc",
   "metadata": {},
   "outputs": [
    {
     "name": "stdout",
     "output_type": "stream",
     "text": [
      "1\n"
     ]
    }
   ],
   "source": [
    "print( sozluk2[14][0])#sozluk2 14 adindaki anhatarin 0. degerini yaz"
   ]
  },
  {
   "cell_type": "code",
   "execution_count": 7,
   "id": "ea05fe3f",
   "metadata": {},
   "outputs": [
    {
     "data": {
      "text/plain": [
       "'aleyna'"
      ]
     },
     "execution_count": 7,
     "metadata": {},
     "output_type": "execute_result"
    }
   ],
   "source": [
    "sozluk2[18][\"berkay\"]#sozluk2 18 adindaki anahtarin \"berkay\" adindaki anahtarin degerini yaz"
   ]
  },
  {
   "cell_type": "markdown",
   "id": "ba27b240",
   "metadata": {},
   "source": [
    "BOŞ DİCİONARY OLUŞTURMA YÖNTEMLERİ\n",
    "-----------------------------------------------------------------"
   ]
  },
  {
   "cell_type": "code",
   "execution_count": null,
   "id": "56dda0b0",
   "metadata": {},
   "outputs": [],
   "source": []
  },
  {
   "cell_type": "code",
   "execution_count": 4,
   "id": "51d166c1",
   "metadata": {},
   "outputs": [
    {
     "name": "stdout",
     "output_type": "stream",
     "text": [
      "{}\n",
      "{}\n"
     ]
    }
   ],
   "source": [
    "sozluk1={}\n",
    "sozluk2=dict()\n",
    "print(sozluk,sozluk1,sep=\"\\n\")"
   ]
  },
  {
   "cell_type": "markdown",
   "id": "2b38eb4d",
   "metadata": {},
   "source": [
    "DİCİONARY ELEMAN EKLEME\n",
    "------------------------------------------------"
   ]
  },
  {
   "cell_type": "code",
   "execution_count": 25,
   "id": "b214bc53",
   "metadata": {},
   "outputs": [
    {
     "name": "stdout",
     "output_type": "stream",
     "text": [
      "{'bilgisayar mühendisi': 'berkay', 'doktor': 'aleyna'}\n",
      "{'bilgisayar mühendisi': 'berkay', 'doktor': 'aleyna', 'qubit faruq': 'ömer'}\n"
     ]
    }
   ],
   "source": [
    "anahtar=[\"bilgisayar mühendisi\",\"doktor\"]\n",
    "deger=[\"berkay\",\"aleyna\"]\n",
    "bilgiler=dict(zip(anahtar,deger))\n",
    "print(bilgiler)\n",
    "\n",
    "bilgiler[\"qubit faruq\"]=\"ömer\"\n",
    "print(bilgiler)\n"
   ]
  },
  {
   "cell_type": "markdown",
   "id": "7f7220ed",
   "metadata": {},
   "source": [
    "SOZLUKTEN ELEMAN SİLME\n",
    "--------------------------------------------"
   ]
  },
  {
   "cell_type": "code",
   "execution_count": 27,
   "id": "55093c62",
   "metadata": {},
   "outputs": [
    {
     "name": "stdout",
     "output_type": "stream",
     "text": [
      "{'berkay': 'bilgisayar mühendisi', 'aleyna': 'doktor'}\n"
     ]
    }
   ],
   "source": [
    "sozluk={\"berkay\":\"bilgisayar mühendisi\",\"aleyna\":\"doktor\",\"eylul\":\"doktor\"}\n",
    "del sozluk[\"eylul\"]\n",
    "print(sozluk)"
   ]
  },
  {
   "cell_type": "markdown",
   "id": "8b36e344",
   "metadata": {},
   "source": [
    "SOZLUKTEKİ ELEMAN BİLGİLERİNİ DEĞİŞTİRME\n",
    "-------------------------------------------"
   ]
  },
  {
   "cell_type": "code",
   "execution_count": 26,
   "id": "25215714",
   "metadata": {},
   "outputs": [
    {
     "name": "stdout",
     "output_type": "stream",
     "text": [
      "{'bilgisayar mühendisi': 'berkay', 'doktor': 'aleyna', 'doktor1': 'melis'}\n"
     ]
    }
   ],
   "source": [
    "sozluk={\"bilgisayar mühendisi\":\"berkay\",\"doktor\":\"aleyna\",\"doktor1\":\"eylul\"}\n",
    "sozluk[\"doktor1\"]=\"melis\"\n",
    "print(sozluk)"
   ]
  },
  {
   "cell_type": "markdown",
   "id": "6009182f",
   "metadata": {},
   "source": [
    "DİCİONARY VERİ TİPİNDE ELEAMNLARİN DEĞERİNİ DEĞİŞTİRME\n",
    "-------------------------------------------------\n"
   ]
  },
  {
   "cell_type": "code",
   "execution_count": 11,
   "id": "693b8796",
   "metadata": {},
   "outputs": [
    {
     "name": "stdout",
     "output_type": "stream",
     "text": [
      "aleyna1\n"
     ]
    }
   ],
   "source": [
    "sozluk[\"123\"]=\"aleyna1\"\n",
    "print(sozluk[\"123\"])"
   ]
  },
  {
   "cell_type": "code",
   "execution_count": null,
   "id": "f62f50f9",
   "metadata": {},
   "outputs": [],
   "source": []
  },
  {
   "cell_type": "code",
   "execution_count": 14,
   "id": "d98a6561",
   "metadata": {},
   "outputs": [
    {
     "name": "stdout",
     "output_type": "stream",
     "text": [
      "{}\n",
      "<class 'dict'>\n"
     ]
    }
   ],
   "source": [
    "bos_sozluk=dict()\n",
    "print(bos_sozluk)\n",
    "print(type(bos_sozluk))"
   ]
  },
  {
   "cell_type": "code",
   "execution_count": null,
   "id": "0075863b",
   "metadata": {},
   "outputs": [],
   "source": []
  }
 ],
 "metadata": {
  "kernelspec": {
   "display_name": "Python 3 (ipykernel)",
   "language": "python",
   "name": "python3"
  },
  "language_info": {
   "codemirror_mode": {
    "name": "ipython",
    "version": 3
   },
   "file_extension": ".py",
   "mimetype": "text/x-python",
   "name": "python",
   "nbconvert_exporter": "python",
   "pygments_lexer": "ipython3",
   "version": "3.10.2"
  }
 },
 "nbformat": 4,
 "nbformat_minor": 5
}
