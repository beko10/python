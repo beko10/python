{
 "cells": [
  {
   "cell_type": "markdown",
   "id": "1415fbef",
   "metadata": {},
   "source": [
    "PYTHON KODLARİNİN ÇALİŞMA MANTİĞİ\n",
    "--------------------------------------------------------------\n",
    "Python kod bloklari biribirinden girintiler kullanarak birbirinden ayrilir.Önceki prpgramlama dillerinde bu kod bloklari \n",
    "\n",
    "\"{}\"süslü parantezlerle ayrilirdi lakin python bu kod bloklarini girintiler sayesinde ayrir.Aşagidaki örnekte C++ dili ile \n",
    "\n",
    "yazilmiş bir kod ve python ile yazilmiş bir kod verilmiştir her iki kodda analiz edildiğinde eşit sayida kod bloğundan \n",
    "\n",
    "oluşmaktadir ve  ayni işi yapmaktadir aradaki tek fark syntx ve kod bloklarinin birbirinden ayrilmasidir.Her iki kodda da\n",
    "\n",
    "if bloğundaki şart sağlanir ise yani if bloğu \"True\" dödürürse if bloğuna girer. \n",
    "\n",
    "int main (){\n",
    "\n",
    "\n",
    "a=5 //blok 1\n",
    "\n",
    "if(a==5)//blok 2\n",
    "{\n",
    " cout<<\"if bloğu çalişti...\";\n",
    " cout<<a;\n",
    " cout<<\"if bolğundan çıkıliyor..\"  \n",
    "}   \n",
    "   \n",
    "    \n",
    "cout<<\"merhaba\";//blok1\n",
    "\n",
    "}"
   ]
  },
  {
   "cell_type": "code",
   "execution_count": 3,
   "id": "86ba8b23",
   "metadata": {},
   "outputs": [
    {
     "name": "stdout",
     "output_type": "stream",
     "text": [
      "if bloğu çalişti...\n",
      "5\n",
      "if bloğundan çikiliyor...\n",
      "merhaba\n"
     ]
    }
   ],
   "source": [
    "a=5#blok 1\n",
    "if(a==5):#blok 2\n",
    "    print(\"if bloğu çalişti...\")\n",
    "    print(a)\n",
    "    print(\"if bloğundan çikiliyor...\")\n",
    "    \n",
    "print(\"merhaba\")#blok 1"
   ]
  },
  {
   "cell_type": "code",
   "execution_count": null,
   "id": "ae97e682",
   "metadata": {},
   "outputs": [],
   "source": []
  }
 ],
 "metadata": {
  "kernelspec": {
   "display_name": "Python 3 (ipykernel)",
   "language": "python",
   "name": "python3"
  },
  "language_info": {
   "codemirror_mode": {
    "name": "ipython",
    "version": 3
   },
   "file_extension": ".py",
   "mimetype": "text/x-python",
   "name": "python",
   "nbconvert_exporter": "python",
   "pygments_lexer": "ipython3",
   "version": "3.10.2"
  }
 },
 "nbformat": 4,
 "nbformat_minor": 5
}
