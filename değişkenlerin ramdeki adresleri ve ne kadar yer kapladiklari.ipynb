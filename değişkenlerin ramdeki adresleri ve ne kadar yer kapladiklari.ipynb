{
 "cells": [
  {
   "cell_type": "code",
   "execution_count": 1,
   "id": "8e3f26c8",
   "metadata": {},
   "outputs": [
    {
     "name": "stdout",
     "output_type": "stream",
     "text": [
      "3.10.2 (tags/v3.10.2:a58ebcc, Jan 17 2022, 14:12:15) [MSC v.1929 64 bit (AMD64)]\n"
     ]
    }
   ],
   "source": [
    "import sys\n",
    "print(sys.version)"
   ]
  },
  {
   "cell_type": "code",
   "execution_count": 13,
   "id": "6cf184ee",
   "metadata": {},
   "outputs": [
    {
     "name": "stdout",
     "output_type": "stream",
     "text": [
      "28 beyts\n",
      "28 beyts\n",
      "32 beyts\n",
      "32 beyts\n"
     ]
    }
   ],
   "source": [
    "import sys\n",
    "sayi=10\n",
    "print(sys.getsizeof(sayi),\"beyts\")#sayi değişkenin ram de kaç bayt yer kapladiğini yazdirir\n",
    "sayi=10000\n",
    "print(sys.getsizeof(sayi),\"beyts\")\n",
    "sayi=12345678999999999\n",
    "print(sys.getsizeof(sayi),\"beyts\")\n",
    "sayi=sayi*45\n",
    "print(sys.getsizeof(sayi),\"beyts\")"
   ]
  },
  {
   "cell_type": "code",
   "execution_count": 24,
   "id": "63f4f73b",
   "metadata": {},
   "outputs": [
    {
     "name": "stdout",
     "output_type": "stream",
     "text": [
      "sayi değişkeni içindeki sayinin ramde kapladiği alan 28  bytes\n"
     ]
    }
   ],
   "source": [
    "import sys\n",
    "sayi=10\n",
    "print(\"sayi değişkeni içindeki sayinin ramde kapladiği alan {} \".format(sys.getsizeof(sayi)),\"bytes\")"
   ]
  },
  {
   "cell_type": "code",
   "execution_count": 22,
   "id": "8b597c46",
   "metadata": {},
   "outputs": [
    {
     "name": "stdout",
     "output_type": "stream",
     "text": [
      "sayi'nin ram deki adresi= 2223148302864\n",
      "sayi'nin ram deki adresi= 2223148302864\n"
     ]
    }
   ],
   "source": [
    "sayi=10\n",
    "print(\"sayi'nin ram deki adresi= {}\".format(id(sayi)))\n",
    "print(\"sayi'nin ram deki adresi=\",id(sayi))"
   ]
  },
  {
   "cell_type": "code",
   "execution_count": 1,
   "id": "63d42131",
   "metadata": {},
   "outputs": [
    {
     "name": "stdout",
     "output_type": "stream",
     "text": [
      "sayi1'in ramdeki adresi 2760070267408\n",
      "sayi2'nin ramdeki adresi 2760070267728 \n"
     ]
    }
   ],
   "source": [
    "sayi1=10\n",
    "sayi2=20\n",
    "print(\"sayi1'in ramdeki adresi {}\\nsayi2'nin ramdeki adresi {} \".format(id(sayi1),id(sayi2)),sep=\"\\n\")\n",
    "#id fonk değişkenin ramdeki adresini gösterir "
   ]
  },
  {
   "cell_type": "code",
   "execution_count": null,
   "id": "7cf87f5d",
   "metadata": {},
   "outputs": [],
   "source": [
    "say"
   ]
  }
 ],
 "metadata": {
  "kernelspec": {
   "display_name": "Python 3 (ipykernel)",
   "language": "python",
   "name": "python3"
  },
  "language_info": {
   "codemirror_mode": {
    "name": "ipython",
    "version": 3
   },
   "file_extension": ".py",
   "mimetype": "text/x-python",
   "name": "python",
   "nbconvert_exporter": "python",
   "pygments_lexer": "ipython3",
   "version": "3.10.2"
  }
 },
 "nbformat": 4,
 "nbformat_minor": 5
}
