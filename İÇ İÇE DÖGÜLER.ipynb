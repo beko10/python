{
 "cells": [
  {
   "cell_type": "markdown",
   "id": "d9d9a07c",
   "metadata": {},
   "source": [
    "İÇ İÇE DÖGÜLER\n",
    "-------------------------------\n",
    "İç içe dögülerin temel çalişma prensibi önce içteki döngü biter sonra dış döngü biter\n"
   ]
  },
  {
   "cell_type": "raw",
   "id": "01f20ce5",
   "metadata": {},
   "source": [
    "***\n",
    "\n",
    "***\n",
    "\n",
    "YUkaridaki şekli ekrana bastiran kodun çalişma mantgi aşagida gosterilmiştir.\n",
    "\n",
    "\n",
    "\n",
    "\n",
    "i=0\n",
    "while i < 2 :\n",
    "    print(\"*\")\n",
    "    j=0\n",
    "    while j < 2\n",
    "        print(\"*\")\n",
    "        j+=1\n",
    "    print()\n",
    "    i+=1\n",
    "\n",
    "\n",
    "# i\\j için\n",
    "---------\n",
    "i=0,j =0| i=0,j=1 |\n",
    "**i= 0 için içteki dögü bitti** \n",
    "i=1,j=0|i=1,j=1|\n",
    "**i= 1 için içteki dögü bitti**\n",
    "***TÜM DÖNGÜ BİTER***"
   ]
  },
  {
   "cell_type": "code",
   "execution_count": 9,
   "id": "39fe193a",
   "metadata": {},
   "outputs": [
    {
     "name": "stdout",
     "output_type": "stream",
     "text": [
      "$ $ $ $ \n",
      "$ $ $ $ \n",
      "$ $ $ $ \n",
      "$ $ $ $ \n",
      "$ $ $ $ \n",
      "-------------------------------------\n",
      "$ $ $ $ \n",
      "$ $ $ $ \n",
      "$ $ $ $ \n",
      "$ $ $ $ \n",
      "$ $ $ $ \n"
     ]
    }
   ],
   "source": [
    "i =1\n",
    "while i < 6:\n",
    "    print(\"$\",end=\" \")\n",
    "    j=1\n",
    "    while j < 4:\n",
    "        print(\"$\",end=\" \")\n",
    "        j+=1\n",
    "    print(end=\"\\n\")\n",
    "    i+=1\n",
    "print(\"-------------------------------------\")\n",
    "\n",
    "i =1\n",
    "while i < 6:\n",
    "    j=1\n",
    "    while j < 5:\n",
    "        print(\"$\",end=\" \")\n",
    "        j+=1\n",
    "    print(end=\"\\n\")\n",
    "    i+=1"
   ]
  },
  {
   "cell_type": "code",
   "execution_count": 10,
   "id": "62401e63",
   "metadata": {},
   "outputs": [
    {
     "name": "stdout",
     "output_type": "stream",
     "text": [
      "pazartesi: 1 8 15 22 29 \n",
      "sali: 2 9 16 23 30 \n",
      "carşamba: 3 10 17 24 31 \n",
      "perşembe: 4 11 18 25 \n",
      "cuma: 5 12 19 26 \n",
      "cumartesi: 6 13 20 27 \n",
      "pazar: 7 14 21 28 \n"
     ]
    }
   ],
   "source": [
    "i=0\n",
    "gunlr=[\"pazartesi:\",\"sali:\",\"carşamba:\",\"perşembe:\",\"cuma:\",\"cumartesi:\",\"pazar:\"]\n",
    "while i < 7 :\n",
    "    print(gunlr[i],end=\" \")\n",
    "    j = i +1\n",
    "    while j <= 31 :\n",
    "        print(j,end=\" \")\n",
    "        j+=7\n",
    "    print()\n",
    "    i+=1"
   ]
  },
  {
   "cell_type": "code",
   "execution_count": 11,
   "id": "2587e298",
   "metadata": {},
   "outputs": [
    {
     "name": "stdout",
     "output_type": "stream",
     "text": [
      "0 * 0 = 0\t0 * 1 = 0\t0 * 2 = 0\t0 * 3 = 0\t0 * 4 = 0\t0 * 5 = 0\t0 * 6 = 0\t0 * 7 = 0\t0 * 8 = 0\t0 * 9 = 0\t0 * 10 = 0\t\n",
      "1 * 0 = 0\t1 * 1 = 1\t1 * 2 = 2\t1 * 3 = 3\t1 * 4 = 4\t1 * 5 = 5\t1 * 6 = 6\t1 * 7 = 7\t1 * 8 = 8\t1 * 9 = 9\t1 * 10 = 10\t\n",
      "2 * 0 = 0\t2 * 1 = 2\t2 * 2 = 4\t2 * 3 = 6\t2 * 4 = 8\t2 * 5 = 10\t2 * 6 = 12\t2 * 7 = 14\t2 * 8 = 16\t2 * 9 = 18\t2 * 10 = 20\t\n",
      "3 * 0 = 0\t3 * 1 = 3\t3 * 2 = 6\t3 * 3 = 9\t3 * 4 = 12\t3 * 5 = 15\t3 * 6 = 18\t3 * 7 = 21\t3 * 8 = 24\t3 * 9 = 27\t3 * 10 = 30\t\n",
      "4 * 0 = 0\t4 * 1 = 4\t4 * 2 = 8\t4 * 3 = 12\t4 * 4 = 16\t4 * 5 = 20\t4 * 6 = 24\t4 * 7 = 28\t4 * 8 = 32\t4 * 9 = 36\t4 * 10 = 40\t\n",
      "5 * 0 = 0\t5 * 1 = 5\t5 * 2 = 10\t5 * 3 = 15\t5 * 4 = 20\t5 * 5 = 25\t5 * 6 = 30\t5 * 7 = 35\t5 * 8 = 40\t5 * 9 = 45\t5 * 10 = 50\t\n",
      "6 * 0 = 0\t6 * 1 = 6\t6 * 2 = 12\t6 * 3 = 18\t6 * 4 = 24\t6 * 5 = 30\t6 * 6 = 36\t6 * 7 = 42\t6 * 8 = 48\t6 * 9 = 54\t6 * 10 = 60\t\n",
      "7 * 0 = 0\t7 * 1 = 7\t7 * 2 = 14\t7 * 3 = 21\t7 * 4 = 28\t7 * 5 = 35\t7 * 6 = 42\t7 * 7 = 49\t7 * 8 = 56\t7 * 9 = 63\t7 * 10 = 70\t\n",
      "8 * 0 = 0\t8 * 1 = 8\t8 * 2 = 16\t8 * 3 = 24\t8 * 4 = 32\t8 * 5 = 40\t8 * 6 = 48\t8 * 7 = 56\t8 * 8 = 64\t8 * 9 = 72\t8 * 10 = 80\t\n",
      "9 * 0 = 0\t9 * 1 = 9\t9 * 2 = 18\t9 * 3 = 27\t9 * 4 = 36\t9 * 5 = 45\t9 * 6 = 54\t9 * 7 = 63\t9 * 8 = 72\t9 * 9 = 81\t9 * 10 = 90\t\n",
      "10 * 0 = 0\t10 * 1 = 10\t10 * 2 = 20\t10 * 3 = 30\t10 * 4 = 40\t10 * 5 = 50\t10 * 6 = 60\t10 * 7 = 70\t10 * 8 = 80\t10 * 9 = 90\t10 * 10 = 100\t\n"
     ]
    }
   ],
   "source": [
    "i=0\n",
    "while i <= 10 :\n",
    "    j=0\n",
    "    while j <= 10 :\n",
    "        print(i,\"*\",j,\"=\",i*j,end=\"\\t\")\n",
    "        j+=1\n",
    "    print()\n",
    "    i+=1"
   ]
  },
  {
   "cell_type": "code",
   "execution_count": null,
   "id": "86384382",
   "metadata": {},
   "outputs": [],
   "source": []
  },
  {
   "cell_type": "code",
   "execution_count": null,
   "id": "3ff32f2d",
   "metadata": {},
   "outputs": [],
   "source": []
  }
 ],
 "metadata": {
  "kernelspec": {
   "display_name": "Python 3 (ipykernel)",
   "language": "python",
   "name": "python3"
  },
  "language_info": {
   "codemirror_mode": {
    "name": "ipython",
    "version": 3
   },
   "file_extension": ".py",
   "mimetype": "text/x-python",
   "name": "python",
   "nbconvert_exporter": "python",
   "pygments_lexer": "ipython3",
   "version": "3.10.2"
  }
 },
 "nbformat": 4,
 "nbformat_minor": 5
}
