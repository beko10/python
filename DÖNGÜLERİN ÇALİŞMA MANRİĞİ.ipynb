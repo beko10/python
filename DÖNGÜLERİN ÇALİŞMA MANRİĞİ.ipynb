{
 "cells": [
  {
   "cell_type": "markdown",
   "id": "a2eb5b4f",
   "metadata": {},
   "source": [
    "PYTHON DÖGÜLER\n",
    "-----------------------------\n",
    "\n",
    "Programlamada döngülerin sağlikli çalişmasi için 3 önemli parametre vardir\n",
    "\n",
    "1-Döngünün basşlangiç degeri \n",
    "\n",
    "2-Döngüyü kontrol eden değişkenin artırma ya da azaltma işlemleri\n",
    "\n",
    "3-Döngü şarti\n",
    "\n",
    "\n",
    "------------------------------------------------------------------------------\n",
    "\n",
    "1-WHİLE DÖGÜSÜ\n",
    "\n",
    "i=1\n",
    "while i<5:  # i değişkeni koşulu sağlar ise while dögüsüne girer ve döngü kod bloğu çalisir \n",
    "    \n",
    "    print(\"berkay\")\n",
    "    \n",
    "    i=i+1\n",
    "\n",
    "i|sorgulama|çıktı|döngü durumu\n",
    "-|-|-|-|\n",
    "i=1|1<5(True)|\"berkay\"|döngü devam ediyor bir sonraki duruma geçilir\n",
    "i=2|2<5(True)|\"berkay\"|döngü devam ediyor bir sonraki duruma geçilir\n",
    "i=3|3<5(True)|\"berkay\"|döngü devam ediyor bir sonraki duruma geçilir\n",
    "i=4|4<5(True)|\"berkay\"|döngü devam ediyor bir sonraki duruma geçilir\n",
    "i=5|5<5(False)|ekran çıktısı yok|döngü biter\n",
    "\n",
    "\n",
    "i degeri sorgulama yapidigi için heapte 5 olarak kalir\n",
    "\n",
    "---------------------------------------------------------------\n",
    "2-FOR DÖNGÜSÜ\n",
    "------------------------------\n",
    "\n",
    "for i in range(0,4): #i değişkeni range araliğinin içinde ise kod bloğu çalişir\n",
    "\n",
    "\n",
    "    print(\"berkay\")\n",
    "    \n",
    "    \n",
    "    \n",
    "i|sorgulama |çıktı|döngü durumu\n",
    "-|-|-|-|\n",
    "i=0|0 belirtilek aralikta mi (True)|\"berkay\"|döngü devam ediyor bir sonraki duruma geçilir\n",
    "i=1|1 belirtilek aralikta mi (True)|\"berkay\"|döngü devam ediyor bir sonraki duruma geçilir\n",
    "i=2|2 belirtilek aralikta mi (True)|\"berkay\"|döngü devam ediyor bir sonraki duruma geçilir\n",
    "i=3|3 belirtilek aralikta mi (True)|\"berkay\"|döngünün son adimidir bir sonraki duruma geçilmez.çünkü araliğin bitiş degeri \n",
    "   |                               |        |araliga dahil değil             \n",
    "i=4|4 belirtilek aralikta mi sorgulamsi|ekran çıktısı yok|döngü çalişmaz\n",
    "   |yapilmaz çünkü range de araligin|  \n",
    "   |bitiş degeri araliğa dahil değildir|\n",
    "\n",
    "range=[0,1,2,3,4)\n",
    "\n",
    "0 dahil 4 dahil değil\n"
   ]
  },
  {
   "cell_type": "code",
   "execution_count": 9,
   "id": "7ed4b85d",
   "metadata": {},
   "outputs": [
    {
     "name": "stdout",
     "output_type": "stream",
     "text": [
      "1 . deger için çıktı = berkay\n",
      "2 . deger için çıktı = berkay\n",
      "3 . deger için çıktı = berkay\n",
      "4 . deger için çıktı = berkay\n",
      "döngü bitti i degeri :  5\n"
     ]
    }
   ],
   "source": [
    "i=1 # dögü kontrol değişkeni\n",
    "while i<5:# dögü şarti i=1,2,3,4 bu şartı sağlar i = 5 old. şart sağlanmaz ve döngü biter ama i değeri heap'te 5 olarak kalir\n",
    "    print(i,\". deger için çıktı = berkay\")# şart sağlanirsa yapilacak işlem\n",
    "    i=i+1# kontrol değişkeni artirildi \n",
    "print(\"döngü bitti i degeri : \",i)"
   ]
  },
  {
   "cell_type": "code",
   "execution_count": 10,
   "id": "61771c5a",
   "metadata": {},
   "outputs": [
    {
     "name": "stdout",
     "output_type": "stream",
     "text": [
      "0 . deger için çıktı = berkay \n",
      "1 . deger için çıktı = berkay \n",
      "2 . deger için çıktı = berkay \n",
      "3 . deger için çıktı = berkay \n",
      "döngü bitti i degeri :  3\n"
     ]
    }
   ],
   "source": [
    "\n",
    "for i in range(0,4): # i= döngü değişkeni döngü şarti ise i belirtilen aralikta mi \n",
    "    print(i,\". deger için çıktı = berkay \")# şart sağlanir ise yapilacak işlem\n",
    "print(\"döngü bitti i degeri : \",i)#araliğa 4 dahil olmadiği için i değeri heap te 3 olarak kalir "
   ]
  },
  {
   "cell_type": "code",
   "execution_count": 10,
   "id": "6c635822",
   "metadata": {},
   "outputs": [
    {
     "name": "stdout",
     "output_type": "stream",
     "text": [
      "b\n",
      "e\n",
      "r\n",
      "k\n",
      "a\n",
      "y\n"
     ]
    }
   ],
   "source": [
    "isim=\"berkay\"\n",
    "for i in isim:\n",
    "    print(i)\n",
    "\n",
    "\n",
    "\n",
    "#i değişkeni isim değişkeninin 0. indexindeki elemana atandi i[0]=\"b\"\n",
    "#i değişkeni isim değişkeninin 1. indexindeki elemana atandi i[1]=\"e\"\n",
    "#i değişkeni isim değişkeninin 2. indexindeki elemana atandi i[2]=\"r\"\n",
    "#i değişkeni isim değişkeninin 3. indexindeki elemana atandi i[3]=\"k\"\n",
    "#i değişkeni isim değişkeninin 4. indexindeki elemana atandi i[4]=\"a\"\n",
    "#i değişkeni isim değişkeninin 5. indexindeki elemana atandi i[5]=\"y\"\n"
   ]
  },
  {
   "cell_type": "code",
   "execution_count": 12,
   "id": "8a560906",
   "metadata": {},
   "outputs": [
    {
     "name": "stdout",
     "output_type": "stream",
     "text": [
      "berkay\n",
      "1\n",
      "1.4\n",
      "True\n"
     ]
    }
   ],
   "source": [
    "liste=[\"berkay\",1,1.4,True]\n",
    "for i in liste:\n",
    "    print(i)\n",
    "\n",
    "\n",
    "#i değişkeni listenin 0. indexindeki elemana atandi i=0 için i=\"berkay\"\n",
    "#i değişkeni listenin 1. indexindeki elemana atandi i=1 için i=1\n",
    "#i değişkeni listenin 2. indexindeki elemana atandi i=2 için i=1.4\n",
    "#i değişkeni listenin 3. indexindeki elemana atandi i=3 için i=True\n",
    "\n"
   ]
  },
  {
   "cell_type": "code",
   "execution_count": 19,
   "id": "dcaf67fd",
   "metadata": {},
   "outputs": [
    {
     "name": "stdout",
     "output_type": "stream",
     "text": [
      "tuple veri tipin i kere yazilmiş hali\t\t\tset veri tipindeki elemanlar\n",
      "(1, 2, 8, 'berkay', 1)\t\t\t\t\t\t\t1\n",
      "(1, 2, 8, 'berkay', 1)\t\t\t\t\t\t\t2\n",
      "(1, 2, 8, 'berkay', 1)\t\t\t\t\t\t\t8\n",
      "(1, 2, 8, 'berkay', 1)\t\t\t\t\t\t\tberkay\n",
      "(1, 2, 8, 'berkay', 1)\t\t\t\t\t\t\t1\n"
     ]
    }
   ],
   "source": [
    "tup = (1,2,8,\"berkay\",1)\n",
    "print(\"tuple veri tipin i kere yazilmiş hali\\t\\t\\tset veri tipindeki elemanlar\")\n",
    "for i in tup:\n",
    "\n",
    "    print(tup,end=\"\\t\\t\\t\\t\\t\\t\\t\")\n",
    "    print(i)\n",
    "    \n",
    "#tuple veri dizisinde 5 eleman olduğu için dögü 4 kere çalişacaktir"
   ]
  },
  {
   "cell_type": "code",
   "execution_count": 21,
   "id": "bdf54277",
   "metadata": {},
   "outputs": [
    {
     "name": "stdout",
     "output_type": "stream",
     "text": [
      "(1, 2)\n",
      "(4, 5)\n",
      "1 2\n",
      "4 5\n"
     ]
    }
   ],
   "source": [
    "tuple_listesi=[(1,2),(4,5)]\n",
    "for i in tuple_listesi:\n",
    "    print(i)\n",
    "for sayi1,say2 in tuple_listesi:\n",
    "    print(sayi1,say2)\n",
    "#paket açma işlemi yapildi \n",
    "#tuple içinde bulunan ikili sayilar 1. olanlar sayi1 değişkenine 2.olanlar sayi2 değişkenine atandi"
   ]
  },
  {
   "cell_type": "code",
   "execution_count": 7,
   "id": "5344c9fb",
   "metadata": {},
   "outputs": [
    {
     "name": "stdout",
     "output_type": "stream",
     "text": [
      "listedeki cift sayi adedi = 5\n",
      "listedeki cift sayilar : [2, 4, 2, 4, 6]\n",
      "listedeki tek sayi adedi = 4\n",
      "listedeki tek sayilar : [3, 5, 61, 3]\n"
     ]
    }
   ],
   "source": [
    "sayilar=[2,3,4,5,61,2,3,4,6]\n",
    "cift=0\n",
    "tek=0\n",
    "cif_liste=[]\n",
    "tek_liste=list()\n",
    "for i in sayilar:\n",
    "    if i%2==0:\n",
    "        cif_liste.append(i)\n",
    "        cift+=1\n",
    "    else:\n",
    "        tek_liste.append(i)\n",
    "        tek+=1\n",
    "\n",
    "print(\"listedeki cift sayi adedi = {}\\nlistedeki cift sayilar : {}\".format(cift,cif_liste))\n",
    "print(\"listedeki tek sayi adedi = {}\\nlistedeki tek sayilar : {}\".format(tek,tek_liste))"
   ]
  },
  {
   "cell_type": "code",
   "execution_count": 8,
   "id": "1c146f6c",
   "metadata": {},
   "outputs": [
    {
     "name": "stdout",
     "output_type": "stream",
     "text": [
      "listedeki cift sayi adedi = 5\n",
      "listedeki cift sayilar : [2, 4, 2, 4, 6]\n",
      "listedeki tek sayi adedi = 4\n",
      "listedeki tek sayilar : [3, 5, 61, 3]\n"
     ]
    }
   ],
   "source": [
    "sayilar=[2,3,4,5,61,2,3,4,6]\n",
    "cif_liste=[]\n",
    "tek_liste=list()\n",
    "for i in sayilar:\n",
    "    if i%2==0:\n",
    "        cif_liste.append(i)\n",
    "\n",
    "    else:\n",
    "        tek_liste.append(i)\n",
    "         \n",
    "\n",
    "\n",
    "print(\"listedeki cift sayi adedi = {}\\nlistedeki cift sayilar : {}\".format(len(cif_liste),cif_liste))\n",
    "print(\"listedeki tek sayi adedi = {}\\nlistedeki tek sayilar : {}\".format(len(tek_liste),tek_liste))"
   ]
  },
  {
   "cell_type": "code",
   "execution_count": 18,
   "id": "3c810336",
   "metadata": {},
   "outputs": [
    {
     "name": "stdout",
     "output_type": "stream",
     "text": [
      "set veri tipin i kere yazilmiş hali\t\t\tset veri tipindeki elemanlar\n",
      "{1, 2, 4, 8, -4}\t\t\t\t\t\t\t1\n",
      "{1, 2, 4, 8, -4}\t\t\t\t\t\t\t2\n",
      "{1, 2, 4, 8, -4}\t\t\t\t\t\t\t4\n",
      "{1, 2, 4, 8, -4}\t\t\t\t\t\t\t8\n",
      "{1, 2, 4, 8, -4}\t\t\t\t\t\t\t-4\n"
     ]
    }
   ],
   "source": [
    "set1={1,2,8,4,8,-4,8}\n",
    "print(\"set veri tipin i kere yazilmiş hali\\t\\t\\tset veri tipindeki elemanlar\")\n",
    "for i in set1:\n",
    "    print(set1,end=\"\\t\\t\\t\\t\\t\\t\\t\")\n",
    "    print(i)\n",
    "\n",
    "# set1 veri tipi dizisinde 7 eleman olamsasina karşin döngü 5 kere çalişti sebebi set veri tipi ayni olan elemanlari  \n",
    "# dizi içerisinden atar"
   ]
  },
  {
   "cell_type": "code",
   "execution_count": 26,
   "id": "f46698a5",
   "metadata": {},
   "outputs": [
    {
     "name": "stdout",
     "output_type": "stream",
     "text": [
      "* * * * * * \n",
      "* * * * * * \n",
      "* * * * * * \n",
      "* * * * * * \n",
      "* * * * * * \n",
      "* * * * * * \n",
      "----------------------\n",
      "*****\n",
      "*****\n",
      "*****\n",
      "*****\n",
      "*****\n",
      "*****\n"
     ]
    }
   ],
   "source": [
    "for i in range(0,6):\n",
    "    for j in range(0,6):\n",
    "        print(\"*\",end=\" \")\n",
    "    print()\n",
    "\n",
    "print(\"----------------------\")\n",
    "for i in range(0,6):\n",
    "    print(5*\"*\")"
   ]
  },
  {
   "cell_type": "code",
   "execution_count": 9,
   "id": "c5244df1",
   "metadata": {},
   "outputs": [
    {
     "ename": "NameError",
     "evalue": "name 'sqrt' is not defined",
     "output_type": "error",
     "traceback": [
      "\u001b[1;31m---------------------------------------------------------------------------\u001b[0m",
      "\u001b[1;31mNameError\u001b[0m                                 Traceback (most recent call last)",
      "Input \u001b[1;32mIn [9]\u001b[0m, in \u001b[0;36m<cell line: 2>\u001b[1;34m()\u001b[0m\n\u001b[0;32m      1\u001b[0m \u001b[38;5;28;01mimport\u001b[39;00m \u001b[38;5;21;01mmath\u001b[39;00m\n\u001b[0;32m      2\u001b[0m \u001b[38;5;28;01mfor\u001b[39;00m i \u001b[38;5;129;01min\u001b[39;00m \u001b[38;5;28mrange\u001b[39m(\u001b[38;5;241m1\u001b[39m,\u001b[38;5;241m1001\u001b[39m):\n\u001b[1;32m----> 3\u001b[0m     \u001b[38;5;28;01mif\u001b[39;00m \u001b[38;5;28mint\u001b[39m(\u001b[43msqrt\u001b[49m(i)\u001b[38;5;241m*\u001b[39m\u001b[38;5;241m*\u001b[39m\u001b[38;5;241m2\u001b[39m \u001b[38;5;241m==\u001b[39m i ):\n\u001b[0;32m      4\u001b[0m         \u001b[38;5;28mprint\u001b[39m(i)\n",
      "\u001b[1;31mNameError\u001b[0m: name 'sqrt' is not defined"
     ]
    }
   ],
   "source": [
    "import math\n",
    "for i in range(1,1001):\n",
    "    if int(sqrt(i)**2 == i ):\n",
    "        print(i)"
   ]
  },
  {
   "cell_type": "code",
   "execution_count": 11,
   "id": "876c6749",
   "metadata": {},
   "outputs": [
    {
     "name": "stdout",
     "output_type": "stream",
     "text": [
      "ezber yok  mantık var mantık var mantık var mantık var mantık var \n",
      "\n",
      "ezber yok  mantık var mantık var mantık var mantık var mantık var \n",
      "\n",
      "ezber yok  mantık var mantık var mantık var mantık var mantık var \n",
      "\n",
      "ezber yok  mantık var mantık var mantık var mantık var mantık var \n",
      "\n",
      "ezber yok  mantık var mantık var mantık var mantık var mantık var \n",
      "\n"
     ]
    }
   ],
   "source": [
    "i=0\n",
    "while i<5:\n",
    "    print(\"ezber yok \",end=\" \")\n",
    "    j=0\n",
    "    while j<5:\n",
    "        print(\"mantık var\",end=\" \")\n",
    "        j+=1\n",
    "    print(\"\\n\")\n",
    "    i+=1"
   ]
  },
  {
   "cell_type": "code",
   "execution_count": 1,
   "id": "85eccbf4",
   "metadata": {},
   "outputs": [
    {
     "name": "stdout",
     "output_type": "stream",
     "text": [
      "0 . indexteki eleman = 1\n",
      "1 . indexteki eleman = 2\n",
      "2 . indexteki eleman = 8\n",
      "3 . indexteki eleman = 5\n",
      "4 . indexteki eleman = 6\n"
     ]
    }
   ],
   "source": [
    "sayilar=[1,2,8,5,6]\n",
    "index=0\n",
    "while index < len(sayilar):\n",
    "    #print(index,\". indexteki eleman = \",sayilar[index])\n",
    "    print(index,\". indexteki eleman = {}\".format(sayilar[index]))\n",
    "    index+=1"
   ]
  },
  {
   "cell_type": "code",
   "execution_count": 13,
   "id": "80117c5f",
   "metadata": {},
   "outputs": [
    {
     "name": "stdout",
     "output_type": "stream",
     "text": [
      "1 . adimda toplam =  1\n",
      "2 . adimda toplam =  3\n",
      "3 . adimda toplam =  6\n",
      "4 . adimda toplam =  10\n",
      "5 . adimda toplam =  15\n",
      "6 . adimda toplam =  21\n",
      "7 . adimda toplam =  28\n",
      "8 . adimda toplam =  36\n",
      "9 . adimda toplam =  45\n",
      "10 . adimda toplam =  55\n",
      "toplam =  55\n"
     ]
    }
   ],
   "source": [
    "i=1\n",
    "toplam=0\n",
    "while i <=10 :\n",
    "    toplam+=i\n",
    "    print(i,\". adimda toplam = \",toplam)\n",
    "    i+=1\n",
    "print(\"toplam = \",toplam)"
   ]
  },
  {
   "cell_type": "code",
   "execution_count": 15,
   "id": "e098014c",
   "metadata": {},
   "outputs": [
    {
     "name": "stdout",
     "output_type": "stream",
     "text": [
      "35\n",
      "70\n",
      "105\n",
      "140\n",
      "175\n"
     ]
    }
   ],
   "source": [
    "i=1\n",
    "while i<200 :\n",
    "    if i % 5 == 0 and i % 7 == 0:\n",
    "        print(i)\n",
    "    i+=1"
   ]
  },
  {
   "cell_type": "code",
   "execution_count": 13,
   "id": "2bc52291",
   "metadata": {},
   "outputs": [
    {
     "name": "stdout",
     "output_type": "stream",
     "text": [
      "b\n",
      "e\n",
      "r\n",
      "k\n",
      "a\n",
      "y\n",
      "--------------------\n",
      "b\n",
      "e\n",
      "r\n",
      "k\n",
      "a\n",
      "y\n"
     ]
    }
   ],
   "source": [
    "isim=\"berkay\"\n",
    "for i in range(len(isim)):#isim stringinin uzulugu kadar i degiskenini dödür(isim içerisinde gezdir) demek\n",
    "    print(isim[i])#isim değişkenin i. indexindeki elemani ekrana bas\n",
    "\n",
    "print(20*\"-\")\n",
    "for i in isim:# i değişkeni isim stringinde gezer ve i ye gezdigi adimda stringin elemani atanir 1. adim için (i=b) olur \n",
    "    print(i)# i ye atanan degerler ekrana yazdirilir"
   ]
  },
  {
   "cell_type": "code",
   "execution_count": null,
   "id": "ab47d87c",
   "metadata": {},
   "outputs": [],
   "source": []
  }
 ],
 "metadata": {
  "kernelspec": {
   "display_name": "Python 3 (ipykernel)",
   "language": "python",
   "name": "python3"
  },
  "language_info": {
   "codemirror_mode": {
    "name": "ipython",
    "version": 3
   },
   "file_extension": ".py",
   "mimetype": "text/x-python",
   "name": "python",
   "nbconvert_exporter": "python",
   "pygments_lexer": "ipython3",
   "version": "3.10.2"
  }
 },
 "nbformat": 4,
 "nbformat_minor": 5
}
