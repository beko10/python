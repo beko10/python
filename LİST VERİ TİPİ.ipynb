{
 "cells": [
  {
   "cell_type": "markdown",
   "id": "83a88ace",
   "metadata": {},
   "source": [
    "LİST VERİ TİPİ\n",
    "-----------------------\n",
    "1-Mutable(değiştirilebilir)\n",
    "\n",
    "2-Elemanlarının squance number(sıra-index numarsi) vardir\n",
    "\n",
    "3-List(liste) veri tipi tanimlanirken \"[]\" parantezlerin arasinda tanimlanir\n",
    "\n",
    "4-Liste veri tipinde istediğimiz veri türünden veri saklayabiliriz yani [int,\"string\",float] şeklinde olabilir"
   ]
  },
  {
   "cell_type": "markdown",
   "id": "53a75253",
   "metadata": {},
   "source": [
    "LİSTE VERİ TİPİ GENEL BAKİŞ\n",
    "--------------------------------------------------"
   ]
  },
  {
   "cell_type": "code",
   "execution_count": 97,
   "id": "964e6316",
   "metadata": {},
   "outputs": [
    {
     "name": "stdout",
     "output_type": "stream",
     "text": [
      "liste elemanlari : \n",
      "[1, 2, -5, 8, 9, 10]\n",
      "list type:\n",
      "<class 'list'>\n",
      "1 2 -5 8 9 10\n",
      "listenin 0. indexindeki eleman :  1 - 1\n"
     ]
    }
   ],
   "source": [
    "liste=[1,2,-5,8,9,10]\n",
    "print(\"liste elemanlari : \",liste,\"list type:\",type(liste),sep=\"\\n\")\n",
    "print(*liste)\n",
    "print(\"listenin 0. indexindeki eleman : \",liste[0],\"-\",liste[-6])\n"
   ]
  },
  {
   "cell_type": "code",
   "execution_count": 98,
   "id": "57602107",
   "metadata": {},
   "outputs": [
    {
     "name": "stdout",
     "output_type": "stream",
     "text": [
      "-10\n"
     ]
    }
   ],
   "source": [
    "print(2*liste[2])#liste içindeki elemana index numarasindan ulaşip matematiksel işlemler yapabiliriz"
   ]
  },
  {
   "cell_type": "markdown",
   "id": "07fb996d",
   "metadata": {},
   "source": [
    "Boş Liste Oluşturma Yöntemleri\n",
    "--------------------------------------------------"
   ]
  },
  {
   "cell_type": "code",
   "execution_count": 4,
   "id": "45a4d325",
   "metadata": {},
   "outputs": [
    {
     "name": "stdout",
     "output_type": "stream",
     "text": [
      "[]\n",
      "[]\n"
     ]
    }
   ],
   "source": [
    "#boş liste olusturma\n",
    "liste1=[]\n",
    "print(liste1)\n",
    "\n",
    "\n",
    "liste1=list()#liste fonk sayesinde boş bir liste tanimladik\n",
    "print(liste1)\n"
   ]
  },
  {
   "cell_type": "markdown",
   "id": "4f1b4ed8",
   "metadata": {},
   "source": [
    "Liste içerisine farkli veri tipleri alabilir\n",
    "---------------------------------------------------------\n",
    "Liste veri tipinde tanimlanan veriler kendi veri tiplerini korur"
   ]
  },
  {
   "cell_type": "code",
   "execution_count": 61,
   "id": "df1951dd",
   "metadata": {},
   "outputs": [
    {
     "name": "stdout",
     "output_type": "stream",
     "text": [
      "[4, 'berkay', True, 4.5, {2, 3}]\n",
      "4 berkay True 4.5 {2, 3}\n",
      "karisik_listenin 1.elemani(\"0.indexteki eleman\") :  4\n",
      "<class 'bool'>\n",
      "karisik_listenin 2.elemani(\"1,indexteki eleman\") :  berkay\n",
      "karisik_listedeki 2. elemanin 3. karakteri(\"1. indexteki elemanin 2.indexteki elemani \") :  r\n",
      "karsisk liste icindeki 5. eleman :  {2, 3} karisik liste icindeki 5. elemanin veri tipi :  <class 'set'>\n"
     ]
    }
   ],
   "source": [
    "karisik_liste=[4,\"berkay\",True,4.5,{2,3}]\n",
    "print(karisik_liste)\n",
    "print(*karisik_liste)\n",
    "print(\"karisik_listenin 1.elemani(\\\"0.indexteki eleman\\\") : \",karisik_liste[0])\n",
    "print(\"karisik liste içindeki 1.elemanin veri tipi : \"type(karisik_liste[0]))\n",
    "print(\"karisik_listenin 2.elemani(\\\"1,indexteki eleman\\\") : \",karisik_liste[1])\n",
    "print(\"karisik_listedeki 2. elemanin 3. karakteri(\\\"1. indexteki elemanin 2.indexteki elemani \\\") : \",karisik_liste[1][2])\n",
    "print(\"karsisk liste icindeki 5. eleman : \",karisik_liste[4],\"karisik liste icindeki 5. elemanin veri tipi : \",type(karisik_liste[4]))"
   ]
  },
  {
   "cell_type": "markdown",
   "id": "366247ea",
   "metadata": {},
   "source": [
    "LİSTE İÇİNDE LİSTE TANİMLANABİLİR\n",
    "----------------------------------------------------------\n"
   ]
  },
  {
   "cell_type": "code",
   "execution_count": 68,
   "id": "b93a4dd7",
   "metadata": {},
   "outputs": [
    {
     "data": {
      "text/plain": [
       "[['berkay', 'aleyna'], [20, 20]]"
      ]
     },
     "execution_count": 68,
     "metadata": {},
     "output_type": "execute_result"
    }
   ],
   "source": [
    "isimler=[\"berkay\",\"aleyna\"]\n",
    "type(isim)\n",
    "sayilar=[20,20]\n",
    "type(sayilar)\n",
    "bilgiler=[isimler,sayilar]\n",
    "bilgiler\n"
   ]
  },
  {
   "cell_type": "markdown",
   "id": "e63d9572",
   "metadata": {},
   "source": [
    "LİSTELERİ BİRLEŞTİRME(TOPLAMA)\n",
    "-----------------------------------------------------"
   ]
  },
  {
   "cell_type": "markdown",
   "id": "3b118a99",
   "metadata": {},
   "source": [
    "##LİSTE BİRLEŞTİRME"
   ]
  },
  {
   "cell_type": "code",
   "execution_count": 70,
   "id": "89a15fbb",
   "metadata": {},
   "outputs": [
    {
     "name": "stdout",
     "output_type": "stream",
     "text": [
      "[['berkay', 'aleyna'], [20, 20], 20, 20]\n"
     ]
    }
   ],
   "source": [
    "isimler=[\"berkay\",\"aleyna\"]\n",
    "type(isim)\n",
    "sayilar=[20,20]\n",
    "type(sayilar)\n",
    "bilgiler=[isimler,sayilar]\n",
    "print(bilgiler+sayilar)"
   ]
  },
  {
   "cell_type": "markdown",
   "id": "b2d02203",
   "metadata": {},
   "source": [
    "##LİSTE TOPLAMA"
   ]
  },
  {
   "cell_type": "code",
   "execution_count": 92,
   "id": "d981e429",
   "metadata": {},
   "outputs": [
    {
     "name": "stdout",
     "output_type": "stream",
     "text": [
      "[1, 2, 2, 3]\n"
     ]
    }
   ],
   "source": [
    "sayilar1=[1,2]\n",
    "sayilar2=[2,3]\n",
    "birlestirilmis_liste=sayilar1+sayilar2\n",
    "print(birlestirilmis_liste)"
   ]
  },
  {
   "cell_type": "markdown",
   "id": "fa3cfb61",
   "metadata": {},
   "source": [
    "LİSTELER KENDİ İÇİNDE KOPYALANABİLİR\n",
    "-----------------------------------------------------------------"
   ]
  },
  {
   "cell_type": "code",
   "execution_count": 72,
   "id": "8d507e15",
   "metadata": {},
   "outputs": [
    {
     "name": "stdout",
     "output_type": "stream",
     "text": [
      "['berkay', 'aleyna', 'berkay', 'aleyna', 'berkay', 'aleyna', 'berkay', 'aleyna']\n"
     ]
    }
   ],
   "source": [
    "isimler=[\"berkay\",\"aleyna\"]\n",
    "kopyalanmis_isimler=4*isimler#isimler listesinin yanina 3 tane daha ismler listesi yazar\n",
    "print(kopyalanmis_isimler)"
   ]
  },
  {
   "cell_type": "markdown",
   "id": "ea21d33b",
   "metadata": {},
   "source": [
    "Liste İçerisindeki Elemanlari Değiştirme\n",
    "---------------------------------------------------------"
   ]
  },
  {
   "cell_type": "code",
   "execution_count": 93,
   "id": "1ab9df03",
   "metadata": {},
   "outputs": [
    {
     "name": "stdout",
     "output_type": "stream",
     "text": [
      "listenin değişmemiş hali :  [1, 2, 3]\n",
      "------------------------------------------------------------------------------------\n",
      "listedeki 0. indexteki ve 1. indexteki elemanlarinin yer değişmiş hali :  [2, 3, 3]\n",
      "-----------------------------------------------------------------------------------\n",
      "listedeki 1. indexteki eleman 2 yerine 15 yapilmis hali :  [2, 15, 3]\n",
      "--------------------------------------------------------------------------------------\n",
      "[2, 'berkay', 3]\n",
      "---------------------------------------------------------------------------------------\n"
     ]
    }
   ],
   "source": [
    "liste=[1,2,3]\n",
    "print(\"listenin değişmemiş hali : \",liste)\n",
    "print(\"------------------------------------------------------------------------------------\")\n",
    "liste[0],liste[1]=liste[1],liste[2]\n",
    "print(\"listedeki 0. indexteki ve 1. indexteki elemanlarinin yer değişmiş hali : \",liste)\n",
    "print(\"-----------------------------------------------------------------------------------\")\n",
    "liste[1]=15\n",
    "print(\"listedeki 1. indexteki eleman 2 yerine 15 yapilmis hali : \",liste)#listenin 1. indexindeki eleman 15 yapildi\n",
    "print(\"--------------------------------------------------------------------------------------\")\n",
    "liste[1]=\"berkay\"\n",
    "print(liste)\n",
    "print(\"---------------------------------------------------------------------------------------\")\n",
    "\n"
   ]
  },
  {
   "cell_type": "code",
   "execution_count": 94,
   "id": "08f2c36f",
   "metadata": {},
   "outputs": [
    {
     "name": "stdout",
     "output_type": "stream",
     "text": [
      "orjinal liste :  [1, 2, 3]\n",
      "listeden ilk 2 elemanin silinmiş hali :  [3]\n",
      "listede ilk 2 elemanin degişmis hali :  [11, 12, 3]\n",
      "listede ilk 2 elemanin degişmis hali :  [11, 3]\n"
     ]
    }
   ],
   "source": [
    "liste=[1,2,3]\n",
    "print(\"orjinal liste : \",liste)\n",
    "liste[:2]=[]#ilk iki eleman silindi\n",
    "print(\"listeden ilk 2 elemanin silinmiş hali : \",liste)\n",
    "\n",
    "\n",
    "liste=[1,2,3]\n",
    "liste[:2]=[11,12]#listenin değiştirmek istedigimiz elemanlarinin yerine koymak istedigimiz sayilarin listesini göderdik\n",
    "print(\"listede ilk 2 elemanin degişmis hali : \",liste)\n",
    "\n",
    "\n",
    "liste=[1,2,3]\n",
    "liste[:2]=[11] # listede ilk 2 eleman yerine 11 yazar cunku göderdigimiz liste tek elemanli \n",
    "print(\"listede ilk 2 elemanin degişmis hali : \",liste)"
   ]
  },
  {
   "cell_type": "markdown",
   "id": "bc5935bf",
   "metadata": {},
   "source": [
    "LİSTE İÇERİSİNDEKİ ELEMAN SAYİSİNİ BULMA VE İNDEXLEME \n",
    "-------------------------------------------------------------------------------------------------------------------------------------"
   ]
  },
  {
   "cell_type": "code",
   "execution_count": 95,
   "id": "fd495fb1",
   "metadata": {},
   "outputs": [
    {
     "name": "stdout",
     "output_type": "stream",
     "text": [
      "liste veri dizisindeki eleman sayisi :  4\n",
      "liste veri dizisideki son eleman :  berkay\n",
      "liste veri dizisindeki 2. eleman :  2\n"
     ]
    }
   ],
   "source": [
    "liste=[1,2,3,\"berkay\"]\n",
    "print(\"liste veri dizisindeki eleman sayisi : \",len(liste))\n",
    "print(\"liste veri dizisideki son eleman : \",liste[len(liste)-1])\n",
    "print(\"liste veri dizisindeki 2. eleman : \",liste[1])\n"
   ]
  },
  {
   "cell_type": "code",
   "execution_count": 96,
   "id": "406d0fc1",
   "metadata": {},
   "outputs": [
    {
     "name": "stdout",
     "output_type": "stream",
     "text": [
      "liste1 veri dizisindeki eleman sayisi :  4\n",
      "liste1 veri dizisindeki 1. eleman :  1\n",
      "liste1 veri dizisindeki 3.eleman :  3\n"
     ]
    }
   ],
   "source": [
    "liste1=[1,2,3,4]\n",
    "eleman_sayisi=len(liste1)\n",
    "print(\"liste1 veri dizisindeki eleman sayisi : \",eleman_sayisi)\n",
    "print(\"liste1 veri dizisindeki 1. eleman : \",liste1[-len(liste1)])\n",
    "print(\"liste1 veri dizisindeki 3.eleman : \",liste1[2])"
   ]
  },
  {
   "cell_type": "markdown",
   "id": "9f563033",
   "metadata": {},
   "source": [
    "LİSTE VERİLERİNİ PARÇALAMA\n",
    "---------------------------------------------"
   ]
  },
  {
   "cell_type": "code",
   "execution_count": 21,
   "id": "aba3b1fe",
   "metadata": {},
   "outputs": [
    {
     "name": "stdout",
     "output_type": "stream",
     "text": [
      "[3, 4, 8]\n",
      "[2, 4]\n",
      "[4, 8, 4, 3, 2, 1]\n",
      "[4, 8, 4, 3, 2, 1]\n"
     ]
    }
   ],
   "source": [
    "liste=[1,2,3,4,8,4]\n",
    "print(liste[2:5])\n",
    "print(liste[1:5:2])\n",
    "print(liste[5::-1])\n",
    "print(liste[-1::-1])"
   ]
  },
  {
   "cell_type": "markdown",
   "id": "01c1e3f9",
   "metadata": {},
   "source": [
    "STRİNG VERİ TİPİNİ LİSTE VERİ TİPİNE CEVİRME\n",
    "------------------------------------------------------------------------"
   ]
  },
  {
   "cell_type": "code",
   "execution_count": 47,
   "id": "eb56ae68",
   "metadata": {},
   "outputs": [
    {
     "name": "stdout",
     "output_type": "stream",
     "text": [
      "['b', 'e', 'r', 'k', 'a', 'y']\n",
      "['a', 'l', 'e', 'y', 'n', 'a']\n"
     ]
    }
   ],
   "source": [
    "liste=list(\"berkay\")\n",
    "print(liste)\n",
    "isim=\"aleyna\"\n",
    "isim=list(isim)\n",
    "print(isim)"
   ]
  },
  {
   "cell_type": "markdown",
   "id": "2520ddad",
   "metadata": {},
   "source": [
    "LİSTE VERİ TİPİ METOTLARİ\n",
    "---------------------------------------------\n",
    "\n"
   ]
  },
  {
   "cell_type": "code",
   "execution_count": 2,
   "id": "7d904a30",
   "metadata": {},
   "outputs": [
    {
     "name": "stdout",
     "output_type": "stream",
     "text": [
      "Liste içerisindeki en buyuk eleman : 45\n",
      "Liste içerisindeki en kucuk eleman : -5\n"
     ]
    }
   ],
   "source": [
    "#LİSTE İÇİNDEKİ EN BUYUK EN KÜÇÜK ELEMAN BULMA \n",
    "liste=[4,8,-5,45]\n",
    "en_buyuk=max(liste)\n",
    "en_kucuk=min(liste)\n",
    "print(f\"Liste içerisindeki en buyuk eleman : {en_buyuk}\\nListe içerisindeki en kucuk eleman : {en_kucuk}\")"
   ]
  },
  {
   "cell_type": "code",
   "execution_count": 5,
   "id": "d051eed3",
   "metadata": {},
   "outputs": [
    {
     "name": "stdout",
     "output_type": "stream",
     "text": [
      "Liste içerisindeki en buyuk eleman : y\n",
      "Liste içerisindeki en kucuk eleman : a\n"
     ]
    }
   ],
   "source": [
    "liste=[\"b\",\"e\",\"r\",\"k\",\"a\",\"y\"]\n",
    "en_buyuk=max(liste)  #alfabede y daha sonra geldigi için ve haliyele ascii degeri daha buyuk oldugu için en_buyuk=y oldu \n",
    "en_kucuk=min(liste)  #alfabede a daha sonra geldigi için ve haliyele ascii degeri daha kucuk oldugu için en_kucuk=a oldu \n",
    "print(f\"Liste içerisindeki en buyuk eleman : {en_buyuk}\\nListe içerisindeki en kucuk eleman : {en_kucuk}\")\n",
    "\n",
    "# max ve min meteodu karekterleri index numarasina göre degil alfabetik siralar yani ascii degerine gore büyük küçük olduguna\n",
    "\n",
    "# karar verir\n"
   ]
  },
  {
   "cell_type": "code",
   "execution_count": 7,
   "id": "7e1468a8",
   "metadata": {},
   "outputs": [
    {
     "data": {
      "text/plain": [
       "[8, -5]"
      ]
     },
     "execution_count": 7,
     "metadata": {},
     "output_type": "execute_result"
    }
   ],
   "source": [
    "# LİSTELERİ PARÇALAMA\n",
    "\n",
    "liste=[4,8,-5,45]\n",
    "liste[1:3]"
   ]
  },
  {
   "cell_type": "code",
   "execution_count": 16,
   "id": "d5d8db31",
   "metadata": {},
   "outputs": [
    {
     "name": "stdout",
     "output_type": "stream",
     "text": [
      "[4, 8, -5, 45, 12]\n"
     ]
    }
   ],
   "source": [
    "#LİSTEYE ELEMAN EKLEME \n",
    "\n",
    "#append(eklenecek_deger)\n",
    "#parametre olarak eklenecek değer alir aldigi degeri listenin son indexine ekler\n",
    "liste=[4,8,-5,45]\n",
    "liste.append(12)\n",
    "print(liste)"
   ]
  },
  {
   "cell_type": "code",
   "execution_count": 2,
   "id": "2ab01c34",
   "metadata": {},
   "outputs": [
    {
     "name": "stdout",
     "output_type": "stream",
     "text": [
      "[4, 124, 8, -5, 45]\n",
      "[4, 124, 8, -5, 75, 45]\n"
     ]
    }
   ],
   "source": [
    "#LİSTENİN İSTENİLEN İNDEXİNE ELEMAN EKLEME\n",
    "#inser(index_numarasi,eklenecek_deger) \n",
    "liste=[4,8,-5,45]\n",
    "liste.insert(1,124)\n",
    "print(liste)\n",
    "liste.insert(-1,75)# son eleman eklem yaparken son elemanin indexini 1 artirir son elemandan önceki indexe ekler\n",
    "print(liste)\n"
   ]
  },
  {
   "cell_type": "code",
   "execution_count": 34,
   "id": "a1be5950",
   "metadata": {},
   "outputs": [
    {
     "name": "stdout",
     "output_type": "stream",
     "text": [
      "[4, 8, -5]\n",
      "[4, -5]\n",
      "------------\n",
      "[4, -5, 45]\n"
     ]
    }
   ],
   "source": [
    "#LİSTEDEN ELEMAN SİLME\n",
    "\n",
    "# 1- pop()\n",
    "#belirtilen indexteki elemani siler index belirtilmezse son indexteki elemani siler\n",
    "liste=[4,8,-5,45]\n",
    "liste.pop()\n",
    "print(liste)\n",
    "liste.pop(1)\n",
    "print(liste)\n",
    "\n",
    "print(\"------------\")\n",
    "\n",
    "#2-remove(silinecek_deger)\n",
    "#parametre olarak silinecek deger alir\n",
    "#listede silinecek elemandan 2 veya daha fazla varsa sadece ilk buldugu elemani siler\n",
    "liste=[4,5,-5,45]\n",
    "liste.remove(5)\n",
    "print(liste)"
   ]
  },
  {
   "cell_type": "code",
   "execution_count": 29,
   "id": "e7c94f98",
   "metadata": {},
   "outputs": [
    {
     "name": "stdout",
     "output_type": "stream",
     "text": [
      "['y', 'a', 'k', 'r', 'e', 'b']\n",
      "---------\n",
      "[45, -5, 8, 4]\n"
     ]
    }
   ],
   "source": [
    "#LİSTEYİ TERSTEN(sondan-başa) SİRALAMA\n",
    "liste1=[\"b\",\"e\",\"r\",\"k\",\"a\",\"y\"]\n",
    "liste1.reverse()\n",
    "print(liste1)\n",
    "print(\"---------\")\n",
    "liste=[4,8,-5,45]\n",
    "liste.reverse()\n",
    "print(liste)"
   ]
  },
  {
   "cell_type": "code",
   "execution_count": 27,
   "id": "98568074",
   "metadata": {},
   "outputs": [
    {
     "name": "stdout",
     "output_type": "stream",
     "text": [
      "[-5, 4, 8, 45]\n",
      "--------------\n",
      "['a', 'b', 'e', 'k', 'r', 'y']\n"
     ]
    }
   ],
   "source": [
    "#LİSTELRİ SİRALAMA\n",
    "#sort()\n",
    "#listeyi kucukten buyuge siralar\n",
    "liste=[4,8,-5,45]\n",
    "liste.sort()\n",
    "print(liste)\n",
    "\n",
    "print(\"--------------\")\n",
    "\n",
    "liste1=[\"b\",\"e\",\"r\",\"k\",\"a\",\"y\"]\n",
    "liste1.sort()\n",
    "print(liste1)"
   ]
  },
  {
   "cell_type": "code",
   "execution_count": 33,
   "id": "40f40f40",
   "metadata": {},
   "outputs": [
    {
     "name": "stdout",
     "output_type": "stream",
     "text": [
      "3\n",
      "---------------\n",
      "3\n"
     ]
    }
   ],
   "source": [
    "#LİSTE İÇİNDEKİ ELEMANLARİN KAÇ TANE OLDUĞUNU ÖGRENME\n",
    "#count()\n",
    "#parametre olarak liste içinde kaç tane olduğu öğrenilmek istenen deger alir\n",
    "liste=[4,8,-5,45,8,45,0,4,4]\n",
    "print(liste.count(4))\n",
    "\n",
    "print(\"---------------\")\n",
    "liste1=[\"b\",\"e\",\"r\",\"k\",\"a\",\"y\",\"a\",\"l\",\"e\",\"y\",\"n\",\"a\"]\n",
    "print(liste1.count(\"e\"))"
   ]
  },
  {
   "cell_type": "code",
   "execution_count": 4,
   "id": "061431ce",
   "metadata": {},
   "outputs": [
    {
     "name": "stdout",
     "output_type": "stream",
     "text": [
      "[4, 8, -5, 45, 8, 45, 0, 4, 4, 1, 8, 4]\n"
     ]
    }
   ],
   "source": [
    "#LİSTELERİ GENİŞLETME\n",
    "#extend()\n",
    "#içerisine iterable(içerisinde gezinilebilen-birden fazla deger depolayabilen) değişken alir\n",
    "liste=[4,8,-5,45,8,45,0,4,4]\n",
    "liste.extend([1,8,4])\n",
    "print(liste)"
   ]
  },
  {
   "cell_type": "code",
   "execution_count": 4,
   "id": "ad61c79d",
   "metadata": {},
   "outputs": [
    {
     "name": "stdout",
     "output_type": "stream",
     "text": [
      "[0]\n",
      "[0, 1]\n",
      "[0, 1, 2]\n",
      "[0, 1, 2, 3]\n",
      "[0, 1, 2, 3, 4]\n",
      "\n",
      "[0, 1, 2, 3, 4]\n"
     ]
    }
   ],
   "source": [
    "#LİSTE ALİŞTİRMLAR\n",
    "#1- BOŞ LİSTEYE ELEMAN EKLEME\n",
    "liste=list()\n",
    "for i in range(5):\n",
    "    liste+=[i]\n",
    "    print(liste)\n",
    "print()\n",
    "print(liste)\n",
    "\n"
   ]
  },
  {
   "cell_type": "code",
   "execution_count": 5,
   "id": "fa0fe24a",
   "metadata": {},
   "outputs": [
    {
     "ename": "TypeError",
     "evalue": "list indices must be integers or slices, not tuple",
     "output_type": "error",
     "traceback": [
      "\u001b[1;31m---------------------------------------------------------------------------\u001b[0m",
      "\u001b[1;31mTypeError\u001b[0m                                 Traceback (most recent call last)",
      "Input \u001b[1;32mIn [5]\u001b[0m, in \u001b[0;36m<cell line: 1>\u001b[1;34m()\u001b[0m\n\u001b[1;32m----> 1\u001b[0m \u001b[43mliste\u001b[49m\u001b[43m[\u001b[49m\u001b[38;5;241;43m1\u001b[39;49m\u001b[43m,\u001b[49m\u001b[38;5;241;43m2\u001b[39;49m\u001b[43m,\u001b[49m\u001b[38;5;241;43m3\u001b[39;49m\u001b[43m,\u001b[49m\u001b[38;5;241;43m4\u001b[39;49m\u001b[43m]\u001b[49m\n\u001b[0;32m      2\u001b[0m \u001b[38;5;28;01mfor\u001b[39;00m i \u001b[38;5;129;01min\u001b[39;00m \u001b[38;5;28mrange\u001b[39m(\u001b[38;5;28mlen\u001b[39m(liste)):\n\u001b[0;32m      3\u001b[0m     \u001b[38;5;28mprint\u001b[39m(liste[i])\n",
      "\u001b[1;31mTypeError\u001b[0m: list indices must be integers or slices, not tuple"
     ]
    }
   ],
   "source": [
    "liste[1,2,3,4]\n",
    "for i in range(len(liste)):\n",
    "    print(liste[i])"
   ]
  },
  {
   "cell_type": "code",
   "execution_count": 6,
   "id": "6bf9c85a",
   "metadata": {},
   "outputs": [
    {
     "name": "stdout",
     "output_type": "stream",
     "text": [
      "sayi gir : 4\n",
      "sayi gir : 5\n",
      "sayi gir : 78\n",
      "sayi gir : 4\n",
      "sayi gir : 1\n",
      "[4, 5, 78, 4, 1]\n"
     ]
    }
   ],
   "source": [
    "#KLAVYEDEN ALİNAN GİRDİ İLE BOŞ LİSTE DOLDURMA\n",
    "liste=[]\n",
    "for i in range(5):\n",
    "    sayi=int(input(\"sayi gir : \"))\n",
    "    liste+=[sayi]#liste.aappend(sayi)\n",
    "print(liste)"
   ]
  },
  {
   "cell_type": "code",
   "execution_count": 9,
   "id": "90cb2487",
   "metadata": {
    "scrolled": true
   },
   "outputs": [
    {
     "name": "stdout",
     "output_type": "stream",
     "text": [
      "eleman :4\n",
      "sayi:1\n",
      "sayi:2\n",
      "sayi:3\n",
      "sayi:4\n",
      "[1, 2, 3, 4]\n",
      "\n",
      "[1, 2, 3, 4]\n"
     ]
    }
   ],
   "source": [
    "liste=list()\n",
    "bos_liste=[]\n",
    "index=0\n",
    "eleman=int(input(\"eleman :\"))\n",
    "for i in range(eleman):\n",
    "    sayi=int(input(\"sayi:\"))\n",
    "    liste+=[sayi]\n",
    "    bos_liste+=[liste[index]]\n",
    "    index+=1\n",
    "print(liste)\n",
    "print()\n",
    "\n",
    "\n",
    "print(bos_liste)"
   ]
  },
  {
   "cell_type": "code",
   "execution_count": null,
   "id": "0d33bcff",
   "metadata": {},
   "outputs": [],
   "source": []
  }
 ],
 "metadata": {
  "kernelspec": {
   "display_name": "Python 3 (ipykernel)",
   "language": "python",
   "name": "python3"
  },
  "language_info": {
   "codemirror_mode": {
    "name": "ipython",
    "version": 3
   },
   "file_extension": ".py",
   "mimetype": "text/x-python",
   "name": "python",
   "nbconvert_exporter": "python",
   "pygments_lexer": "ipython3",
   "version": "3.10.2"
  }
 },
 "nbformat": 4,
 "nbformat_minor": 5
}
