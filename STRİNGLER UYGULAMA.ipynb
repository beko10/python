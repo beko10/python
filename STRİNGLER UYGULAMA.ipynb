{
 "cells": [
  {
   "cell_type": "code",
   "execution_count": 4,
   "id": "c723b446",
   "metadata": {},
   "outputs": [
    {
     "name": "stdout",
     "output_type": "stream",
     "text": [
      "galata saray\n"
     ]
    }
   ],
   "source": [
    "#galatsaray takim ismini ayırın\n",
    "takim=\"galatasaray\"\n",
    "takim=takim[0:6]+\" \"+takim[6:]\n",
    "print(takim)"
   ]
  },
  {
   "cell_type": "code",
   "execution_count": 7,
   "id": "b88212af",
   "metadata": {},
   "outputs": [
    {
     "name": "stdout",
     "output_type": "stream",
     "text": [
      "deniz alti\n"
     ]
    }
   ],
   "source": [
    "#denizalti\n",
    "isim=\"denizalti\"\n",
    "isim=isim[0:5]+\" \"+isim[5:]\n",
    "print(isim)"
   ]
  },
  {
   "cell_type": "code",
   "execution_count": 8,
   "id": "e7b02fe4",
   "metadata": {},
   "outputs": [
    {
     "name": "stdout",
     "output_type": "stream",
     "text": [
      "berk ay\n"
     ]
    }
   ],
   "source": [
    "#berkay\n",
    "isim=\"berkay\"\n",
    "isim=isim[0:4]+\" \"+isim[4:]\n",
    "print(isim)"
   ]
  },
  {
   "cell_type": "code",
   "execution_count": 26,
   "id": "07d1d1ab",
   "metadata": {},
   "outputs": [
    {
     "name": "stdout",
     "output_type": "stream",
     "text": [
      "isim değişkeni içinde yazan cümlenin uzunluğu(boşluklar dahil)= 26\n",
      "---------------------------------------------------------------------------\n",
      "isim değişkeni içindeki karekter dizisinin 1.elemani yani 0. index'teki elemani= m\n",
      "isim değişkeni içindeki karekter dizisinin 1.elemani yani 0. index'teki elemani= m\n",
      "isim değişkeni içindeki karekter dizisinin 1.elemani yani 0. index'teki elemani= m\n",
      "---------------------------------------------------------------------------------------------\n",
      "isim değişkeni içindeki karekter dizisinin 26.elemani yani 25.index'teki eleman= a\n",
      "isim değişkeni içindeki karekter dizisinin 26.elemani yani 25.index'teki eleman= a\n",
      "isim değişkeni içindeki karekter dizisinin 26.elemani yani 25.index'teki eleman= a\n"
     ]
    }
   ],
   "source": [
    "isim=\"merhaba python programlama\"\n",
    "print(\"isim değişkeni içinde yazan cümlenin uzunluğu(boşluklar dahil)=\",len(isim))\n",
    "print(\"---------------------------------------------------------------------------\")\n",
    "print (\"isim değişkeni içindeki karekter dizisinin 1.elemani yani 0. index'teki elemani=\",isim[0])\n",
    "print(\"isim değişkeni içindeki karekter dizisinin 1.elemani yani 0. index'teki elemani=\",isim[-26])\n",
    "print (\"isim değişkeni içindeki karekter dizisinin 1.elemani yani 0. index'teki elemani=\",isim[-len(isim)])\n",
    "print(\"---------------------------------------------------------------------------------------------\")\n",
    "print (\"isim değişkeni içindeki karekter dizisinin 26.elemani yani 25.index'teki eleman=\",isim[25])\n",
    "print (\"isim değişkeni içindeki karekter dizisinin 26.elemani yani 25.index'teki eleman=\",isim[-1])\n",
    "print (\"isim değişkeni içindeki karekter dizisinin 26.elemani yani 25.index'teki eleman=\",isim[len(isim)-1])"
   ]
  },
  {
   "cell_type": "code",
   "execution_count": 1,
   "id": "b798c7b2",
   "metadata": {},
   "outputs": [
    {
     "name": "stdout",
     "output_type": "stream",
     "text": [
      "['berkay']\n"
     ]
    }
   ],
   "source": [
    "isim=\"berkay\"\n",
    "isim1=isim.split(\"-\")\n",
    "print(isim1)"
   ]
  },
  {
   "cell_type": "code",
   "execution_count": null,
   "id": "e07c8aed",
   "metadata": {},
   "outputs": [],
   "source": []
  }
 ],
 "metadata": {
  "kernelspec": {
   "display_name": "Python 3 (ipykernel)",
   "language": "python",
   "name": "python3"
  },
  "language_info": {
   "codemirror_mode": {
    "name": "ipython",
    "version": 3
   },
   "file_extension": ".py",
   "mimetype": "text/x-python",
   "name": "python",
   "nbconvert_exporter": "python",
   "pygments_lexer": "ipython3",
   "version": "3.10.2"
  }
 },
 "nbformat": 4,
 "nbformat_minor": 5
}
