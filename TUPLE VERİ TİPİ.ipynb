{
 "cells": [
  {
   "cell_type": "markdown",
   "id": "71956177",
   "metadata": {},
   "source": [
    "TUPPLE VERİ DİZİSİ\n",
    "------------------------------\n",
    "1-Immutable(değiştirilemez)\n",
    "\n",
    "2-Elemanlarinin sequnce numbre(index-sira) numarasi vardir\n",
    "\n",
    "3-Tupple veri tipi tanimlanirken \"()\" parantezi arasina tanimlanir\n",
    "\n"
   ]
  },
  {
   "cell_type": "markdown",
   "id": "4fca9c63",
   "metadata": {},
   "source": [
    "Tuple -----------------------------------List\n",
    "--------------------------------------------------------------------------------\n",
    "1-değiştirilemez-------------------------------------------- değiştirilebilir\n",
    "\n",
    "2-() tanimlanir----------------------------------------------[] tanimlanir"
   ]
  },
  {
   "cell_type": "code",
   "execution_count": 2,
   "id": "5c5d2eef",
   "metadata": {},
   "outputs": [
    {
     "name": "stdout",
     "output_type": "stream",
     "text": [
      "tupple veri dizsi içindeki elemanlar :  (1, 2, 3) \n",
      " tup veri dizisiniz tipi : <class 'tuple'>\n"
     ]
    }
   ],
   "source": [
    "tup=(1,2,3)\n",
    "print(\"tupple veri dizsi içindeki elemanlar : \",tup,\"\\n\" , \"tup veri dizisiniz tipi :\",type(tup))"
   ]
  },
  {
   "cell_type": "code",
   "execution_count": 3,
   "id": "3051391c",
   "metadata": {},
   "outputs": [
    {
     "name": "stdout",
     "output_type": "stream",
     "text": [
      "1\n"
     ]
    }
   ],
   "source": [
    "print(tup[0])"
   ]
  },
  {
   "cell_type": "markdown",
   "id": "978b7183",
   "metadata": {},
   "source": [
    "TUPLE VERİ İÇİNDEKİ ELEMANLAR DEĞİŞTİRİLEMEZ\n",
    "------------------------------------------------"
   ]
  },
  {
   "cell_type": "code",
   "execution_count": 4,
   "id": "41a5d4fa",
   "metadata": {},
   "outputs": [
    {
     "ename": "TypeError",
     "evalue": "'tuple' object does not support item assignment",
     "output_type": "error",
     "traceback": [
      "\u001b[1;31m---------------------------------------------------------------------------\u001b[0m",
      "\u001b[1;31mTypeError\u001b[0m                                 Traceback (most recent call last)",
      "Input \u001b[1;32mIn [4]\u001b[0m, in \u001b[0;36m<cell line: 1>\u001b[1;34m()\u001b[0m\n\u001b[1;32m----> 1\u001b[0m tup[\u001b[38;5;241m0\u001b[39m]\u001b[38;5;241m=\u001b[39m\u001b[38;5;241m10\u001b[39m\n\u001b[0;32m      2\u001b[0m \u001b[38;5;28mprint\u001b[39m(tup)\n",
      "\u001b[1;31mTypeError\u001b[0m: 'tuple' object does not support item assignment"
     ]
    }
   ],
   "source": [
    "tup[0]=10\n",
    "print(tup)"
   ]
  },
  {
   "cell_type": "markdown",
   "id": "8f511221",
   "metadata": {},
   "source": [
    "TUPLE VERİ DİZİSİ İÇERSİNİNE FARKLİ VERİ TİPLERİNDEN ELEMAN ALABİLİR\n",
    "------------------------------------"
   ]
  },
  {
   "cell_type": "code",
   "execution_count": 18,
   "id": "925798ec",
   "metadata": {},
   "outputs": [
    {
     "name": "stdout",
     "output_type": "stream",
     "text": [
      "(1, 8, 4.5, 'BERKAY', True)\n",
      "1. elemanin veri tipi :  <class 'int'>\n",
      "3. elemanin veri tipi :  <class 'float'>\n",
      "4. elemanin veri tipi :  <class 'str'>\n",
      "5. elemanin veri tipi :  <class 'bool'>\n"
     ]
    }
   ],
   "source": [
    "tup=(1,8,4.5,\"BERKAY\",True)\n",
    "print(tup)\n",
    "print(\"1. elemanin veri tipi : \",type(tup[0]))\n",
    "print(\"3. elemanin veri tipi : \",type(tup[2]))\n",
    "print(\"4. elemanin veri tipi : \",type(tup[3]))\n",
    "print(\"5. elemanin veri tipi : \",type(tup[4]))"
   ]
  },
  {
   "cell_type": "markdown",
   "id": "efa3500b",
   "metadata": {},
   "source": [
    "TUPLE VERİ DİZSİ İÇİNE BAŞKA TUPLE VEYA DİZİ VERİ TİPİ ALABİLİR\n",
    "-------------------------------------------------"
   ]
  },
  {
   "cell_type": "code",
   "execution_count": 31,
   "id": "d3767691",
   "metadata": {},
   "outputs": [],
   "source": [
    "tup1=((1,2,3),(\"berkay\",\"aleyna\"))\n"
   ]
  },
  {
   "cell_type": "code",
   "execution_count": 33,
   "id": "3118f0f0",
   "metadata": {},
   "outputs": [
    {
     "data": {
      "text/plain": [
       "((1, 2, 3), ('berkay', 'aleyna'))"
      ]
     },
     "execution_count": 33,
     "metadata": {},
     "output_type": "execute_result"
    }
   ],
   "source": [
    "tup1"
   ]
  },
  {
   "cell_type": "code",
   "execution_count": 35,
   "id": "7a71e3ae",
   "metadata": {},
   "outputs": [
    {
     "data": {
      "text/plain": [
       "{20: 'berkay', 10: 'aleyna'}"
      ]
     },
     "execution_count": 35,
     "metadata": {},
     "output_type": "execute_result"
    }
   ],
   "source": [
    "demet=({20:\"berkay\",10:\"aleyna\"})\n",
    "demet"
   ]
  },
  {
   "cell_type": "markdown",
   "id": "36e74b39",
   "metadata": {},
   "source": [
    "BOŞ TUPLE TANİMLAMA YÖNTEMLERİ\n",
    "------------------------------"
   ]
  },
  {
   "cell_type": "code",
   "execution_count": 1,
   "id": "6525e769",
   "metadata": {},
   "outputs": [
    {
     "name": "stdout",
     "output_type": "stream",
     "text": [
      "() ()\n"
     ]
    }
   ],
   "source": [
    "tup=()#tup içerisine eleman atamsi yapilmadi\n",
    "tup1=tuple()#tuple fonk yardımı ile bos tuple tanimlandi\n",
    "print(tup,tup1)"
   ]
  },
  {
   "cell_type": "markdown",
   "id": "10d28f22",
   "metadata": {},
   "source": [
    "TUPLE LAR BİRLEŞTİRİLEBİLİNİR \n",
    "--------------------------------------"
   ]
  },
  {
   "cell_type": "code",
   "execution_count": 3,
   "id": "77183a9b",
   "metadata": {},
   "outputs": [
    {
     "name": "stdout",
     "output_type": "stream",
     "text": [
      "(1, 2, 4, 'berkay')\n"
     ]
    }
   ],
   "source": [
    "tup1=(1,2)\n",
    "tup2=(4,\"berkay\")\n",
    "tup3=tup1+tup2\n",
    "print(tup3)"
   ]
  },
  {
   "cell_type": "markdown",
   "id": "53f6ae16",
   "metadata": {},
   "source": [
    "TUPLE METOTLARI\n",
    "-----------------------------\n",
    "1-count metodu tuple ın içerisindeki eleman sayisini söyler\n",
    "\n",
    "2- index metodu tuple in içerisindeki index ini ogrenmek istenilen elemanin index numarsini soyler"
   ]
  },
  {
   "cell_type": "code",
   "execution_count": 6,
   "id": "aa719736",
   "metadata": {},
   "outputs": [
    {
     "name": "stdout",
     "output_type": "stream",
     "text": [
      "2\n"
     ]
    }
   ],
   "source": [
    "tup=(1,2,15,15,8,\"berkay\")\n",
    "print(tup.count(15))"
   ]
  },
  {
   "cell_type": "code",
   "execution_count": 7,
   "id": "00bcd019",
   "metadata": {},
   "outputs": [
    {
     "name": "stdout",
     "output_type": "stream",
     "text": [
      "0\n"
     ]
    }
   ],
   "source": [
    "print(tup.index(1))"
   ]
  },
  {
   "cell_type": "code",
   "execution_count": 9,
   "id": "55708d2e",
   "metadata": {},
   "outputs": [
    {
     "name": "stdout",
     "output_type": "stream",
     "text": [
      "2\n"
     ]
    }
   ],
   "source": [
    "print(tup.index(15))#15 degeri tuple da 2 tane oldugu için ilk gördugu degerin indexini verir"
   ]
  },
  {
   "cell_type": "code",
   "execution_count": 28,
   "id": "ffcbbcce",
   "metadata": {},
   "outputs": [],
   "source": []
  },
  {
   "cell_type": "code",
   "execution_count": 3,
   "id": "7c22694a",
   "metadata": {},
   "outputs": [
    {
     "ename": "NameError",
     "evalue": "name 'tup4' is not defined",
     "output_type": "error",
     "traceback": [
      "\u001b[1;31m---------------------------------------------------------------------------\u001b[0m",
      "\u001b[1;31mNameError\u001b[0m                                 Traceback (most recent call last)",
      "Input \u001b[1;32mIn [3]\u001b[0m, in \u001b[0;36m<cell line: 1>\u001b[1;34m()\u001b[0m\n\u001b[1;32m----> 1\u001b[0m \u001b[38;5;28mprint\u001b[39m(\u001b[43mtup4\u001b[49m)\n",
      "\u001b[1;31mNameError\u001b[0m: name 'tup4' is not defined"
     ]
    }
   ],
   "source": []
  },
  {
   "cell_type": "markdown",
   "id": "f5539c7c",
   "metadata": {},
   "source": []
  }
 ],
 "metadata": {
  "kernelspec": {
   "display_name": "Python 3 (ipykernel)",
   "language": "python",
   "name": "python3"
  },
  "language_info": {
   "codemirror_mode": {
    "name": "ipython",
    "version": 3
   },
   "file_extension": ".py",
   "mimetype": "text/x-python",
   "name": "python",
   "nbconvert_exporter": "python",
   "pygments_lexer": "ipython3",
   "version": "3.10.2"
  }
 },
 "nbformat": 4,
 "nbformat_minor": 5
}
