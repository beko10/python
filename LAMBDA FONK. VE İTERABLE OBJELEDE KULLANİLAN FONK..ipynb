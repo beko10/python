{
 "cells": [
  {
   "cell_type": "markdown",
   "id": "11fd37ca",
   "metadata": {},
   "source": [
    "# LAMDA FONK.\n",
    "-------------------------\n",
    "\n",
    "#GENEL YAPİSİ\n",
    "-------------------------\n",
    "\n",
    "etiket =  lambda alacagi parametreler(argümanlar)  : fonk.yapacagi işlem\n",
    "\n",
    "lambda fonk. yapacagi işlemi herhangi bir etikete atamaliyiz ve bu etiket sayesinde lambda fonk. cagirabilirz.\n",
    "\n",
    "Lamda fonk. sinirsiz sayida değişken alabilir ama yanlizca tek işlevi return eder.\n",
    "\n",
    "\n"
   ]
  },
  {
   "cell_type": "code",
   "execution_count": 3,
   "id": "a55e1b66",
   "metadata": {},
   "outputs": [
    {
     "name": "stdout",
     "output_type": "stream",
     "text": [
      "25\n"
     ]
    }
   ],
   "source": [
    "#LAMBDA FONK.\n",
    "\n",
    "kare_al = lambda sayi : sayi * sayi\n",
    "\n",
    "print(kare_al(5))"
   ]
  },
  {
   "cell_type": "code",
   "execution_count": 5,
   "id": "109922c1",
   "metadata": {},
   "outputs": [
    {
     "name": "stdout",
     "output_type": "stream",
     "text": [
      "yakreb\n"
     ]
    }
   ],
   "source": [
    "isimi_ters_yaz = lambda isim : isim[::-1]\n",
    "print(isimi_ters_yaz(\"berkay\"))"
   ]
  },
  {
   "cell_type": "markdown",
   "id": "8004d5e8",
   "metadata": {},
   "source": [
    "MAP FONK.\n",
    "-----------------\n",
    "\n",
    "GENEL YAPİSİ:\n",
    "\n",
    "map(fonk.objesi , iterasyon yapilacak veri tipi(liste,tupple...vb)\n",
    "\n",
    "map fonk.  aldigi fonk. argümani sayesinde iterable  veri tipinin  her bir elemnda gezer ve fonk. yapacagi işelemi her bir \n",
    "\n",
    "elemana uygular ve map objesi olarak dödürür\n"
   ]
  },
  {
   "cell_type": "code",
   "execution_count": 9,
   "id": "63a36cf0",
   "metadata": {},
   "outputs": [
    {
     "name": "stdout",
     "output_type": "stream",
     "text": [
      "[2, 4, 6, 8, 10, 12, 14, 16, 18]\n",
      "[2, 4, 6, 8, 10, 12, 14, 16, 18]\n"
     ]
    }
   ],
   "source": [
    "# map fonk.\n",
    "\n",
    "liste = [1,2,3,4,5,6,7,8,9]\n",
    "\n",
    "def iki_ile_carp (sayi) :\n",
    "    return sayi * 2\n",
    "\n",
    "print(list(map(iki_ile_carp,liste)))\n",
    "\n",
    "iki_kati = map(lambda sayi : sayi * 2 ,liste)\n",
    "print(list(iki_kati))"
   ]
  },
  {
   "cell_type": "code",
   "execution_count": 15,
   "id": "8d15ad37",
   "metadata": {},
   "outputs": [
    {
     "name": "stdout",
     "output_type": "stream",
     "text": [
      "[1, 4, 9, 16, 25]\n"
     ]
    }
   ],
   "source": [
    "sayilar = [1 , 2 , 3 , 4 , 5]\n",
    "sayilarin_karesi = list(map(lambda sayi : sayi ** 2 , sayilar))\n",
    "print(sayilarin_karesi) "
   ]
  },
  {
   "cell_type": "markdown",
   "id": "69da91c8",
   "metadata": {},
   "source": [
    "FİLTER FONK.\n",
    "----------------------\n",
    "\n",
    "GENEL YAPİSİ :\n",
    "\n",
    "filter(fonk. , iterasyon yapilabilinen obje(liste,tuple...vb))\n",
    "\n",
    "filter fonk. parametre olarak aldigi fonk. bolean deger dödüren bir fonk. olmasi gerekmektedir.\n",
    "\n",
    "filter fonk. adindan da anlaşilacagi üzere filtreleme için kullanilir yani bir listedeki pozitif sayilari bulmak vb ... "
   ]
  },
  {
   "cell_type": "code",
   "execution_count": 10,
   "id": "f01d0c4c",
   "metadata": {},
   "outputs": [
    {
     "name": "stdout",
     "output_type": "stream",
     "text": [
      "[1, 2, 9, 6, 10]\n",
      "[1, 2, 9, 6, 10]\n"
     ]
    }
   ],
   "source": [
    "# filter fonk.\n",
    "liste = [1,2,9,-45,6,-68,10,-12]\n",
    "def pozitif(sayi):\n",
    "    return sayi > 0\n",
    "pozitif_sayilar=filter(pozitif,liste)\n",
    "print(list(pozitif_sayilar))\n",
    "\n",
    "print(list(filter(lambda sayi : sayi > 0 , liste)))\n",
    "\n"
   ]
  },
  {
   "cell_type": "code",
   "execution_count": 6,
   "id": "e9592afe",
   "metadata": {},
   "outputs": [
    {
     "name": "stdout",
     "output_type": "stream",
     "text": [
      "[4, 8, 12, -50]\n",
      "[4, 5, 8, 9, 12, -50]\n"
     ]
    }
   ],
   "source": [
    "liste = [ 4 , 5 , 8 , 9 , 12 , -50]\n",
    "\n",
    "cift_sayilar = list(filter(lambda sayi : sayi % 2 == 0 , liste ))\n",
    "print(cift_sayilar)"
   ]
  },
  {
   "cell_type": "markdown",
   "id": "70b301c3",
   "metadata": {},
   "source": [
    "REDUCE FONK.\n",
    "-----------------------\n",
    "\n",
    "GENEL YAPİSİ:\n",
    "\n",
    "reduce(fonk. , iterasyon yapilabilinen obje(liste,tuple...vb))\n",
    "\n",
    "örnek:\n",
    "\n",
    "liste = [12 , 18 , 20 , 10 ]\n",
    "\n",
    "def topla(sayi1 , sayi2):\n",
    "    return sayi1 + sayi2\n",
    "\n",
    "reduce(topla , liste)\n",
    "\n",
    "1- topla fonk. reduce fonk. sayesinde listede dolanmaya başlar sayi1 ve sayi2 olarak listenin ilk 2 elemanini alir ve toplar.\n",
    "\n",
    " 12 + 18 = 30\n",
    "\n",
    "2- 30 toplam degeri sayi1 parametresine listenin 3.elemani sayi2 parametresine atanir ver yeni toplam;\n",
    "\n",
    " 30 + 20 = 50 \n",
    "\n",
    "3- 50 toplam degeri sayi1 parametresine listenin 4.elemani sayi2 parametresine atanir ver yeni toplam;\n",
    "\n",
    " 50 + 10 = 60 \n",
    "\n",
    " listede gezilecek eleman kalmadigi için toplam degeri 60 olarak reduce fonk. dödürülür.\n"
   ]
  },
  {
   "cell_type": "code",
   "execution_count": 1,
   "id": "848906f2",
   "metadata": {},
   "outputs": [
    {
     "name": "stdout",
     "output_type": "stream",
     "text": [
      "2400\n"
     ]
    }
   ],
   "source": [
    "from functools import reduce\n",
    "\n",
    "def sayilari_carp(sayi1 , sayi2):\n",
    "    return sayi1 * sayi2\n",
    "\n",
    "liste = [12 , 10 , 4 , 5]\n",
    "\n",
    "sayilarin_carpimi = reduce(sayilari_carp,liste)\n",
    "\n",
    "print(sayilarin_carpimi)"
   ]
  },
  {
   "cell_type": "code",
   "execution_count": 2,
   "id": "6ba2e10b",
   "metadata": {},
   "outputs": [
    {
     "name": "stdout",
     "output_type": "stream",
     "text": [
      "12\n"
     ]
    }
   ],
   "source": [
    "from functools import reduce\n",
    "\n",
    "liste = [4 , 5 , 8 , -5 , 12]\n",
    "\n",
    "def sayi_karsilastirma(x , y):\n",
    "    if x > y :\n",
    "        return x\n",
    "    else:\n",
    "        return y\n",
    "enBuyukSayi = reduce(sayi_karsilastirma ,  liste)\n",
    "\n",
    "print(enBuyukSayi)"
   ]
  },
  {
   "cell_type": "code",
   "execution_count": 1,
   "id": "cffeae12",
   "metadata": {},
   "outputs": [
    {
     "name": "stdout",
     "output_type": "stream",
     "text": [
      "39\n"
     ]
    }
   ],
   "source": [
    "#reduce fonk.\n",
    "from functools import reduce\n",
    "liste = [1,2,9,-45,6,68,10,-12]\n",
    "\n",
    "toplam = reduce(lambda sayi1 , sayi2 : sayi1 + sayi2 , liste)\n",
    "print(toplam)\n"
   ]
  },
  {
   "cell_type": "code",
   "execution_count": 5,
   "id": "4fcdd69f",
   "metadata": {},
   "outputs": [
    {
     "name": "stdout",
     "output_type": "stream",
     "text": [
      "[7.5, 17.5, 45.0]\n",
      "70.0\n",
      "geçtiniz ...\n"
     ]
    }
   ],
   "source": [
    "# katsayilar ve notlari verilen bir ogrencinin dersi geçip geçmedigini map ve reduce fonk. ile bulun\n",
    "\n",
    "from functools import reduce\n",
    "    \n",
    "katsayilar = [0.15 , 0.25 , 0.5]\n",
    "notlar = [50 , 70 , 90 ]\n",
    "\n",
    "# lambda fonk. kullanmadan çözüm \n",
    "\n",
    "def not_hesapla(sayi1 , sayi2): # fonk. alacagi parametreler yazildi \n",
    "    return sayi1 * sayi2 # fonk. dödürecegi deger belirtildi\n",
    "\n",
    "notlar_listesi = list(map(not_hesapla , katsayilar , notlar)) # map fonk. sayesinde yazmis oldugumuz fonk. yardimi ile \n",
    "# katsayilar listesi ve notlar listesi çarpildi\n",
    "\n",
    "print(notlar_listesi)# degerler ekrana basildi \n",
    "\n",
    "def notlari_topla(not1 , not2):\n",
    "    return not1 + not2\n",
    "notlar_toplami = reduce(notlari_topla , notlar_listesi )\n",
    "print(notlar_toplami)\n",
    "\n",
    "if notlar_toplami >= 50 :\n",
    "    print(\"geçtiniz ...\")\n",
    "else : \n",
    "    print(\"kaldiniz ...\")"
   ]
  },
  {
   "cell_type": "code",
   "execution_count": 8,
   "id": "f2cbc4b4",
   "metadata": {},
   "outputs": [
    {
     "name": "stdout",
     "output_type": "stream",
     "text": [
      "[7.5, 17.5, 45.0]\n",
      "70.0\n",
      "geçtiniz ...\n"
     ]
    }
   ],
   "source": [
    "#lambda fonk. kullanarak cozüm\n",
    "\n",
    "katsayilar = [0.15 , 0.25 , 0.5]\n",
    "notlar = [50 , 70 , 90 ]\n",
    "\n",
    "notlar_listesi = list(map(lambda sayi1 , sayi2 : sayi1 * sayi2 , katsayilar , notlar))\n",
    "\n",
    "print(notlar_listesi)\n",
    "\n",
    "notlar_toplami = reduce(lambda not1 , not2 : not1 + not2 , notlar_listesi)\n",
    "\n",
    "print(notlar_toplami)\n",
    "\n",
    "if notlar_toplami >= 50 :\n",
    "    print(\"geçtiniz ...\")\n",
    "else : \n",
    "    print(\"kaldiniz ...\")"
   ]
  },
  {
   "cell_type": "markdown",
   "id": "cac38a56",
   "metadata": {},
   "source": [
    "NOT : map fonk. ,  reduce fonk. , filter fonk. iterable(gezinebildigimiz) objeler üzerinde kullanilir \n",
    "---------------------------"
   ]
  },
  {
   "cell_type": "code",
   "execution_count": 13,
   "id": "ceb249ca",
   "metadata": {},
   "outputs": [
    {
     "name": "stdout",
     "output_type": "stream",
     "text": [
      "<zip object at 0x00000226E6464080>\n",
      "[('berkay', 10, 2), ('aleyna ', 20, 2), ('melis', 30, 1)]\n"
     ]
    }
   ],
   "source": [
    "# zip fonk.\n",
    "# iterable objelerin birleştirilmesinde kullanilir \n",
    "#sıkıştırılacak iterable objelerin eleman sayilari ayni olamalidir \n",
    "\n",
    "isimler = [\"berkay\" , \"aleyna \" , \"melis\"]\n",
    "numaralar = [10  ,  20 , 30 ]\n",
    "sinif = (2 , 2 , 1 )\n",
    "\n",
    "bilgiler = zip(isimler , numaralar ,sinif )\n",
    "\n",
    "print(bilgiler)#ram de depolandigi yer ekrana basilir\n",
    "print(list(bilgiler))\n"
   ]
  },
  {
   "cell_type": "code",
   "execution_count": null,
   "id": "96244673",
   "metadata": {},
   "outputs": [],
   "source": []
  }
 ],
 "metadata": {
  "kernelspec": {
   "display_name": "Python 3 (ipykernel)",
   "language": "python",
   "name": "python3"
  },
  "language_info": {
   "codemirror_mode": {
    "name": "ipython",
    "version": 3
   },
   "file_extension": ".py",
   "mimetype": "text/x-python",
   "name": "python",
   "nbconvert_exporter": "python",
   "pygments_lexer": "ipython3",
   "version": "3.10.2"
  }
 },
 "nbformat": 4,
 "nbformat_minor": 5
}
