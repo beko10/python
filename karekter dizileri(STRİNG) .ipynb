{
 "cells": [
  {
   "cell_type": "markdown",
   "id": "9fd75963",
   "metadata": {},
   "source": [
    "# Karakter Dizileri (Strignler)\n",
    "karakterlerin bir araya gelerek oluşturduklari dizilerdir(dizgi)\n",
    "pythonda karakter dizileri 0 dan +x e kadar indexlenebildigi gibi tersten de indexlenebilir yani en sondaki karakter\n",
    "-1 olur ve birer birer  azalarak -y kadar devam eder\n",
    "\n",
    "# p | y | t | h | o | n\n",
    "----------------------------------\n",
    "\n",
    "# 0 | 1 | 2 | 3 | 4 | 5 \n",
    "# -6|-5| -4 |-3|-2 |-1"
   ]
  },
  {
   "cell_type": "code",
   "execution_count": 21,
   "id": "76991442",
   "metadata": {},
   "outputs": [
    {
     "name": "stdout",
     "output_type": "stream",
     "text": [
      "dizinin 0.indisindeki eleman =  b \n",
      " b\n",
      "dizinin 5. indisindeki eleman =  y y\n"
     ]
    }
   ],
   "source": [
    "isim=\"berkay\"\n",
    "print(\"dizinin 0.indisindeki eleman = \" , isim[0],\"\\n\",isim[-6])\n",
    "print(\"dizinin 5. indisindeki eleman = \",isim[5],isim[-1])\n",
    "#pythonda karakter dizileri 0 dan +x e kadar indexlenebildigi gibi tersten de indexlenebilir yani en sondaki karakter\n",
    "#-1 olur ve birer birer  azalarak -y kadar devam eder\n",
    "#pythonda stringler baştan oldugu gibi sondan da indexlenir yani -1.indexteki eleman karakter dizisinin  son karakteridir"
   ]
  },
  {
   "cell_type": "code",
   "execution_count": 2,
   "id": "91b473a5",
   "metadata": {},
   "outputs": [
    {
     "data": {
      "text/plain": [
       "'STRİNG PARÇALAMA'"
      ]
     },
     "execution_count": 2,
     "metadata": {},
     "output_type": "execute_result"
    }
   ],
   "source": [
    "\"STRİNG PARÇALAMA İŞLEMLERİ\""
   ]
  },
  {
   "cell_type": "code",
   "execution_count": 3,
   "id": "3d837a3c",
   "metadata": {},
   "outputs": [
    {
     "name": "stdout",
     "output_type": "stream",
     "text": [
      "berkay kaplan\n",
      "fullname karakter dizisinin son harfi = n\n",
      "fullname karakter dizisinin ilk harfi = b\n",
      "erkay\n",
      "erkay\n",
      "ek\n",
      "yakreb\n",
      "yakreb\n"
     ]
    }
   ],
   "source": [
    "isim=\"berkay\"\n",
    "soyad=\"kaplan\"\n",
    "fullname=isim+soyad\n",
    "print(isim,soyad)\n",
    "print(\"fullname karakter dizisinin son harfi =\",fullname[len(fullname)-1])\n",
    "print(\"fullname karakter dizisinin ilk harfi =\",fullname[-len(fullname)])\n",
    "print(isim[1:])#isim karekater dizisindeki 1.indisteki elemandan son eleman kadar yazar\n",
    "print(isim[-5:])\n",
    "print(isim[1:5:2])#isim karekater dizisindeki 1.indisteki elemandan 2 şer şer atlayarak yazar(5 dahil değil)\n",
    "print(isim[-1: :-1])\n",
    "print(isim[::-1])"
   ]
  },
  {
   "cell_type": "code",
   "execution_count": 5,
   "id": "dfb9d8c6",
   "metadata": {},
   "outputs": [
    {
     "name": "stdout",
     "output_type": "stream",
     "text": [
      "erkaykaplan\n"
     ]
    }
   ],
   "source": [
    "isim=\"berkay\"\n",
    "soyad=\"kaplan\"\n",
    "fullname=isim+soyad\n",
    "print(fullname[1:])\n",
    "#karekter dizisini 1. indisinden son indise kadar ekrana yazdirir"
   ]
  },
  {
   "cell_type": "code",
   "execution_count": 7,
   "id": "198f7ccd",
   "metadata": {},
   "outputs": [
    {
     "name": "stdout",
     "output_type": "stream",
     "text": [
      "erkaykap\n"
     ]
    }
   ],
   "source": [
    "isim=\"berkay\"\n",
    "soyad=\"kaplan\"\n",
    "fullname=isim+soyad\n",
    "print(fullname[1:9])\n",
    "#karekter dizisini 1. indisten 9.indise kadar(9.indis dahil değil) ekrana yazdirir"
   ]
  },
  {
   "cell_type": "code",
   "execution_count": 9,
   "id": "36b3cceb",
   "metadata": {},
   "outputs": [
    {
     "name": "stdout",
     "output_type": "stream",
     "text": [
      "berkaykaplan\n",
      "eky\n"
     ]
    }
   ],
   "source": [
    "isim=\"berkay\"\n",
    "soyisim=\"kaplan\"\n",
    "fullname=isim+soyisim\n",
    "print(isim[1:8:2])\n",
    "#karakter dizisini 1.index ten 8. index e kadar 2 şer 2 şer artirarak ekrana yazar"
   ]
  },
  {
   "cell_type": "code",
   "execution_count": 13,
   "id": "a42f2870",
   "metadata": {},
   "outputs": [
    {
     "name": "stdout",
     "output_type": "stream",
     "text": [
      "nalpakyakreb\n"
     ]
    }
   ],
   "source": [
    "isim=\"berkay\"\n",
    "soyisim=\"kaplan\"\n",
    "fullname=isim+soyisim\n",
    "\n",
    "print(fullname[12::-1])\n",
    "#karakter dizisini terstern yazdirir"
   ]
  },
  {
   "cell_type": "code",
   "execution_count": 16,
   "id": "a7a84e60",
   "metadata": {},
   "outputs": [
    {
     "name": "stdout",
     "output_type": "stream",
     "text": [
      "nalpakyakreb\n"
     ]
    }
   ],
   "source": [
    "isim=\"berkay\"\n",
    "soyisim=\"kaplan\"\n",
    "fullname=isim+soyisim\n",
    "print(fullname[-1::-1])\n"
   ]
  },
  {
   "cell_type": "code",
   "execution_count": 2,
   "id": "11aeba9e",
   "metadata": {},
   "outputs": [
    {
     "name": "stdout",
     "output_type": "stream",
     "text": [
      "Liste içerisindeki en buyuk eleman : y\n",
      "Liste içerisindeki en kucuk eleman : a\n"
     ]
    }
   ],
   "source": [
    "isim=\"berkay\"\n",
    "en_buyuk=max(isim) #alfabede y daha sonra geldigi için ve haliyele ascii degeri daha buyuk oldugu için en_buyuk=y oldu \n",
    "en_kucuk=min(isim) #alfabede a daha sonra geldigi için ve haliyele ascii degeri daha kucuk oldugu için en_kucuk=a oldu\n",
    "print(f\"Liste içerisindeki en buyuk eleman : {en_buyuk}\\nListe içerisindeki en kucuk eleman : {en_kucuk}\")\n",
    "\n",
    "# max ve min meteodu karekterleri index numarasina göre degil alfabetik siralar yani ascii degerine gore büyük küçük olduguna\n",
    "\n",
    "# karar verir"
   ]
  },
  {
   "cell_type": "code",
   "execution_count": null,
   "id": "e5d38fd1",
   "metadata": {},
   "outputs": [],
   "source": []
  }
 ],
 "metadata": {
  "kernelspec": {
   "display_name": "Python 3 (ipykernel)",
   "language": "python",
   "name": "python3"
  },
  "language_info": {
   "codemirror_mode": {
    "name": "ipython",
    "version": 3
   },
   "file_extension": ".py",
   "mimetype": "text/x-python",
   "name": "python",
   "nbconvert_exporter": "python",
   "pygments_lexer": "ipython3",
   "version": "3.10.2"
  }
 },
 "nbformat": 4,
 "nbformat_minor": 5
}
