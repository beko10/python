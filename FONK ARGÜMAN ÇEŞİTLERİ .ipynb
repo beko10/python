{
 "cells": [
  {
   "cell_type": "markdown",
   "id": "28278842",
   "metadata": {},
   "source": [
    "POSİTİONAL PARAMETRE (ARGÜMAN)\n",
    "----------------------------------------------------------\n",
    "\n",
    "Programimizda fonk. positional argüman almişşsa fonk. bu degereleri alinan argüman sirasiyala göderilmelidir.\n",
    "\n",
    "def sayilar (sayi1 , sayi2 ) :\n",
    "    print(sayi1 , sayi2)\n",
    "\n",
    "\n",
    "sayilar(10 , 20 )\n",
    "\n",
    "burada sayi1 = 10 , sayi2 = 20 parametrelerine eşit olacaktir. "
   ]
  },
  {
   "cell_type": "code",
   "execution_count": 4,
   "id": "d7757bdf",
   "metadata": {},
   "outputs": [
    {
     "name": "stdout",
     "output_type": "stream",
     "text": [
      "bilgi yok  bilgi yok bilgi yok\n",
      "berkay kaplan 20\n",
      "bilgi yok  kaplan bilgi yok\n"
     ]
    }
   ],
   "source": [
    "# FONK PARAMETRELERİNİ(ARGÜMANLARİNİ) VARSAYİLAN DEGER OLARAK AYARLAMA VE POSİTİONAL PAREMETRE(ARGÜMAN);\n",
    "def bilgi_soyle(isim=\"bilgi yok \",soyad=\"bilgi yok\",yas=\"bilgi yok\"):\n",
    "    print(isim,soyad,yas)\n",
    "bilgi_soyle()\n",
    "\n",
    "bilgi_soyle(soyad=\"kaplan\",yas=20,isim=\"berkay\")#fonk.parametrelerinin alacagi degerler ya sirayla ya da fonk. parametre adi ile \n",
    "#göderilir\n",
    "bilgi_soyle(soyad=\"kaplan\")"
   ]
  },
  {
   "cell_type": "code",
   "execution_count": 8,
   "id": "b53b0fc5",
   "metadata": {},
   "outputs": [
    {
     "name": "stdout",
     "output_type": "stream",
     "text": [
      "sayi1 girin : 4\n",
      "sayi2 girin : 5\n",
      "lutfen yapmak istediginiz islemi girin : toplama\n",
      "9\n"
     ]
    }
   ],
   "source": [
    "def toplama(a , b):\n",
    "    return a + b\n",
    "def cikarma(a , b):\n",
    "    return a - b\n",
    "def carpma (a , b):\n",
    "    return a * b\n",
    "def bolme (a , b):\n",
    "    return a / b\n",
    "def islem_fonk(toplama_fonk,cikarma_fonk,carpma_fonk,bolme_fonk, sayi1 , sayi2,yapilacak_islem):# islem fonk. alacagi parametreler\n",
    "    if islem == \"toplama\":#kullanici toplama girerse f1 fonk. parametresi islem fonk. göderilen yukaridaki tanimlanmis   \n",
    "        print(toplama_fonk(sayi1,sayi2))#toplama fonk. eşitlenicek ve toplama fonk. çagirilacak \n",
    "    elif islem == \"cikarma\":\n",
    "        print(cikarma_fonk(sayi1,sayi2))\n",
    "    elif islem == \"carpma\":\n",
    "        print(carpma_fonk(sayi1, sayi2))\n",
    "    elif islem == \"bolme\":\n",
    "        print(bolme_fonk(sayi1, sayi2))\n",
    "x = int(input(\"sayi1 girin : \"))\n",
    "y = int(input(\"sayi2 girin : \"))\n",
    "islem=input(\"lutfen yapmak istediginiz islemi girin : \")\n",
    "islem_fonk(toplama,cikarma,carpma,bolme,x,y,islem) # fonk. alacagi parametreler sirayla gönderilmeseydi prog. sağlikli çalişmazdi.\n",
    "#islem fonk. alacagi paramerteler "
   ]
  },
  {
   "cell_type": "markdown",
   "id": "0804fa15",
   "metadata": {},
   "source": [
    "FONK.PARAMETRELERİN SİNİRSİZ DEGER ALMASİ\n",
    "--------------------------------------------------------------------------\n",
    "1-(*args)=> sinirsiz deger alir aldigi degişkenleri tuple veri dizisi içinde tutar(keyword ihtiyaç yok)\n",
    "\n",
    "2-(**kwargs)=> sinirsiz deger alir aldigi degişkenleri dictonry veri dizisi içinde tutar(keyword ihtiyaç vardir)"
   ]
  },
  {
   "cell_type": "markdown",
   "id": "d9219a50",
   "metadata": {},
   "source": [
    "*args ARGÜMANI\n",
    "---------------------------\n",
    "\n",
    "\n",
    "*args argümani fonk. sinirsiz degerede parametre almasini saglar ve args argümani aldigi degerelri tuple(demet) veri tipinde \n",
    "\n",
    "depolar.\n",
    "\n",
    "def sayilar (*args): # fonk. tanimlandi fonk. parametresi *args yani sinirsiz degerde veri alabilir \n",
    "    \n",
    "    for i in args: # args argümani aldeigi degerelri tuple veri tipinde depoladigi için iterable bir argümandir ve üzerinde \n",
    "                   \n",
    "                   # gezinebiliriz \n",
    "        \n",
    "        print(i) # gezindigimiz elemanlar ekrana bastirilir "
   ]
  },
  {
   "cell_type": "code",
   "execution_count": 3,
   "id": "23984db3",
   "metadata": {},
   "outputs": [
    {
     "name": "stdout",
     "output_type": "stream",
     "text": [
      "(1, 2, 3, 4, 5)\n"
     ]
    }
   ],
   "source": [
    "# PARAMETRENİN SİNİRSİZ DEGER ALMASİ\n",
    "# fonk. alacagi parametrenin başina *koyulur ise sinirsiz deger alabilir bu degerleri tuple veri dizisi içinde tutar\n",
    "def sayilar(*sayi):\n",
    "    print(sayi)\n",
    "sayilar(1,2,3,4,5)#fonk alacagi sayilar yazildi"
   ]
  },
  {
   "cell_type": "code",
   "execution_count": 4,
   "id": "2bc3fdb6",
   "metadata": {},
   "outputs": [
    {
     "name": "stdout",
     "output_type": "stream",
     "text": [
      "21\n"
     ]
    }
   ],
   "source": [
    "def topla(*sayi):\n",
    "    toplam=0\n",
    "    for i in sayi:\n",
    "        toplam+=i\n",
    "    print(toplam)\n",
    "topla(1,2,3,4,5,6)"
   ]
  },
  {
   "cell_type": "code",
   "execution_count": 3,
   "id": "276a085f",
   "metadata": {},
   "outputs": [
    {
     "name": "stdout",
     "output_type": "stream",
     "text": [
      "2.0 , 2.24 , 2.45 , 1.41\n",
      "adet:4\n",
      "sayi:1\n",
      "[1.0]\n",
      "sayi:2\n",
      "[1.41]\n",
      "sayi:3\n",
      "[1.73]\n",
      "sayi:888\n",
      "[29.8]\n",
      "girdiginiz sayilarin karekökü :   , 1.0 , 1.41 , 1.73 , 29.8\n"
     ]
    }
   ],
   "source": [
    "from math import sqrt\n",
    "def karekok(*args):\n",
    "    liste=[]\n",
    "    for i in args:\n",
    "        liste.append(round(sqrt(i) , 2))\n",
    "    return liste\n",
    "print(*karekok(4,5,6,2),sep=\" , \")\n",
    "adet=int(input(\"adet:\"))\n",
    "sayilar=list()\n",
    "for i in range(adet):\n",
    "    sayi=int(input(\"sayi:\"))\n",
    "    sayilar+=[*karekok(sayi)]\n",
    "    print(karekok(sayi))\n",
    "print(\"girdiginiz sayilarin karekökü :  \",*sayilar,sep=\" , \")"
   ]
  },
  {
   "cell_type": "markdown",
   "id": "9ed0a321",
   "metadata": {},
   "source": [
    "**kwargs ARGÜMANI\n",
    "--------------------------------\n",
    "\n",
    "kwargs argünami fonk. gönderilen degerelri dictionry(sözlük) veri tipinde depolar fonk. göderilen parametreler anahtar-deger\n",
    "\n",
    "ilişkisi olmakidir çünkü kwargs argümani gelen degerelri sözlük veri tipinde depolar sinirsiz degere alabilir."
   ]
  },
  {
   "cell_type": "code",
   "execution_count": 3,
   "id": "c08c2b88",
   "metadata": {},
   "outputs": [
    {
     "name": "stdout",
     "output_type": "stream",
     "text": [
      "isim\n",
      "isim2\n",
      "{'isim': 'berkay', 'isim2': 'aleyna'}\n",
      "{'isim': 'berkay', 'isim2': 'aleyna'}\n"
     ]
    }
   ],
   "source": [
    "def bilgi(**kwargs):\n",
    "    for i in kwargs:# sözlüklerde for döngüsü varsayilan ayarlarda anahtarlarda dolaşir\n",
    "        print(i)\n",
    "    for deger in kwargs.values():\n",
    "        print(kwargs)\n",
    "\n",
    "\n",
    "bilgi(isim=\"berkay\", isim2=\"aleyna\")"
   ]
  },
  {
   "cell_type": "code",
   "execution_count": 12,
   "id": "f1c7e621",
   "metadata": {},
   "outputs": [
    {
     "name": "stdout",
     "output_type": "stream",
     "text": [
      "kisi1_ad berkay\n",
      "kisi1_soyad kaplan\n",
      "kisi1_numara 123\n",
      "kisi2_ad melis\n",
      "kisi2_soyad kaplan\n",
      "kisi2_numara 1\n"
     ]
    }
   ],
   "source": [
    "def bilgi_goster(**kwargs):\n",
    "    for i , j in kwargs.items():\n",
    "            print(i,j)\n",
    "    \n",
    "bilgi_goster(kisi1_ad = \"berkay\" , kisi1_soyad = \"kaplan\" , kisi1_numara = 123 , kisi2_ad = \"melis\" , kisi2_soyad = \"kaplan\" \n",
    "             , kisi2_numara = 1 )"
   ]
  },
  {
   "cell_type": "code",
   "execution_count": 11,
   "id": "312308c8",
   "metadata": {},
   "outputs": [
    {
     "name": "stdout",
     "output_type": "stream",
     "text": [
      "('berkay', 'aleyna', 'melis') {'berkay': 20, 'aleyna': 20, 'melis': 10}\n",
      "\n",
      "berkay\n",
      "aleyna\n",
      "melis\n",
      "\n",
      "berkay\n",
      "aleyna\n",
      "melis\n",
      "berkay\n",
      "aleyna\n",
      "melis\n",
      "\n",
      "20\n",
      "20\n",
      "10\n"
     ]
    }
   ],
   "source": [
    "def bilgileri_goster(*isim,**yas):\n",
    "    print(isim,yas)\n",
    "    print()\n",
    "    for i in isim:\n",
    "        print(i)\n",
    "    print()\n",
    "    for i in yas:\n",
    "        print(i)\n",
    "    for i in yas.keys():\n",
    "        print(i)\n",
    "    print()\n",
    "    for i in yas.values():\n",
    "        print(i)\n",
    "    \n",
    "bilgileri_goster(\"berkay\",\"aleyna\",\"melis\",berkay=20,aleyna=20,melis=10)"
   ]
  },
  {
   "cell_type": "code",
   "execution_count": 7,
   "id": "3f9c708b",
   "metadata": {},
   "outputs": [
    {
     "name": "stdout",
     "output_type": "stream",
     "text": [
      "1\n",
      "2\n",
      "3\n",
      "4\n",
      "5\n",
      "----------\n",
      "adi\n",
      "soyad\n",
      "numara\n"
     ]
    }
   ],
   "source": [
    "def karisik_argümanli(*args , **kwargs):\n",
    "    for i in args:\n",
    "        print(i)\n",
    "    print(10*\"-\")\n",
    "    for i in kwargs:\n",
    "        print(i)\n",
    "\n",
    "\n",
    "        \n",
    "karisik_argümanli(1,2,3,4,5,adi=\"berkay\" , soyad=\"kaplan\" , numara = 123)"
   ]
  },
  {
   "cell_type": "code",
   "execution_count": null,
   "id": "5d8f058f",
   "metadata": {},
   "outputs": [],
   "source": []
  },
  {
   "cell_type": "code",
   "execution_count": null,
   "id": "146ca68e",
   "metadata": {},
   "outputs": [],
   "source": []
  }
 ],
 "metadata": {
  "kernelspec": {
   "display_name": "Python 3 (ipykernel)",
   "language": "python",
   "name": "python3"
  },
  "language_info": {
   "codemirror_mode": {
    "name": "ipython",
    "version": 3
   },
   "file_extension": ".py",
   "mimetype": "text/x-python",
   "name": "python",
   "nbconvert_exporter": "python",
   "pygments_lexer": "ipython3",
   "version": "3.10.2"
  }
 },
 "nbformat": 4,
 "nbformat_minor": 5
}
