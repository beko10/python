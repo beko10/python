{
 "cells": [
  {
   "cell_type": "markdown",
   "id": "f4843be6",
   "metadata": {},
   "source": [
    "PYTHON FONKSİYON \n",
    "----------------------------------------------------\n",
    "\n",
    "Python da fonk. tanimlanirken def anahara sözcügu kullanir\n",
    "\n",
    "def fonk_adi(parametre1,parametre2...(opsiyonel)):\n",
    "    \n",
    "    #fonk. kod bloğu\n",
    "    \n",
    "    yapilacak işlemler\n",
    "    \n",
    "    #dönüşdegeri(opsiyonel)\n",
    "\n",
    "NOT:Fonk.parametre almak ve dönüş degeri almak zorunda değil \n"
   ]
  },
  {
   "cell_type": "code",
   "execution_count": 4,
   "id": "4faa88fc",
   "metadata": {},
   "outputs": [
    {
     "name": "stdout",
     "output_type": "stream",
     "text": [
      "merhaba\n"
     ]
    }
   ],
   "source": [
    "# 1- PARAMETRESİZ FONKSİYONLAR\n",
    "def selam(): # herhangi bir parametre (argüman) tanimlanmadi \n",
    "    print(\"merhaba\") # yapilacak işlem\n",
    "selam()#ekrana fonk. yapacagi işlem bastirildi\n"
   ]
  },
  {
   "cell_type": "code",
   "execution_count": 3,
   "id": "34cfd60f",
   "metadata": {},
   "outputs": [
    {
     "data": {
      "text/plain": [
       "function"
      ]
     },
     "execution_count": 3,
     "metadata": {},
     "output_type": "execute_result"
    }
   ],
   "source": [
    "type(selam)"
   ]
  },
  {
   "cell_type": "code",
   "execution_count": 5,
   "id": "f3c818cc",
   "metadata": {},
   "outputs": [
    {
     "name": "stdout",
     "output_type": "stream",
     "text": [
      "berkay\n",
      "adinizi girin : berkay\n",
      "berkay\n"
     ]
    }
   ],
   "source": [
    "# 2- PARAMETRELİ FONKSİYONLAR\n",
    "def isim_soyle(isim):# parametre olarak isim değişenini aldi\n",
    "    print(isim)# yapilacak işlem\n",
    "isim_soyle(\"berkay\")# fonk cagirildi ve ekrana fonk yapacagi işlem bastirildi\n",
    "\n",
    "def isim_soyle(isim):# parametre olarak isim değişenini aldi\n",
    "    print(isim)# yapilacak işlem\n",
    "ad = input(\"adinizi girin : \") # kullanicidan alinan ismi ad değişkeninde tutuldu\n",
    "isim_soyle(ad)# fonk cagirildi ve kullanicidan alinan ad değişkeni ile fonk. isim değişkeni biribirine eşitlendi fonk. kod bloğuna girildi ve \n",
    "#ekrana fonk yapacagi işlem bastirildi"
   ]
  },
  {
   "cell_type": "code",
   "execution_count": 3,
   "id": "e6856035",
   "metadata": {},
   "outputs": [
    {
     "name": "stdout",
     "output_type": "stream",
     "text": [
      "9\n"
     ]
    }
   ],
   "source": [
    "def sayi_yaz(sayi,sayi1):\n",
    "    print(sayi+sayi1)\n",
    "\n",
    "sayi_yaz(4,5)"
   ]
  },
  {
   "cell_type": "code",
   "execution_count": 13,
   "id": "a9547548",
   "metadata": {},
   "outputs": [
    {
     "name": "stdout",
     "output_type": "stream",
     "text": [
      "lutfen sayi1 girin : 4\n",
      "lutfen sayi2 girin : 5\n",
      "lutfen sayi3 girin : 6\n",
      "toplam= 15\n"
     ]
    }
   ],
   "source": [
    "def topla(x,y,z):\n",
    "    #toplam=x+y+z\n",
    "    print(\"toplam=\",x+y+z)\n",
    "sayi1=int(input(\"lutfen sayi1 girin : \"))\n",
    "sayi2=int(input(\"lutfen sayi2 girin : \"))\n",
    "sayi3=int(input(\"lutfen sayi3 girin : \"))\n",
    "\n",
    "topla(sayi1,sayi2,sayi3)"
   ]
  },
  {
   "cell_type": "code",
   "execution_count": 15,
   "id": "0d855c21",
   "metadata": {},
   "outputs": [
    {
     "name": "stdout",
     "output_type": "stream",
     "text": [
      "120\n"
     ]
    }
   ],
   "source": [
    "def faktoriyel(sayi):\n",
    "    fakt=1\n",
    "    if sayi==1 or sayi==2:\n",
    "        print(fakt)\n",
    "    else:\n",
    "        i=1\n",
    "        while(i<=sayi):\n",
    "            fakt*=i\n",
    "            i+=1\n",
    "    print(fakt)\n",
    "faktoriyel(5)"
   ]
  },
  {
   "cell_type": "markdown",
   "id": "e8d81645",
   "metadata": {},
   "source": [
    "# DÖNÜŞ(RETURN) DEĞERİ OLAN FONKSİYONLAR\n",
    "------------------------------------------------------------------------\n",
    "\n",
    "1-Dönüş degeri olan fonk. tanimlamak için fonk. içerisinde dödürmek istedigimiz deger return deyimi ile saglanir.\n",
    "\n",
    "2-Dönüş degri olan fonk. çagirildiklari yerde return deyimi sayesinde fonk. işi bittikten sonra çağırildıklari yerde değer \n",
    "\n",
    "dödürmesi yaparlar bu sayede fonk.döndürdügü degeri biz bir değişkende saklayabiliriz \n",
    "\n",
    "#### NOT : return fonk. ekranda çikti vermez print() fonk. ile return edilen degeri ekrana prog. yazdirmalidir.\n",
    "\n"
   ]
  },
  {
   "cell_type": "code",
   "execution_count": 2,
   "id": "dba78c15",
   "metadata": {},
   "outputs": [
    {
     "data": {
      "text/plain": [
       "15"
      ]
     },
     "execution_count": 2,
     "metadata": {},
     "output_type": "execute_result"
    }
   ],
   "source": [
    "def topla(x,y,z):\n",
    "    toplam=x+y+z\n",
    "    return toplam\n",
    "topla(4,5,6)\n",
    "\n"
   ]
  },
  {
   "cell_type": "code",
   "execution_count": null,
   "id": "144749d8",
   "metadata": {},
   "outputs": [],
   "source": [
    "def toplam(a,b):\n",
    "    "
   ]
  },
  {
   "cell_type": "code",
   "execution_count": 27,
   "id": "946f5349",
   "metadata": {},
   "outputs": [
    {
     "name": "stdout",
     "output_type": "stream",
     "text": [
      "15\n",
      "15\n"
     ]
    }
   ],
   "source": [
    "def topla(x,y,z):\n",
    "    toplam=x+y+z\n",
    "    return toplam\n",
    "\n",
    "\n",
    "print(topla(4,5,6))#dödürülen deger ekrana basildi\n",
    "a=topla(4,5,6)#dödürülen deger değişkene atandi\n",
    "print(a)#değişken ekrana basildi"
   ]
  },
  {
   "cell_type": "code",
   "execution_count": 1,
   "id": "56862627",
   "metadata": {},
   "outputs": [
    {
     "name": "stdout",
     "output_type": "stream",
     "text": [
      "lutfen birinci sayiyi girin : 4\n",
      "lutfen ikinci sayiyi girin : 2\n",
      "toplama sonucu = 6\n",
      "cikarma sonucu = 2\n",
      "carpma sonucu = 8\n",
      "bolme sonucu = 2.0\n"
     ]
    }
   ],
   "source": [
    "def topla(sayi1 , sayi2):\n",
    "    toplama_sonuc = sayi1 + sayi2\n",
    "    return toplama_sonuc\n",
    "def cikar(sayi1 , sayi2):\n",
    "    return  sayi1 - sayi2\n",
    "def carp(sayi1 , sayi2):\n",
    "    return  sayi1 * sayi2\n",
    "def bol(sayi1 , sayi2):\n",
    "    bolme_sonuc = sayi1 / sayi2\n",
    "    return  bolme_sonuc\n",
    "x = int(input(\"lutfen birinci sayiyi girin : \"))\n",
    "y = int(input(\"lutfen ikinci sayiyi girin : \"))\n",
    "#fonk. return degeri oldugu için return degerleri değişkenlere atandi\n",
    "toplam_sonuc = topla(x , y )\n",
    "cikarma_sonuc = cikar(x , y)\n",
    "carpma_sonuc = carp(x , y)\n",
    "bolme_sonucu = bol(x , y)\n",
    "print(f\"toplama sonucu = {toplam_sonuc}\\ncikarma sonucu = {cikarma_sonuc}\\ncarpma sonucu = {carpma_sonuc}\\nbolme sonucu = {bolme_sonucu}\")"
   ]
  },
  {
   "cell_type": "code",
   "execution_count": 1,
   "id": "72879385",
   "metadata": {},
   "outputs": [
    {
     "name": "stdout",
     "output_type": "stream",
     "text": [
      "15\n",
      "None\n"
     ]
    }
   ],
   "source": [
    "def topla(x,y,z):\n",
    "    toplam=x+y+z\n",
    "    print(toplam)\n",
    "a=topla(4,5,6)#return deyimi olmadigi için fonk. deger atamasi yapilamadi\n",
    "print(a)#return deyimi olmadigi için fonk. deger atamasi olmadi yani a değişkeninin içi boş bi şekilde ekrana bastirildi"
   ]
  },
  {
   "cell_type": "code",
   "execution_count": 8,
   "id": "7a45ab44",
   "metadata": {},
   "outputs": [
    {
     "name": "stdout",
     "output_type": "stream",
     "text": [
      "1. fonk. çalisti...\n",
      "2. fonk calisti...\n",
      "7.0\n"
     ]
    }
   ],
   "source": [
    "#İÇ İÇE FOKN.\n",
    "def topla(sayi):\n",
    "    print(\"1. fonk. çalisti...\")\n",
    "    return sayi+2\n",
    "def carp(sayi):\n",
    "    print(\"2. fonk calisti...\")\n",
    "    return sayi*2\n",
    "def bol(sayi):\n",
    "    return sayi/2\n",
    "print(bol(carp(topla(5))))"
   ]
  },
  {
   "cell_type": "code",
   "execution_count": 11,
   "id": "b67eba99",
   "metadata": {},
   "outputs": [
    {
     "name": "stdout",
     "output_type": "stream",
     "text": [
      "(3, 4, 5)\n"
     ]
    }
   ],
   "source": [
    "# BİRDEN FAZLA DÖNÜŞ DEGERİ OLAN FONK.\n",
    "# birden fazla dnüş degeri olan fonk. dönüş degerleri varsayilan ayarda set veri dizisi halinde saklanir istersek bunu prog.\n",
    "# değiştirebilir\n",
    "def ucgen_kenarlarini_soyle():\n",
    "    return 3,4,5\n",
    "print(ucgen_kenarlarini_soyle())\n"
   ]
  },
  {
   "cell_type": "code",
   "execution_count": 16,
   "id": "aa043993",
   "metadata": {},
   "outputs": [
    {
     "name": "stdout",
     "output_type": "stream",
     "text": [
      "3\n",
      "4\n",
      "5\n"
     ]
    }
   ],
   "source": [
    "def ucgen_kenarlarini_soyle():\n",
    "    return [3,4,5] # liste halinde tuttuk\n",
    "kenar1=ucgen_kenarlarini_soyle()[0] #fonk. içindeki dödürülen 3 degeri kenar1 değikenine atandi\n",
    "#(set veri dizisinde tutulan 0.indexinde tutulan değişken kenar1 değişkenine atandi)\n",
    "kenar2=ucgen_kenarlarini_soyle()[1] #fonk. içindeki dödürülen 4 degeri kenar2 değikenine atandi\n",
    "#(set veri dizisinde tutulan 1.indexinde tutulan değişken kenar2 değişkenine atandi)\n",
    "kenar3=ucgen_kenarlarini_soyle()[2] #fonk. içindeki dödürülen 5 degeri kenar3 değikenine atandi\n",
    "#(set veri dizisinde tutulan 2.indexinde tutulan değişken kenar3 değişkenine atandi)\n",
    "print(kenar1)\n",
    "print(kenar2)\n",
    "print(kenar3)"
   ]
  },
  {
   "cell_type": "code",
   "execution_count": 20,
   "id": "bc4137b4",
   "metadata": {},
   "outputs": [
    {
     "name": "stdout",
     "output_type": "stream",
     "text": [
      "(31415.926535897932, 628.3185307179587)\n",
      "31415.926535897932 628.3185307179587\n",
      "31415.926535897932\n",
      "628.3185307179587\n"
     ]
    }
   ],
   "source": [
    "from math import pi\n",
    "def daire_alan_cevre(r):\n",
    "    return pi*r**2,2*pi*r\n",
    "print(daire_alan_cevre(100))\n",
    "daire_alan,daire_cevre=daire_alan_cevre(100)#return edilen degerler bu sayede kirildi ve her biri ayri degişkene atandi\n",
    "print(daire_alan,daire_cevre)\n",
    "print(daire_alan)\n",
    "print(daire_cevre)"
   ]
  },
  {
   "cell_type": "markdown",
   "id": "4e445d0d",
   "metadata": {},
   "source": [
    "DÖNÜŞ DEGERİ OLMAYAN FONK.\n",
    "----------------------------------------------------\n",
    "Dönüş degrei olmayan fonk. herhengi bir değişken atayamayiz atasak bile None degeri prog.çıktısı olarak bize atadigimiz \n",
    "\n",
    "degişken None degeri dödürür çünkü fonk. herehangi bir deger dödürmedigi için haliyle değişkene atama yapamayiz\n",
    "\n",
    "NOT : print fonk. fonk. dönüş degerini ekrana bastirdigi için dönüş degeri olmayan fonk. print fonk. kullanmanin bir anlami \n",
    "\n",
    "yoktur kullanilsa bile ekranda None degeri çıktı olarak veriri çünkü dönüş degeri olmayan fonk. varsayailan return degeri \n",
    "\n",
    "None olarak ayarlanmistir."
   ]
  },
  {
   "cell_type": "code",
   "execution_count": 8,
   "id": "c59a586d",
   "metadata": {},
   "outputs": [
    {
     "name": "stdout",
     "output_type": "stream",
     "text": [
      "9\n"
     ]
    }
   ],
   "source": [
    "def topla(sayi1,sayi2):\n",
    "    print(sayi1+sayi2)\n",
    "topla(4,5)\n"
   ]
  },
  {
   "cell_type": "code",
   "execution_count": 9,
   "id": "791f649d",
   "metadata": {},
   "outputs": [
    {
     "name": "stdout",
     "output_type": "stream",
     "text": [
      "9\n",
      "9\n",
      "None\n"
     ]
    }
   ],
   "source": [
    "def topla(sayi1,sayi2):\n",
    "    print(sayi1+sayi2)\n",
    "topla(4,5)\n",
    "print(topla(4,5))#4+5toplami ekrana basilirardindan fonk herhangi bişey dedürmedigi içim None degeri ekrana basiir"
   ]
  },
  {
   "cell_type": "code",
   "execution_count": 22,
   "id": "655894dc",
   "metadata": {},
   "outputs": [
    {
     "name": "stdout",
     "output_type": "stream",
     "text": [
      "baslangic :1\n",
      "son :5\n",
      "10\n"
     ]
    }
   ],
   "source": [
    "def topla(sayi1,sayi2):\n",
    "    toplam=0\n",
    "    for i in range(sayi1,sayi2):\n",
    "        toplam+=i\n",
    "    print(toplam)\n",
    "aralik1=int(input(\"baslangic :\"))\n",
    "aralik2=int(input(\"son :\"))\n",
    "topla(aralik1,aralik2)"
   ]
  },
  {
   "cell_type": "code",
   "execution_count": 4,
   "id": "4d57c01d",
   "metadata": {},
   "outputs": [
    {
     "name": "stdout",
     "output_type": "stream",
     "text": [
      "9\n",
      "None\n"
     ]
    }
   ],
   "source": []
  },
  {
   "cell_type": "code",
   "execution_count": null,
   "id": "fa5ad8e5",
   "metadata": {},
   "outputs": [],
   "source": []
  }
 ],
 "metadata": {
  "kernelspec": {
   "display_name": "Python 3 (ipykernel)",
   "language": "python",
   "name": "python3"
  },
  "language_info": {
   "codemirror_mode": {
    "name": "ipython",
    "version": 3
   },
   "file_extension": ".py",
   "mimetype": "text/x-python",
   "name": "python",
   "nbconvert_exporter": "python",
   "pygments_lexer": "ipython3",
   "version": "3.10.2"
  }
 },
 "nbformat": 4,
 "nbformat_minor": 5
}
