{
 "cells": [
  {
   "cell_type": "markdown",
   "id": "66519b6b",
   "metadata": {},
   "source": [
    "# Python Veri Tipleri\n",
    "---------------------------------\n",
    "1-None veri tipi : Değişenin içi boş demektir\n",
    "\n",
    "2-int ceri tipi  : Değişkenin içinde tamasyi var demektir\n",
    "\n",
    "3-float veri tipi : Değişkenin içinde kesirili sayi var demektir\n",
    "\n",
    "4-complex veri tipi : Değişkenin içinde komplex sayi  var demektir\n",
    "\n",
    "5-bool veri tipi : değişkenin içinde \"True (1)\" ya da \"FALSE(0)\" var demektir"
   ]
  },
  {
   "cell_type": "markdown",
   "id": "d6a7b9f6",
   "metadata": {},
   "source": []
  },
  {
   "cell_type": "markdown",
   "id": "848c73de",
   "metadata": {},
   "source": [
    "# None Veri Tipi\n",
    "None veri tipi değişkenin içi boş demektir diğer prpgremlama dillerindeki karşiligi \"NULL\" demektir"
   ]
  },
  {
   "cell_type": "code",
   "execution_count": 4,
   "id": "bdefac97",
   "metadata": {},
   "outputs": [
    {
     "name": "stdout",
     "output_type": "stream",
     "text": [
      "None\n",
      "gaziantep\n"
     ]
    }
   ],
   "source": [
    "sehir = None \n",
    "print(sehir)\n",
    "sehir=\"gaziantep\"\n",
    "print(sehir)"
   ]
  },
  {
   "cell_type": "code",
   "execution_count": 7,
   "id": "454fb3da",
   "metadata": {},
   "outputs": [
    {
     "name": "stdout",
     "output_type": "stream",
     "text": [
      "None\n",
      "10\n"
     ]
    }
   ],
   "source": [
    "sayi=None\n",
    "print(sayi)\n",
    "sayi=10\n",
    "print(sayi)"
   ]
  },
  {
   "cell_type": "markdown",
   "id": "9645e559",
   "metadata": {},
   "source": [
    "# İNT VERİ TİPİ\n"
   ]
  },
  {
   "cell_type": "code",
   "execution_count": 8,
   "id": "31e7f56a",
   "metadata": {},
   "outputs": [
    {
     "name": "stdout",
     "output_type": "stream",
     "text": [
      "10\n"
     ]
    }
   ],
   "source": [
    "sayi=10\n",
    "print(sayi)"
   ]
  },
  {
   "cell_type": "markdown",
   "id": "042075a2",
   "metadata": {},
   "source": [
    "# FLOAT VERİ TİPİ\n"
   ]
  },
  {
   "cell_type": "code",
   "execution_count": 9,
   "id": "4d801f74",
   "metadata": {},
   "outputs": [
    {
     "name": "stdout",
     "output_type": "stream",
     "text": [
      "10.2\n"
     ]
    }
   ],
   "source": [
    "sayi=10.2\n",
    "print(sayi)"
   ]
  },
  {
   "cell_type": "markdown",
   "id": "95301c68",
   "metadata": {},
   "source": [
    "# COMPLEX VERİ TİPİ"
   ]
  },
  {
   "cell_type": "code",
   "execution_count": 11,
   "id": "a6a6e9d1",
   "metadata": {},
   "outputs": [
    {
     "name": "stdout",
     "output_type": "stream",
     "text": [
      "(2+2j)\n"
     ]
    }
   ],
   "source": [
    "sayi=2 + 2j\n",
    "print(sayi)"
   ]
  },
  {
   "cell_type": "markdown",
   "id": "e71f3940",
   "metadata": {},
   "source": [
    "# BOOL VERİ TİPİ\n"
   ]
  },
  {
   "cell_type": "code",
   "execution_count": 13,
   "id": "7373f100",
   "metadata": {},
   "outputs": [
    {
     "name": "stdout",
     "output_type": "stream",
     "text": [
      "True\n"
     ]
    }
   ],
   "source": [
    "anahtar = True\n",
    "print(anahtar)"
   ]
  },
  {
   "cell_type": "code",
   "execution_count": 14,
   "id": "eacdbc61",
   "metadata": {},
   "outputs": [
    {
     "name": "stdout",
     "output_type": "stream",
     "text": [
      "False\n"
     ]
    }
   ],
   "source": [
    "anahtar=False\n",
    "print(anahtar)"
   ]
  },
  {
   "cell_type": "markdown",
   "id": "cf12f1ae",
   "metadata": {},
   "source": [
    "# SAYİSAL VERİ TİPLERİ ARASİ TİP DÖNÜŞÜMLERİ\n"
   ]
  },
  {
   "cell_type": "markdown",
   "id": "06babbaa",
   "metadata": {},
   "source": [
    "# 1-İNT - FLOAT\n"
   ]
  },
  {
   "cell_type": "code",
   "execution_count": 15,
   "id": "229144d9",
   "metadata": {},
   "outputs": [
    {
     "name": "stdout",
     "output_type": "stream",
     "text": [
      "10.0\n"
     ]
    }
   ],
   "source": [
    "sayi=10\n",
    "print(float(sayi))"
   ]
  },
  {
   "cell_type": "code",
   "execution_count": 17,
   "id": "b3680347",
   "metadata": {},
   "outputs": [
    {
     "name": "stdout",
     "output_type": "stream",
     "text": [
      "12.0\n"
     ]
    }
   ],
   "source": [
    "print(float(12))"
   ]
  },
  {
   "cell_type": "markdown",
   "id": "50ee99ee",
   "metadata": {},
   "source": [
    "# FLOAT - İNT"
   ]
  },
  {
   "cell_type": "code",
   "execution_count": 19,
   "id": "bd58eed5",
   "metadata": {},
   "outputs": [
    {
     "name": "stdout",
     "output_type": "stream",
     "text": [
      "12\n"
     ]
    }
   ],
   "source": [
    "sayi = 12.5\n",
    "tip_donusumlu_sayi = int(sayi)\n",
    "print(tip_donusumlu_sayi)"
   ]
  },
  {
   "cell_type": "markdown",
   "id": "71e0bde5",
   "metadata": {},
   "source": [
    "# İNT - COMPLEX"
   ]
  },
  {
   "cell_type": "code",
   "execution_count": 20,
   "id": "141f2455",
   "metadata": {},
   "outputs": [
    {
     "name": "stdout",
     "output_type": "stream",
     "text": [
      "(2+4j)\n"
     ]
    }
   ],
   "source": [
    "sayi1=2\n",
    "sayi2=4\n",
    "print(complex(sayi1,sayi2))"
   ]
  },
  {
   "cell_type": "markdown",
   "id": "c9bac40c",
   "metadata": {},
   "source": [
    "# FLOAT - COMPLEX"
   ]
  },
  {
   "cell_type": "code",
   "execution_count": 26,
   "id": "8b7513c7",
   "metadata": {},
   "outputs": [
    {
     "name": "stdout",
     "output_type": "stream",
     "text": [
      "(2.5-4.2j)\n"
     ]
    }
   ],
   "source": [
    "sayi1=2.5\n",
    "sayi2=-4.2\n",
    "print(complex(sayi1,sayi2))"
   ]
  },
  {
   "cell_type": "markdown",
   "id": "e3ce77e2",
   "metadata": {},
   "source": [
    "# BOOL TİP DÖNÜŞÜMLERİ"
   ]
  },
  {
   "cell_type": "code",
   "execution_count": 29,
   "id": "26bf79de",
   "metadata": {},
   "outputs": [
    {
     "name": "stdout",
     "output_type": "stream",
     "text": [
      "1\n"
     ]
    }
   ],
   "source": [
    "anahtar = True\n",
    "print(int(anahtar))"
   ]
  },
  {
   "cell_type": "code",
   "execution_count": 30,
   "id": "04513610",
   "metadata": {},
   "outputs": [
    {
     "name": "stdout",
     "output_type": "stream",
     "text": [
      "0.0\n"
     ]
    }
   ],
   "source": [
    "anahtar = False\n",
    "print(float(False))"
   ]
  },
  {
   "cell_type": "code",
   "execution_count": 31,
   "id": "7635f52a",
   "metadata": {},
   "outputs": [
    {
     "name": "stdout",
     "output_type": "stream",
     "text": [
      "True\n"
     ]
    }
   ],
   "source": [
    "sayi=10\n",
    "print(bool(sayi))"
   ]
  },
  {
   "cell_type": "code",
   "execution_count": 33,
   "id": "ff101e07",
   "metadata": {},
   "outputs": [
    {
     "name": "stdout",
     "output_type": "stream",
     "text": [
      "False\n"
     ]
    }
   ],
   "source": [
    "sayi=0\n",
    "print(bool(sayi))"
   ]
  },
  {
   "cell_type": "code",
   "execution_count": null,
   "id": "ffa89b41",
   "metadata": {},
   "outputs": [],
   "source": []
  },
  {
   "cell_type": "code",
   "execution_count": null,
   "id": "36facfa0",
   "metadata": {},
   "outputs": [],
   "source": []
  }
 ],
 "metadata": {
  "kernelspec": {
   "display_name": "Python 3 (ipykernel)",
   "language": "python",
   "name": "python3"
  },
  "language_info": {
   "codemirror_mode": {
    "name": "ipython",
    "version": 3
   },
   "file_extension": ".py",
   "mimetype": "text/x-python",
   "name": "python",
   "nbconvert_exporter": "python",
   "pygments_lexer": "ipython3",
   "version": "3.10.2"
  }
 },
 "nbformat": 4,
 "nbformat_minor": 5
}
