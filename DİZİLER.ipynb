{
 "cells": [
  {
   "cell_type": "markdown",
   "id": "76821d40",
   "metadata": {},
   "source": [
    "DİZİLER\n",
    "------------\n",
    "1-DİZİ OLUŞRURMA\n",
    "\n",
    "----------------------\n",
    "\n",
    "dizi=array(\"i\",[])\n",
    "\n",
    "i=dizinin typcode\n",
    "\n"
   ]
  },
  {
   "cell_type": "code",
   "execution_count": 8,
   "id": "d555c8ae",
   "metadata": {},
   "outputs": [
    {
     "name": "stdout",
     "output_type": "stream",
     "text": [
      "lutfen dizinin eleman sayisini girin : 4\n",
      "lutfen diziye eklenecek sayilari girin : 1\n",
      "lutfen diziye eklenecek sayilari girin : 2\n",
      "lutfen diziye eklenecek sayilari girin : 3\n",
      "lutfen diziye eklenecek sayilari girin : 4\n",
      "array('i', [1, 2, 3, 4])\n"
     ]
    }
   ],
   "source": [
    "from array import array\n",
    "arry=array('i',[])\n",
    "eleman=int(input(\"lutfen dizinin eleman sayisini girin : \"))\n",
    "for i in range(eleman):\n",
    "    sayi=int(input(\"lutfen diziye eklenecek sayilari girin : \"))\n",
    "    arry.append(sayi)\n",
    "print(arry)"
   ]
  },
  {
   "cell_type": "code",
   "execution_count": 10,
   "id": "5338ff0b",
   "metadata": {},
   "outputs": [
    {
     "name": "stdout",
     "output_type": "stream",
     "text": [
      "lutfen aradiginiz sayiyi girin : 4\n",
      " 4  sayisi4  . 3 indextedir\n"
     ]
    }
   ],
   "source": [
    "from array import array\n",
    "arry=array(\"i\",[1,8,6,4,10,-5,4,123])\n",
    "aranacak_sayi=int(input(\"lutfen aradiginiz sayiyi girin : \"))\n",
    "index=0\n",
    "for i in arry:\n",
    "    if i == aranacak_sayi:\n",
    "        print(f\" {aranacak_sayi}  sayisi4  . {index} indextedir\")\n",
    "        break\n",
    "    index+=1"
   ]
  },
  {
   "cell_type": "code",
   "execution_count": 11,
   "id": "3489fa2e",
   "metadata": {},
   "outputs": [
    {
     "name": "stdout",
     "output_type": "stream",
     "text": [
      "lutfen aradiginiz sayiyi girin : 4\n",
      "4 sayisi 3 . indextedir\n"
     ]
    }
   ],
   "source": [
    "arry=array(\"i\",[1,8,6,4,10,-5,4,123])\n",
    "aranacak_sayi=int(input(\"lutfen aradiginiz sayiyi girin : \"))\n",
    "print(f\"{aranacak_sayi} sayisi {arry.index(aranacak_sayi)} . indextedir\")"
   ]
  },
  {
   "cell_type": "code",
   "execution_count": 13,
   "id": "bccb7c83",
   "metadata": {},
   "outputs": [
    {
     "name": "stdout",
     "output_type": "stream",
     "text": [
      "lutfen aradiginiz sayiyi girin : 4\n",
      "array('i', [1, 8, 6, 10, -5, 123])\n"
     ]
    }
   ],
   "source": [
    "#DİZİDEN ELEMAN SİLME\n",
    "\n",
    "\n",
    "from array import array\n",
    "arry=array(\"i\",[1,8,6,4,10,-5,4,123])\n",
    "aranacak_sayi=int(input(\"lutfen aradiginiz sayiyi girin : \"))\n",
    "\n",
    "\n",
    "for i in arry:\n",
    "    if i == aranacak_sayi  :\n",
    "        arry.remove(aranacak_sayi) #remove metodu karşilatigi ilk elemani siler ama koşul yapisi ile dizi içindeki silinmek\n",
    "                        #istenen elemanlar ayni olsa bile hepsini siler\n",
    "print(arry)\n",
    "                    \n",
    "                       \n"
   ]
  },
  {
   "cell_type": "code",
   "execution_count": 20,
   "id": "bdf8a87f",
   "metadata": {},
   "outputs": [
    {
     "name": "stdout",
     "output_type": "stream",
     "text": [
      "array('i', [1, 12, 6, 4, 10, -5, 4, 123])\n"
     ]
    }
   ],
   "source": [
    "#ELEMAN DEĞİŞTİRME\n",
    "arry=array(\"i\",[1,8,6,4,10,-5,4,123])\n",
    "for index , sayi  in enumerate(arry):\n",
    "    if sayi==8:\n",
    "        arry[index]=12\n",
    "print(arry)"
   ]
  },
  {
   "cell_type": "code",
   "execution_count": 21,
   "id": "123fbb42",
   "metadata": {},
   "outputs": [
    {
     "name": "stdout",
     "output_type": "stream",
     "text": [
      "array('i', [1, 8, 3, 4, 10, -5, 4, 123])\n"
     ]
    }
   ],
   "source": [
    "arry=array(\"i\",[1,8,6,4,10,-5,4,123])\n",
    "arry[2]=3\n",
    "print(arry)"
   ]
  },
  {
   "cell_type": "code",
   "execution_count": 14,
   "id": "2b0356ae",
   "metadata": {},
   "outputs": [
    {
     "name": "stdout",
     "output_type": "stream",
     "text": [
      "lutfen aradiginiz sayiyi girin : 4\n",
      "4 sayisi dizi icerisinde 2 . defa buunmaktadir\n",
      "\n",
      " --------------------\n",
      " Count Metodu : 4 sayisi dizi icerisinde 2 . defa buunmaktadir\n"
     ]
    }
   ],
   "source": [
    "from array import array\n",
    "arry=array(\"i\",[1,8,6,4,10,-5,4,123])\n",
    "aranacak_sayi=int(input(\"lutfen aradiginiz sayiyi girin : \"))\n",
    "\n",
    "sayac=0\n",
    "for i in arry:\n",
    "    if i==aranacak_sayi:\n",
    "        sayac+=1\n",
    "print(\"{} sayisi dizi icerisinde {} . defa buunmaktadir\".format(aranacak_sayi,sayac))\n",
    "print(\"\\n\",20*\"-\")\n",
    "print(\" Count Metodu : {} sayisi dizi icerisinde {} . defa buunmaktadir\".format(aranacak_sayi,arry.count(aranacak_sayi)))"
   ]
  },
  {
   "cell_type": "code",
   "execution_count": 16,
   "id": "878011b2",
   "metadata": {},
   "outputs": [
    {
     "name": "stdout",
     "output_type": "stream",
     "text": [
      "kac elemanli bir dizi oluşturmak istiyorsunuz : 4\n",
      "dizinin  1 . elemani girin1\n",
      "dizinin  2 . elemani girin2\n",
      "dizinin  3 . elemani girin3\n",
      "dizinin  4 . elemani girin8\n",
      "\n",
      "girmiş oldugunuz dizi :  array('i', [1, 2, 3, 8])\n",
      "lutfen diziden silmek istediginiz elemani girin: 3\n",
      "\n",
      "diziden istediginiz elemanin silinmiş hali :  array('i', [1, 2, 8])\n",
      "\n",
      "girimiş oldugunuz dizinin tersten yazilmiş hali :  array('i', [8, 3, 2, 1])\n"
     ]
    }
   ],
   "source": [
    "\n",
    "from array import array\n",
    "\n",
    "arry=array(\"i\" , [] )\n",
    "#liste=[]\n",
    "eleman=int(input(\"kac elemanli bir dizi oluşturmak istiyorsunuz : \"))\n",
    "index=0\n",
    "for i  in range(eleman):\n",
    "    sayi=int(input(\"dizinin  {} . elemani girin\".format(i+1)))\n",
    "    arry+=array(\"i\",[sayi])\n",
    "    index+=1\n",
    "print()\n",
    "print(\"girmiş oldugunuz dizi : \",arry)\n",
    "silinecek_eleman=int(input(\"lutfen diziden silmek istediginiz elemani girin: \"))\n",
    "print()\n",
    "siinmis_arry=array(\"i\",[])\n",
    "for i in arry:\n",
    "    if i!=silinecek_eleman: # silinecek eleman i eşit olmmadigi sürece silinmiş_arry adinda oluşturdugumuz\n",
    "        siinmis_arry+=array(\"i\",[i])# diziye silinmek istenen eleman hariç diger elemanlar silinmiş_arry dizisine eklenir\n",
    "print(\"diziden istediginiz elemanin silinmiş hali : \",siinmis_arry)\n",
    "print()\n",
    "\n",
    "ters_arry=array(\"i\",[])\n",
    "for i in range(len(arry)-1,-1,-1):\n",
    "    ters_arry+=array(\"i\",[arry[i]])\n",
    "print(\"girimiş oldugunuz dizinin tersten yazilmiş hali : \",ters_arry)"
   ]
  },
  {
   "cell_type": "code",
   "execution_count": null,
   "id": "0fd1bddb",
   "metadata": {},
   "outputs": [],
   "source": []
  }
 ],
 "metadata": {
  "kernelspec": {
   "display_name": "Python 3 (ipykernel)",
   "language": "python",
   "name": "python3"
  },
  "language_info": {
   "codemirror_mode": {
    "name": "ipython",
    "version": 3
   },
   "file_extension": ".py",
   "mimetype": "text/x-python",
   "name": "python",
   "nbconvert_exporter": "python",
   "pygments_lexer": "ipython3",
   "version": "3.10.2"
  }
 },
 "nbformat": 4,
 "nbformat_minor": 5
}
