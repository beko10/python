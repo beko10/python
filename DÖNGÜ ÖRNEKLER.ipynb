{
 "cells": [
  {
   "cell_type": "code",
   "execution_count": 1,
   "id": "207ff319",
   "metadata": {},
   "outputs": [
    {
     "name": "stdout",
     "output_type": "stream",
     "text": [
      "*********MENÜ*************\n",
      "1-ADAN/URFA 20 TL \n",
      "2-BEYTİ 25 TL\n",
      "3-İSKENDER 30 TL\n",
      "4-ÇORBA 10 TL.\n",
      "5-TATLI 15 TL\n",
      "6-İÇECEK 5 TL\n",
      "7-ÇIKIŞ\n",
      "LUTFEN MENÜNÜN SOLUNDA YAZAN NUMARALARDAN BİRİNİ SECİN...4\n",
      "KAC ADET İSTERSİNİZ : 2\n",
      "LUTFEN MENÜNÜN SOLUNDA YAZAN NUMARALARDAN BİRİNİ SECİN...1\n",
      "KAC ADET İSTERSİNİZ : 0\n",
      "LUTFEN MENÜNÜN SOLUNDA YAZAN NUMARALARDAN BİRİNİ SECİN...4\n",
      "KAC ADET İSTERSİNİZ : 7\n",
      "LUTFEN MENÜNÜN SOLUNDA YAZAN NUMARALARDAN BİRİNİ SECİN...7\n",
      "MENÜDE OLMAYAN SECİM....\n",
      "Odemeniz gereken toplam tutar =  90 TL\n"
     ]
    }
   ],
   "source": [
    "print(\"*********MENÜ*************\")\n",
    "print(\"1-ADAN/URFA 20 TL \\n2-BEYTİ 25 TL\\n3-İSKENDER 30 TL\\n4-ÇORBA 10 TL.\\n5-TATLI 15 TL\\n6-İÇECEK 5 TL\\n7-ÇIKIŞ\")\n",
    "toplam=0\n",
    "while True:\n",
    "    secim=int(input(\"LUTFEN MENÜNÜN SOLUNDA YAZAN NUMARALARDAN BİRİNİ SECİN...\"))\n",
    "    if secim>=1 and secim<7:\n",
    "        adet = int(input(\"KAC ADET İSTERSİNİZ : \"))\n",
    "        if secim==1:\n",
    "            toplam+=20 * adet\n",
    "        elif secim==2:\n",
    "            toplam+=25 * adet\n",
    "        elif secim==3:\n",
    "            toplam+=30 * adet\n",
    "        elif secim==4:\n",
    "            toplam+=10 * adet\n",
    "        elif secim==5:\n",
    "            toplam+=15 * adet\n",
    "        elif secim==6:\n",
    "            toplam+=5 * adet\n",
    "        if secim == 7:\n",
    "            break\n",
    "    else:\n",
    "        print(\"MENÜDE OLMAYAN SECİM....\")\n",
    "        break\n",
    "print(\"Odemeniz gereken toplam tutar = \",toplam,\"TL\")"
   ]
  },
  {
   "cell_type": "code",
   "execution_count": null,
   "id": "fdd8a24e",
   "metadata": {},
   "outputs": [],
   "source": [
    "while True :\n",
    "    kullanici_adi=input(\"lutfen kullanici adini girin\")\n",
    "    sifre=input(\"lutfen sifre girin\")\n",
    "    if kullanici_adi != \"berkay\":\n",
    "        print(\"kcksmd\")\n",
    "    elif sifre != \"kaplan\":\n",
    "        print(\"aaaa\")\n",
    "    else:\n",
    "        sayiadedi=int(input(\"sayi adedi girin\"))\n",
    "        toplam=0\n",
    "        for i in range(sayiadedi):\n",
    "            sayi=int(input(\"{} . sayiyi girin\".format(i+1)))\n",
    "            toplam+=sayi\n",
    "        print(toplam)\n",
    "        break"
   ]
  },
  {
   "cell_type": "code",
   "execution_count": null,
   "id": "faee37a2",
   "metadata": {},
   "outputs": [],
   "source": [
    "kullanici_adi=\"berkay\"\n",
    "sifre=\"aleyna\"\n",
    "\n",
    "sayilar=list()\n",
    "while True:\n",
    "    kullanici_adi=input(\"lutfen kullanici adinizi girin : \")\n",
    "    sifre=input(\"lutfen sifrenizi girin : \")\n",
    "    if (kullanici_adi != kullanici_adi) and (sifre != sifre):\n",
    "        print(\"kullanici adi veya sifre hatali...\")\n",
    "    else:\n",
    "        sayiadedi=int(input(\"lutfen kac adet sayi toplamak istediginizi girin : \"))\n",
    "        for i in range(sayiadedi):\n",
    "            sayi=int(input(\"{} . sayiyi girin : \".format(i+1)))\n",
    "            sayilar+=[sayi]#sayi.append(sayi)\n",
    "        print(\"girdiginiz sayilarin toplami = \",sum(sayilar))\n",
    "        print(\"girdiginiz sayilar :\",*sayilar)\n",
    "    break"
   ]
  },
  {
   "cell_type": "code",
   "execution_count": null,
   "id": "89eea6c8",
   "metadata": {},
   "outputs": [],
   "source": [
    "# BOŞ LİSTEYE ELEMAN EKLEME \n",
    "sayilar=list()\n",
    "sayi=None\n",
    "sayi_adedi=int(input(\"lutfen sayi adedi : girin : \"))\n",
    "for i in range(sayi_adedi):\n",
    "    sayi=int(input(\"{} . sayiyi girin : \".format(i+1)))\n",
    "    sayilar+=[sayi]\n",
    "    #sayilar.append(sayi)\n",
    "print(\"girdiginiz sayilarin liste hali = \",sayilar)"
   ]
  },
  {
   "cell_type": "code",
   "execution_count": null,
   "id": "5fa6f5ac",
   "metadata": {},
   "outputs": [],
   "source": [
    "sayi=input(\"lutfen sayi girin\")\n",
    "print(sayi)\n",
    "sayi1=sayi.split(\"-\")\n",
    "print(sayi1)"
   ]
  },
  {
   "cell_type": "code",
   "execution_count": null,
   "id": "d07a83b9",
   "metadata": {},
   "outputs": [],
   "source": [
    "kullanici_adi=\"berkay\"\n",
    "\n",
    "sifre=\"aleyna\"\n",
    "\n",
    "sayilar=list()\n",
    "\n",
    "while True:\n",
    "    _kullanici_adi=input(\"lutfen kullanici adinizi girin : \")\n",
    "    _sifre=input(\"lutfen sifrenizi girin : \")\n",
    "    if (_sifre != sifre) :\n",
    "        print(\"kullanici adi veya sifre hatali...\")\n",
    "    elif(_kullanici_adi != kullanici_adi):\n",
    "        print(\"ddd\")\n",
    "    else:\n",
    "        sayiadedi = int(input(\"lutfen kac adet sayi toplamak istediginizi girin : \"))\n",
    "        for i in range(sayiadedi):\n",
    "            sayi = int(input(\"{} . sayiyi girin : \".format(i + 1)))\n",
    "            sayilar.append(sayi)\n",
    "            sayilar.sort()\n",
    "        break\n",
    "        print(sayilar)\n",
    "        "
   ]
  },
  {
   "cell_type": "code",
   "execution_count": null,
   "id": "2cbba159",
   "metadata": {},
   "outputs": [],
   "source": [
    "import time\n",
    "stok_defter=10\n",
    "alinan_defter=0\n",
    "sepet=0\n",
    "alinan_defter = int(input(\"kac adet defter almak istiyorsunuz : \"))\n",
    "\n",
    "while True:\n",
    "    stok_defter -= alinan_defter\n",
    "    sepet += alinan_defter\n",
    "    if alinan_defter > stok_defter:\n",
    "        print(\"stoğumuzda yetrli sayida defter bulunmamaktadir...\")\n",
    "        break\n",
    "    if  (alinan_defter > 0 ) and (alinan_defter <=10):\n",
    "\n",
    "        for i in range(alinan_defter):\n",
    "            if i < 10:\n",
    "                print(\" 1 defter sepetinize eklendi ...\")\n",
    "                time.sleep(1)\n",
    "       \n",
    "        print(\"stokta kalan defter = \", stok_defter)\n",
    "        print(\"sepetinizdeki defter sayisi =\", sepet)\n",
    "\n",
    "        alinan_defter = int(input(\"kac adet defter almak istiyorsunuz : \"))\n",
    "    elif stok_defter <= 0 :\n",
    "        print(\"stokta defter kalmadi...\")\n",
    "        break"
   ]
  },
  {
   "cell_type": "code",
   "execution_count": null,
   "id": "b94f172a",
   "metadata": {},
   "outputs": [],
   "source": [
    "import time\n",
    "stok_defter=10\n",
    "alinan_defter=0\n",
    "sepet=0\n",
    "alinan_defter = int(input(\"kac adet defter almak istiyorsunuz : \"))\n",
    "for i in range(alinan_defter):\n",
    "    if i > stok_defter:\n",
    "        print(\"yok\")\n",
    "        break\n",
    "    sepet+=1\n",
    "    print(\"1 defter eklendi...\")\n",
    "print(sepet)\n"
   ]
  },
  {
   "cell_type": "code",
   "execution_count": null,
   "id": "28ac365d",
   "metadata": {},
   "outputs": [
    {
     "name": "stdout",
     "output_type": "stream",
     "text": [
      "lutfen sifrenizi girin : berkay\n",
      "PARA CEKMEK İCİN LUTFEN 1 ' E BASİN\n",
      "PARA YATİRMAK İCİN LUTFEN 2 ' E BASİN\n",
      "BAKİYE SORGULAMAK İCİN LUTFEN 3 ' E BASİN\n",
      "CİKİS YAPMAK İCİN LUTFEN 4 ' E BASİN \n",
      "Lutfen Yukaridaki İslemlerden 1 Tanesini secin...\n",
      "4\n",
      "cikis yapiliyor lutfen bekleyin ... \n"
     ]
    }
   ],
   "source": [
    "import time\n",
    "bakiye=500\n",
    "kart_sifresi=\"berkay\"\n",
    "sifre_kontrol=0\n",
    "while True:\n",
    "    sifre=input(\"lutfen sifrenizi girin : \")\n",
    "    if kart_sifresi == sifre:\n",
    "        print( \"PARA CEKMEK İCİN LUTFEN 1 ' E BASİN\\nPARA YATİRMAK İCİN LUTFEN 2 ' E BASİN\\nBAKİYE SORGULAMAK İCİN LUTFEN 3 ' E BASİN\\nCİKİS YAPMAK İCİN LUTFEN 4 ' E BASİN \")\n",
    "        while True:\n",
    "\n",
    "            secim = int(input(\"Lutfen Yukaridaki İslemlerden 1 Tanesini secin...\\n\"))\n",
    "            if secim == 1:\n",
    "                cekilecek_miktar = int(input(\"lutfen cekmek istediginiz para miktarini girin : \"))\n",
    "                if cekilecek_miktar > bakiye:\n",
    "                    print(\"yetersiz bakiye ... \")\n",
    "                elif bakiye <= cekilecek_miktar:\n",
    "                    print(\"isleminiz basarili bir sekilde gerceklestiriliyor lutfen bekleyin ... \")\n",
    "                    time.sleep(1)\n",
    "                    bakiye -= cekilecek_miktar\n",
    "                    print(\"guncel bakiyeniz = \", bakiye)\n",
    "\n",
    "            elif secim == 2:\n",
    "                yatirilacak_tutar = (\"lutfen yatiracaginiz para miktarini girin : \")\n",
    "                bakiye += yatirilacak_tutar\n",
    "                print(\"guncel bakiyeniz = \", )\n",
    "            elif secim == 3:\n",
    "                print(\"bakiyeniz : \", bakiye)\n",
    "            elif secim == 4:\n",
    "                print(\"cikis yapiliyor lutfen bekleyin ... \")\n",
    "                time.sleep(2)\n",
    "                break\n",
    "    if kart_sifresi != sifre:\n",
    "        sifre_kontrol += 1\n",
    "        if sifre_kontrol == 3:\n",
    "            print(\"kartiniz bloke oldu...\")\n",
    "            break\n",
    "\n"
   ]
  },
  {
   "cell_type": "code",
   "execution_count": 12,
   "id": "07264438",
   "metadata": {},
   "outputs": [
    {
     "name": "stdout",
     "output_type": "stream",
     "text": [
      "lutfen bir sayi giriniz : 45\n",
      "asal degil\n"
     ]
    }
   ],
   "source": [
    "sayi=int(input(\"lutfen bir sayi giriniz : \"))\n",
    "i=2\n",
    "anahtar=False\n",
    "while i<sayi:\n",
    "    if sayi % i == 0:\n",
    "        anahtar=False\n",
    "        break\n",
    "    else:\n",
    "        anahtar=True\n",
    "    i+=1\n",
    "if  anahtar == True:\n",
    "    print(\"asal sayi \")\n",
    "else :\n",
    "    print(\"asal degil\")"
   ]
  },
  {
   "cell_type": "code",
   "execution_count": 13,
   "id": "74be707f",
   "metadata": {},
   "outputs": [
    {
     "name": "stdout",
     "output_type": "stream",
     "text": [
      "sayi girin : 7\n",
      "asal sayi\n"
     ]
    }
   ],
   "source": [
    "sayi=int(input(\"sayi girin : \"))\n",
    "anahtar = True\n",
    "for i in range(2,sayi-1):\n",
    "    if (sayi % i) == 0:\n",
    "        anahtar = False\n",
    "        break\n",
    "if anahtar == True:\n",
    "    \n",
    "    print(\"asal sayi\")\n",
    "else:\n",
    "    print(\"asal degil\")"
   ]
  },
  {
   "cell_type": "code",
   "execution_count": 14,
   "id": "da141b51",
   "metadata": {},
   "outputs": [
    {
     "name": "stdout",
     "output_type": "stream",
     "text": [
      "2\n",
      "3\n",
      "5\n",
      "7\n",
      "11\n",
      "13\n",
      "17\n",
      "19\n",
      "23\n",
      "29\n",
      "31\n",
      "37\n",
      "41\n",
      "43\n",
      "47\n",
      "53\n",
      "59\n",
      "61\n",
      "67\n",
      "71\n",
      "73\n",
      "79\n",
      "83\n",
      "89\n",
      "97\n",
      "101\n",
      "103\n",
      "107\n",
      "109\n",
      "113\n",
      "127\n",
      "131\n",
      "137\n",
      "139\n",
      "149\n",
      "151\n",
      "157\n",
      "163\n",
      "167\n",
      "173\n",
      "179\n",
      "181\n",
      "191\n",
      "193\n",
      "197\n",
      "199\n",
      "211\n",
      "223\n",
      "227\n",
      "229\n",
      "233\n",
      "239\n",
      "241\n",
      "251\n",
      "257\n",
      "263\n",
      "269\n",
      "271\n",
      "277\n",
      "281\n",
      "283\n",
      "293\n",
      "307\n",
      "311\n",
      "313\n",
      "317\n",
      "331\n",
      "337\n",
      "347\n",
      "349\n",
      "353\n",
      "359\n",
      "367\n",
      "373\n",
      "379\n",
      "383\n",
      "389\n",
      "397\n",
      "401\n",
      "409\n",
      "419\n",
      "421\n",
      "431\n",
      "433\n",
      "439\n",
      "443\n",
      "449\n",
      "457\n",
      "461\n",
      "463\n",
      "467\n",
      "479\n",
      "487\n",
      "491\n",
      "499\n",
      "503\n",
      "509\n",
      "521\n",
      "523\n",
      "541\n",
      "547\n",
      "557\n",
      "563\n",
      "569\n",
      "571\n",
      "577\n",
      "587\n",
      "593\n",
      "599\n",
      "601\n",
      "607\n",
      "613\n",
      "617\n",
      "619\n",
      "631\n",
      "641\n",
      "643\n",
      "647\n",
      "653\n",
      "659\n",
      "661\n",
      "673\n",
      "677\n",
      "683\n",
      "691\n",
      "701\n",
      "709\n",
      "719\n",
      "727\n",
      "733\n",
      "739\n",
      "743\n",
      "751\n",
      "757\n",
      "761\n",
      "769\n",
      "773\n",
      "787\n",
      "797\n",
      "809\n",
      "811\n",
      "821\n",
      "823\n",
      "827\n",
      "829\n",
      "839\n",
      "853\n",
      "857\n",
      "859\n",
      "863\n",
      "877\n",
      "881\n",
      "883\n",
      "887\n",
      "907\n",
      "911\n",
      "919\n",
      "929\n",
      "937\n",
      "941\n",
      "947\n",
      "953\n",
      "967\n",
      "971\n",
      "977\n",
      "983\n",
      "991\n",
      "997\n"
     ]
    }
   ],
   "source": [
    "for i in range(2,1000):\n",
    "    asal = False\n",
    "    for j in range(2,i):\n",
    "        if i % j == 0:\n",
    "            asal=True\n",
    "    if asal ==False:\n",
    "        print(i)\n",
    "        "
   ]
  },
  {
   "cell_type": "code",
   "execution_count": 2,
   "id": "8656c4bb",
   "metadata": {},
   "outputs": [
    {
     "name": "stdout",
     "output_type": "stream",
     "text": [
      "2\n",
      "3\n",
      "5\n",
      "7\n",
      "11\n",
      "13\n",
      "17\n",
      "19\n",
      "23\n",
      "29\n",
      "31\n",
      "37\n",
      "41\n",
      "43\n",
      "47\n",
      "53\n",
      "59\n",
      "61\n",
      "67\n",
      "71\n",
      "73\n",
      "79\n",
      "83\n",
      "89\n",
      "97\n"
     ]
    }
   ],
   "source": [
    "i=2\n",
    "while i<100:\n",
    "    asal=True\n",
    "    j=2\n",
    "    while j<i:\n",
    "        if i%j==0:\n",
    "            asal=False\n",
    "        j+=1\n",
    "    if asal == True:\n",
    "        print(i)\n",
    "    i+=1"
   ]
  },
  {
   "cell_type": "code",
   "execution_count": 6,
   "id": "e0027686",
   "metadata": {},
   "outputs": [
    {
     "name": "stdout",
     "output_type": "stream",
     "text": [
      "sayi:3\n",
      "6\n"
     ]
    }
   ],
   "source": [
    "sayi=int(input(\"sayi:\"))\n",
    "fakt=1\n",
    "for i in range(1,sayi+1):\n",
    "    fakt*=i\n",
    "print(fakt)"
   ]
  },
  {
   "cell_type": "code",
   "execution_count": 7,
   "id": "7044f174",
   "metadata": {},
   "outputs": [
    {
     "name": "stdout",
     "output_type": "stream",
     "text": [
      "sayi:4\n",
      "1 1 2 3 5 8 "
     ]
    }
   ],
   "source": [
    "sayi=int(input(\"sayi:\"))\n",
    "a,b,c=1,1,2\n",
    "print(a,b,c,end=\" \")\n",
    "for i in range(1,sayi):\n",
    "    a=b\n",
    "    b=c\n",
    "    c=a+b\n",
    "    print(c,end=\" \")"
   ]
  },
  {
   "cell_type": "code",
   "execution_count": 12,
   "id": "fa08e161",
   "metadata": {},
   "outputs": [
    {
     "name": "stdout",
     "output_type": "stream",
     "text": [
      "lutfen bir sayi giriniz sayi:28\n",
      "girdiginiz sayinin tam bolenleri : 1 2 4 7 14\n",
      "girdiginiz sayi mukkemmel sayi \n"
     ]
    }
   ],
   "source": [
    "tam_bolenler=list()\n",
    "sayi=int(input(\"lutfen bir sayi giriniz sayi:\"))\n",
    "for i in range(1,sayi):\n",
    "    if sayi % i == 0:\n",
    "        tam_bolenler.append(i)\n",
    "print(\"girdiginiz sayinin tam bolenleri :\",*tam_bolenler)\n",
    "if sayi == sum(tam_bolenler):\n",
    "    print(\"girdiginiz sayi mukkemmel sayi \")\n",
    "else:\n",
    "    print(\"girdiginiz sayi mukemmel sayi degildir \")"
   ]
  },
  {
   "cell_type": "code",
   "execution_count": 15,
   "id": "66a495d3",
   "metadata": {},
   "outputs": [
    {
     "name": "stdout",
     "output_type": "stream",
     "text": [
      "sayi:123\n",
      "0\n",
      "3\n",
      "[3, 2, 1]\n",
      "3\n"
     ]
    }
   ],
   "source": [
    "sayi=int(input(\"sayi:\"))\n",
    "liste=list()\n",
    "basamak_sayisi=0\n",
    "gecici_sayi=0\n",
    "while sayi>0:\n",
    "    sayi % 10\n",
    "    liste.append(sayi%10)\n",
    "    sayi=sayi//10\n",
    "    basamak_sayisi+=1\n",
    "print(sayi)\n",
    "print(basamak_sayisi)\n",
    "print(liste)\n",
    "print(len(liste))\n",
    "# if len(liste)==4:\n",
    "#     sayi=liste[0]**4+liste[1]**4+liste[2]**4+liste[3]**4\n",
    "#     print(\"armstrong sayi girdiniz\")\n",
    "for i in liste:\n",
    "    gecici_sayi+=i**4\n",
    "if sayi == gecici_sayi:\n",
    "    print(\"armstrong sayi\")"
   ]
  },
  {
   "cell_type": "code",
   "execution_count": null,
   "id": "3e5cda5f",
   "metadata": {},
   "outputs": [],
   "source": [
    "sayi=int(input(\"sayi:\"))\n",
    "gecici_sayi=0\n",
    "gecici_sayi=sayi\n",
    "liste=list()\n",
    "basamak_sayisi=0\n",
    "\n",
    "armstrong=0\n",
    "while sayi>0:\n",
    "    sayi % 10\n",
    "    liste.append(sayi%10)\n",
    "    sayi=sayi//10\n",
    "    basamak_sayisi+=1\n",
    "print(basamak_sayisi)\n",
    "print(liste)\n",
    "print(len(liste))\n",
    "# if len(liste)==4:\n",
    "#     sayi=liste[0]**4+liste[1]**4+liste[2]**4+liste[3]**4\n",
    "#     print(\"armstrong sayi girdiniz\")\n",
    "for i in liste:\n",
    "    armstrong+=i**4\n",
    "if armstrong == gecici_sayi:\n",
    "    print(\"armstrong sayi\")"
   ]
  },
  {
   "cell_type": "code",
   "execution_count": 1,
   "id": "f011aed8",
   "metadata": {},
   "outputs": [
    {
     "name": "stdout",
     "output_type": "stream",
     "text": [
      "lutfen birinci sayiyi girin : 4\n",
      "lutfen ikinci sayiyi girin : 8\n",
      "EBOB(4 , 8) = 4\n"
     ]
    }
   ],
   "source": [
    "sayi1=int(input(\"lutfen birinci sayiyi girin : \"))\n",
    "sayi2=int(input(\"lutfen ikinci sayiyi girin : \"))\n",
    "enbuyuk=sayi1\n",
    "enkucuk=sayi2\n",
    "ebob=0\n",
    "ekok=1\n",
    "if sayi2 > sayi1:\n",
    "    enbuyuk=sayi2\n",
    "if sayi1 < sayi2:\n",
    "    enkucuk=sayi1\n",
    "\n",
    "for i in range(1,enkucuk+1):\n",
    "    if (enbuyuk % i == 0) and (enkucuk % i == 0):\n",
    "        ebob=i\n",
    "print(f\"EBOB({sayi1} , {sayi2}) = {ebob}\")"
   ]
  },
  {
   "cell_type": "code",
   "execution_count": 1,
   "id": "b76ed58d",
   "metadata": {},
   "outputs": [
    {
     "name": "stdout",
     "output_type": "stream",
     "text": [
      " sayi : 4\n",
      "girdiginiz eleman listede yok\n"
     ]
    }
   ],
   "source": [
    "liste=[1,2,3]\n",
    "sayi=int(input(\" sayi : \"))\n",
    "eleman=False\n",
    "for i in range(len(liste)):\n",
    "        if liste[i]==sayi:\n",
    "            eleman=True\n",
    "if eleman==True:\n",
    "    print(\" girdiginiz eleman listede var\")\n",
    "else:\n",
    "    print(\"girdiginiz eleman listede yok\")"
   ]
  },
  {
   "cell_type": "code",
   "execution_count": 3,
   "id": "f3b0f7e2",
   "metadata": {},
   "outputs": [
    {
     "name": "stdout",
     "output_type": "stream",
     "text": [
      "sayi : 45\n",
      "girdiginiz eleman listede yok\n"
     ]
    }
   ],
   "source": [
    "liste=[1,2,3]\n",
    "sayi=int(input(\"sayi : \"))\n",
    "eleman=False\n",
    "for i in liste:\n",
    "        if i==sayi:\n",
    "            print(i)\n",
    "            eleman=True\n",
    "if eleman==True:\n",
    "    print(\" girdiginiz eleman listede var\")\n",
    "else:\n",
    "    print(\"girdiginiz eleman listede yok\")\n",
    "    "
   ]
  },
  {
   "cell_type": "code",
   "execution_count": 7,
   "id": "16d8e1ab",
   "metadata": {},
   "outputs": [
    {
     "name": "stdout",
     "output_type": "stream",
     "text": [
      "sayi : 45\n",
      " girdiginiz eleman listede yok\n"
     ]
    }
   ],
   "source": [
    "liste=[1,2,3]\n",
    "sayi=int(input(\"sayi : \"))\n",
    "eleman = False\n",
    "if sayi in liste:\n",
    "    print(\"girdiginiz eleman listede var\")\n",
    "else:\n",
    "    print(\" girdiginiz eleman listede yok\")\n",
    "    "
   ]
  },
  {
   "cell_type": "code",
   "execution_count": 1,
   "id": "4303be23",
   "metadata": {},
   "outputs": [
    {
     "name": "stdout",
     "output_type": "stream",
     "text": [
      "lutfen kullanici adini girinberkay\n",
      "lutfen sifre girinkaplan\n",
      "sayi adedi girin4\n",
      "0 . sayiyi girin1\n",
      "1\n",
      "1 . sayiyi girin2\n",
      "3\n",
      "2 . sayiyi girin3\n",
      "6\n",
      "3 . sayiyi girin4\n",
      "10\n"
     ]
    }
   ],
   "source": [
    "while True :\n",
    "    kullanici_adi=input(\"lutfen kullanici adini girin\")\n",
    "    sifre=input(\"lutfen sifre girin\")\n",
    "    if kullanici_adi != \"berkay\":\n",
    "        print(\"kcksmd\")\n",
    "    elif sifre != \"kaplan\":\n",
    "        print(\"aaaa\")\n",
    "    else:\n",
    "        sayiadedi=int(input(\"sayi adedi girin\"))\n",
    "        toplam=0\n",
    "        for i in range(sayiadedi):\n",
    "            sayi=int(input(\"{} . sayiyi girin\".format(i)))\n",
    "            toplam+=sayi\n",
    "            print(toplam)\n",
    "        break"
   ]
  },
  {
   "cell_type": "code",
   "execution_count": 1,
   "id": "b71e3818",
   "metadata": {},
   "outputs": [
    {
     "name": "stdout",
     "output_type": "stream",
     "text": [
      "sayi : 20\n",
      "cift sayilar toplami = 90 , tek sayilari toplami = 100\n"
     ]
    }
   ],
   "source": [
    "sayi = int(input(\"sayi : \"))\n",
    "tek_sayilar=list()\n",
    "cif_sayilar=list()\n",
    "\n",
    "for i in range(1 ,sayi ):\n",
    "    if i % 2 == 0:\n",
    "        cif_sayilar.append(i)\n",
    "    else:\n",
    "        tek_sayilar.append(i)\n",
    "print(\"cift sayilar toplami = {} , tek sayilari toplami = {}\".format(sum(cif_sayilar), sum(tek_sayilar)))"
   ]
  },
  {
   "cell_type": "code",
   "execution_count": 2,
   "id": "cf8edfe1",
   "metadata": {},
   "outputs": [
    {
     "name": "stdout",
     "output_type": "stream",
     "text": [
      "sayi : 60\n",
      "cift sayilar toplami = 870 , tek sayilar toplami = 900\n"
     ]
    }
   ],
   "source": [
    "sayi = int(input(\"sayi : \"))\n",
    "cift_toplam=0\n",
    "tek_toplam=0\n",
    "for i in range(1 , sayi):\n",
    "    if i % 2 == 0:\n",
    "        cift_toplam+=i\n",
    "    else:\n",
    "        tek_toplam+=i\n",
    "print(f\"cift sayilar toplami = {cift_toplam} , tek sayilar toplami = {tek_toplam}\")"
   ]
  },
  {
   "cell_type": "code",
   "execution_count": 3,
   "id": "7a7446a0",
   "metadata": {},
   "outputs": [
    {
     "name": "stdout",
     "output_type": "stream",
     "text": [
      "15 sayisi 5 in katidir\n",
      "85 sayisi 5 in katidir\n",
      "65 sayisi 5 in katidir\n",
      "30 sayisi 5 in katidir\n",
      "95 sayisi 5 in katidir\n",
      "10 sayisi 5 in katidir\n",
      "20 sayisi 5 in katidir\n",
      "55 sayisi 5 in katidir\n",
      "5 sayisi 5 in katidir\n"
     ]
    }
   ],
   "source": [
    "sayilar = [18,15,22,19,85,32,65,30,95,10,12,20,32,55,34,28,101,5,4,32]\n",
    "for i in sayilar:\n",
    "    if i % 5 == 0 :\n",
    "        print(f\"{i} sayisi 5 in katidir\")\n"
   ]
  },
  {
   "cell_type": "code",
   "execution_count": 4,
   "id": "a14de006",
   "metadata": {},
   "outputs": [
    {
     "name": "stdout",
     "output_type": "stream",
     "text": [
      "15 sayisi 5 in katidir\n",
      "85 sayisi 5 in katidir\n",
      "65 sayisi 5 in katidir\n",
      "30 sayisi 5 in katidir\n",
      "95 sayisi 5 in katidir\n",
      "10 sayisi 5 in katidir\n",
      "20 sayisi 5 in katidir\n",
      "55 sayisi 5 in katidir\n",
      "5 sayisi 5 in katidir\n"
     ]
    }
   ],
   "source": [
    "\n",
    "sayilar = [18,15,22,19,85,32,65,30,95,10,12,20,32,55,34,28,101,5,4,32]\n",
    "j = 0\n",
    "while j  < len(sayilar):\n",
    "    if sayilar[j] % 5 == 0 :\n",
    "        print(f\"{sayilar[j]} sayisi 5 in katidir\")\n",
    "    j+=1\n"
   ]
  },
  {
   "cell_type": "code",
   "execution_count": 5,
   "id": "1f8128e3",
   "metadata": {},
   "outputs": [
    {
     "name": "stdout",
     "output_type": "stream",
     "text": [
      "baslangic degeri : 12\n",
      "bitis  degeri : 1204\n",
      "tek sayilar toplami  = 362368 , cift sayilar toplami = 362976 \n"
     ]
    }
   ],
   "source": [
    "\n",
    "baslangic = int(input(\"baslangic degeri : \"))\n",
    "bitis = int(input(\"bitis  degeri : \"))\n",
    "\n",
    "cift_sayilar = list()\n",
    "tek_sayilar = list()\n",
    "for i in range(baslangic , bitis+1):\n",
    "\n",
    "    if  i % 2 == 0 :\n",
    "        cift_sayilar.append(i)\n",
    "    else:\n",
    "        tek_sayilar.append(i)\n",
    "print(\"tek sayilar toplami  = {} , cift sayilar toplami = {} \".format(sum(tek_sayilar), sum(cift_sayilar)))"
   ]
  },
  {
   "cell_type": "code",
   "execution_count": 6,
   "id": "ee14eb67",
   "metadata": {},
   "outputs": [
    {
     "name": "stdout",
     "output_type": "stream",
     "text": [
      "baslangic degeri : 45\n",
      "bitis  degeri : 22222\n",
      "ortalama =  11133.0\n"
     ]
    }
   ],
   "source": [
    "baslangic = int(input(\"baslangic degeri : \"))\n",
    "bitis = int(input(\"bitis  degeri : \"))\n",
    "toplam=0\n",
    "terim_sayisi=0\n",
    "sayac=0\n",
    "for i in range(baslangic , bitis):\n",
    "    toplam+=i\n",
    "    #terim_sayisi = (bitis-baslangic) + 1\n",
    "    sayac+=1\n",
    "print(\"ortalama = \",toplam/sayac)#toplam / terim_sayisi"
   ]
  },
  {
   "cell_type": "code",
   "execution_count": 7,
   "id": "e7eb2ab8",
   "metadata": {},
   "outputs": [
    {
     "name": "stdout",
     "output_type": "stream",
     "text": [
      "0 0\n",
      "0 1\n",
      "0 2\n",
      "1 0\n",
      "1 1\n",
      "1 2\n",
      "2 0\n",
      "2 1\n",
      "2 2\n"
     ]
    }
   ],
   "source": [
    "for i in range(3):\n",
    "    for j in range(3):\n",
    "        print(i,j )"
   ]
  },
  {
   "cell_type": "code",
   "execution_count": null,
   "id": "54231980",
   "metadata": {},
   "outputs": [],
   "source": []
  }
 ],
 "metadata": {
  "kernelspec": {
   "display_name": "Python 3 (ipykernel)",
   "language": "python",
   "name": "python3"
  },
  "language_info": {
   "codemirror_mode": {
    "name": "ipython",
    "version": 3
   },
   "file_extension": ".py",
   "mimetype": "text/x-python",
   "name": "python",
   "nbconvert_exporter": "python",
   "pygments_lexer": "ipython3",
   "version": "3.10.2"
  }
 },
 "nbformat": 4,
 "nbformat_minor": 5
}
