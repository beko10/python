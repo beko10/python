{
 "cells": [
  {
   "cell_type": "markdown",
   "id": "f4dab75e",
   "metadata": {},
   "source": [
    "DECORATORS FONK. ÇALİŞMA MANTİGİ\n",
    "--------------------------------------------------------------\n",
    "Decorators fonk. bir diğer tanimladigimiz fonklarda da ayni işlemi yapacak isek decorators fonk. kullanarak koslarimizi \n",
    "\n",
    "kısaltabiliriz.\n",
    "\n",
    "def decorators_fonk(fonk): #decorators fonk. parametre olarak fonk. adresi alir\n",
    "    \n",
    "    def fonk_bilgisi():# iç fonk. tanimlandi ve iç  fonk. yapacagi işlemler aşğidaki kod satirinda belirlendi\n",
    "        \n",
    "        print(\"fonksiyon çalisti...\")#decorators fonk. parametre olarak ilgili fonk.geldiginde fonk. calisti yazar\n",
    "        \n",
    "        fonk()#ilgili fonk. yapacagi işlem yapilir\n",
    "        \n",
    "        print(\"fonksiyon bitti...\")#fonk. bitti uyarisi verilir.\n",
    "    \n",
    "    return fonk_bilgisi()#decorators fon. bili_ver() fonk. return edilir \n",
    "\n",
    "@decorators_fonk  #soru_sor fonk.için decorators fonk. cagirildi\n",
    "\n",
    "def soru_sor():\n",
    "    \n",
    "    print(\"soru sordum...\")\n",
    "\n",
    "@decorators_fonk\n",
    "\n",
    "def cevap_ver():\n",
    "    \n",
    "    print(\"cevap verdim...\")"
   ]
  },
  {
   "cell_type": "code",
   "execution_count": 1,
   "id": "3def0898",
   "metadata": {},
   "outputs": [
    {
     "name": "stdout",
     "output_type": "stream",
     "text": [
      "fonksiyon çalisti...\n",
      "soru sordum...\n",
      "fonksiyon bitti...\n",
      "fonksiyon çalisti...\n",
      "cevap verdim...\n",
      "fonksiyon bitti...\n"
     ]
    }
   ],
   "source": [
    "def decorators_fonk(fonk):\n",
    "    def bilgi_ver():\n",
    "        print(\"fonksiyon çalisti...\")\n",
    "        fonk()\n",
    "        print(\"fonksiyon bitti...\")\n",
    "    return bilgi_ver()\n",
    "@decorators_fonk\n",
    "def soru_sor():\n",
    "    print(\"soru sordum...\")\n",
    "@decorators_fonk\n",
    "def cevap_ver():\n",
    "    print(\"cevap verdim...\")"
   ]
  },
  {
   "cell_type": "code",
   "execution_count": 2,
   "id": "7765bbd7",
   "metadata": {},
   "outputs": [
    {
     "name": "stdout",
     "output_type": "stream",
     "text": [
      "fonk. çalistirildi...\n",
      "berkay\n",
      "fonk. calismasi bitti...\n",
      "fonk. çalistirildi...\n",
      "kaplan\n",
      "fonk. calismasi bitti...\n"
     ]
    }
   ],
   "source": [
    "def decorators_fonk(fonk) : #parametre olarak ilgili fonk. ram deki adresi fonk. gonderildi\n",
    "    def fonk_bilgisi():\n",
    "        print(\"fonk. çalistirildi...\")\n",
    "        fonk()#ilgili fonk. cagirildi\n",
    "        print(\"fonk. calismasi bitti...\")\n",
    "    return fonk_bilgisi()\n",
    "@decorators_fonk\n",
    "def isim_soyle():\n",
    "    print(\"berkay\")\n",
    "@decorators_fonk\n",
    "def soyisim_sodyle():\n",
    "    print(\"kaplan\")"
   ]
  },
  {
   "cell_type": "code",
   "execution_count": null,
   "id": "fe717f9c",
   "metadata": {},
   "outputs": [],
   "source": []
  },
  {
   "cell_type": "code",
   "execution_count": null,
   "id": "a853c7a2",
   "metadata": {},
   "outputs": [],
   "source": []
  }
 ],
 "metadata": {
  "kernelspec": {
   "display_name": "Python 3 (ipykernel)",
   "language": "python",
   "name": "python3"
  },
  "language_info": {
   "codemirror_mode": {
    "name": "ipython",
    "version": 3
   },
   "file_extension": ".py",
   "mimetype": "text/x-python",
   "name": "python",
   "nbconvert_exporter": "python",
   "pygments_lexer": "ipython3",
   "version": "3.10.2"
  }
 },
 "nbformat": 4,
 "nbformat_minor": 5
}
